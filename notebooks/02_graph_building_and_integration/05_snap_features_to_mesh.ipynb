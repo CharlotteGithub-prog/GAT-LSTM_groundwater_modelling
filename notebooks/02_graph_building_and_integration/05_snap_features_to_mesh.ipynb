{
 "cells": [
  {
   "cell_type": "code",
   "execution_count": null,
   "id": "0",
   "metadata": {},
   "outputs": [],
   "source": [
    "# Load library imports\n",
    "import sys\n",
    "import torch\n",
    "import random\n",
    "import logging\n",
    "import numpy as np\n",
    "import pandas as pd\n",
    "import seaborn as sns\n",
    "import geopandas as gpd\n",
    "from scipy.stats import skew\n",
    "import matplotlib.pyplot as plt\n",
    "from shapely.geometry import box\n",
    "\n",
    "\n",
    "# Load project Imports\n",
    "from src.utils.config_loader import load_project_config\n",
    "from src.graph_building.graph_construction import build_mesh, \\\n",
    "    define_catchment_polygon\n",
    "from src.graph_building.data_merging import snap_stations_to_mesh\n",
    "from src.visualisation.mapped_visualisations import plot_interactive_mesh_with_stations"
   ]
  },
  {
   "cell_type": "code",
   "execution_count": null,
   "id": "1",
   "metadata": {},
   "outputs": [],
   "source": [
    "# Set up logger config\n",
    "logging.basicConfig(\n",
    "    level=logging.INFO,\n",
    "   format='%(levelname)s - %(message)s',\n",
    "#    format='%(asctime)s - %(levelname)s - %(name)s - %(message)s',\n",
    "    handlers=[logging.StreamHandler(sys.stdout)]\n",
    ")\n",
    "\n",
    "# Set up logger for file and load config file for paths and params\n",
    "logger = logging.getLogger(__name__)\n",
    "config = load_project_config(config_path=\"config/project_config.yaml\")\n",
    "notebook = True\n",
    "\n",
    "# Set up seeding to define global states\n",
    "random_seed = config[\"global\"][\"pipeline_settings\"][\"random_seed\"]\n",
    "random.seed(random_seed)\n",
    "np.random.seed(random_seed)\n",
    "torch.manual_seed(random_seed)\n",
    "torch.cuda.manual_seed_all(random_seed)\n",
    "torch.backends.cudnn.deterministic = True\n",
    "torch.backends.cudnn.benchmark = False\n",
    "\n",
    "# Define notebook demo catchment\n",
    "catchments_to_process = config[\"global\"][\"pipeline_settings\"][\"catchments_to_process\"]\n",
    "catchment = catchments_to_process[0]\n",
    "run_defra_API_calls = config[\"global\"][\"pipeline_settings\"][\"run_defra_api\"]\n",
    "\n",
    "logger.info(f\"Show Notebook Outputs: {notebook}\")\n",
    "logger.info(f\"Notebook Demo Catchment: {catchment.capitalize()}\")"
   ]
  },
  {
   "cell_type": "code",
   "execution_count": null,
   "id": "2",
   "metadata": {},
   "outputs": [],
   "source": [
    "# Select Catchment area from country wide gdf\n",
    "define_catchment_polygon(\n",
    "    england_catchment_gdf_path=config[catchment]['paths']['gis_catchment_boundary'],\n",
    "    target_mncat=config[catchment]['target_mncat'],\n",
    "    catchment=catchment,\n",
    "    polygon_output_path=config[catchment]['paths']['gis_catchment_dir']\n",
    ")\n",
    "\n",
    "# Build catchment mesh\n",
    "mesh_nodes_table, mesh_nodes_gdf, mesh_cells_gdf_polygons, catchment_polygon = build_mesh(\n",
    "    shape_filepath=config[catchment]['paths']['gis_catchment_dir'],\n",
    "    output_path=config[catchment]['paths']['mesh_nodes_output'],\n",
    "    catchment=catchment,\n",
    "    grid_resolution=config[catchment]['preprocessing']['graph_construction']['grid_resolution']\n",
    ")\n",
    "\n",
    "logger.info(f\"Pipeline step 'Build Mesh' complete for {catchment} catchment.\")"
   ]
  },
  {
   "cell_type": "markdown",
   "id": "3",
   "metadata": {},
   "source": [
    "Load in centroid node csv's"
   ]
  },
  {
   "cell_type": "code",
   "execution_count": null,
   "id": "4",
   "metadata": {},
   "outputs": [],
   "source": [
    "# input_path=config[catchment]['paths']['mesh_nodes_output']\n",
    "# grid_resolution=config[catchment]['preprocessing']['graph_construction']['grid_resolution']\n",
    "\n",
    "# mesh_input_path = input_path + '_' + str(grid_resolution) + '.csv'\n",
    "# mesh_nodes = pd.read_csv(mesh_input_path)"
   ]
  },
  {
   "cell_type": "markdown",
   "id": "5",
   "metadata": {},
   "source": [
    "Merge station list with polygon geometry using spatial join to snap stations to mesh"
   ]
  },
  {
   "cell_type": "code",
   "execution_count": null,
   "id": "6",
   "metadata": {},
   "outputs": [],
   "source": [
    "station_node_mapping = snap_stations_to_mesh(\n",
    "    station_list_path=config[catchment][\"paths\"][\"gwl_station_list_output\"],\n",
    "    polygon_geometry_path=config[catchment]['paths']['output_polygon_dir'],\n",
    "    output_path=config[catchment][\"paths\"][\"snapped_station_node_mapping\"],\n",
    "    mesh_nodes_gdf=mesh_nodes_gdf,\n",
    "    catchment=catchment\n",
    ")\n",
    "\n",
    "station_node_mapping"
   ]
  },
  {
   "cell_type": "code",
   "execution_count": null,
   "id": "7",
   "metadata": {},
   "outputs": [],
   "source": [
    "mesh_map = plot_interactive_mesh_with_stations(\n",
    "    mesh_nodes_gdf=mesh_nodes_gdf,\n",
    "    catchment_polygon=catchment_polygon,\n",
    "    map_blue=config['global']['visualisations']['maps']['map_blue'],\n",
    "    esri=config['global']['visualisations']['maps']['esri'],\n",
    "    esri_attr=config['global']['visualisations']['maps']['esri_attr'],\n",
    "    static_output_path=config[catchment]['visualisations']['maps']['static_mesh_map_output'],\n",
    "    interactive_output_path=config[catchment]['visualisations']['maps']['interactive_mesh_map_output'],\n",
    "    catchment=catchment,\n",
    "    grid_resolution=config[catchment]['preprocessing']['graph_construction']['grid_resolution'],\n",
    "    interactive=config['global']['visualisations']['maps']['display_interactive_map'],\n",
    "    stations_gdf=station_node_mapping\n",
    ")\n",
    "\n",
    "logger.info(f\"Pipeline step 'Interactive Mesh Mapping' complete for {catchment} catchment.\")\n",
    "\n",
    "# Display map in notebook\n",
    "mesh_map"
   ]
  },
  {
   "cell_type": "markdown",
   "id": "8",
   "metadata": {},
   "source": []
  }
 ],
 "metadata": {
  "kernelspec": {
   "display_name": ".venv",
   "language": "python",
   "name": "python3"
  },
  "language_info": {
   "codemirror_mode": {
    "name": "ipython",
    "version": 3
   },
   "file_extension": ".py",
   "mimetype": "text/x-python",
   "name": "python",
   "nbconvert_exporter": "python",
   "pygments_lexer": "ipython3",
   "version": "3.11.4"
  }
 },
 "nbformat": 4,
 "nbformat_minor": 5
}
