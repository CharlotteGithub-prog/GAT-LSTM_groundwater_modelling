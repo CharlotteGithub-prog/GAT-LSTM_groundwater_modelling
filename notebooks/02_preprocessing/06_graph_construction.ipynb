{
 "cells": [
  {
   "cell_type": "code",
   "execution_count": 1,
   "id": "1f06d18b",
   "metadata": {},
   "outputs": [],
   "source": [
    "# Libary Imports\n",
    "import sys\n",
    "import logging\n",
    "\n",
    "# Project Imports\n",
    "from src.utils.config_loader import load_project_config\n",
    "from src.preprocessing.graph_construction import build_mesh"
   ]
  },
  {
   "cell_type": "code",
   "execution_count": 2,
   "id": "51b7d840",
   "metadata": {},
   "outputs": [
    {
     "name": "stdout",
     "output_type": "stream",
     "text": [
      "INFO - Loading configuration from: /Users/charlotte/Desktop/Dissertation_Code/config/eden_project_config.yaml\n"
     ]
    }
   ],
   "source": [
    "# Set up logging config\n",
    "logging.basicConfig(\n",
    "    level=logging.INFO,\n",
    "   format='%(levelname)s - %(message)s',\n",
    "#    format='%(asctime)s - %(levelname)s - %(name)s - %(message)s',\n",
    "    handlers=[logging.StreamHandler(sys.stdout)]\n",
    ")\n",
    "\n",
    "# Set up logger for file and load config file for paths and params\n",
    "logger = logging.getLogger(__name__)\n",
    "config = load_project_config(config_path=\"config/eden_project_config.yaml\")"
   ]
  },
  {
   "cell_type": "code",
   "execution_count": 3,
   "id": "cbd712ed",
   "metadata": {},
   "outputs": [
    {
     "name": "stdout",
     "output_type": "stream",
     "text": [
      "INFO - BUILD_MESH: Starting mesh construction with input: data/01_raw/eden/gis/eden_catchment_boundary/NRFA_catchments.shp and resolution: 1000m\n",
      "\n",
      "INFO - Loading catchment boundary from: data/01_raw/eden/gis/eden_catchment_boundary/NRFA_catchments.shp\n",
      "INFO - Single polygon found in the catchment boundary.\n",
      "INFO - Catchment bounding box: min_x=326025.0, min_y=495525.0, max_x=388875.0, max_y=581725.0\n",
      "\n",
      "INFO - Number of x-coordinates (bottom-left): 64\n",
      "INFO - Number of y-coordinates (bottom-left): 88\n",
      "\n",
      "INFO - Generated 5632 grid cells within bounding box (before filtering).\n",
      "INFO - Filtered down to catchment boundary containing 2477 nodes\n",
      "\n",
      "INFO - First few mesh nodes (centroids with coordinates):\n",
      "\n",
      "   node_id   easting  northing       lon        lat\n",
      "0        0  326800.0  528012.5 -3.135741  54.641893\n",
      "1        1  326525.0  528925.0 -3.140231  54.650051\n",
      "2        2  326650.0  529687.5 -3.138486  54.656920\n",
      "3        3  327000.0  539475.0 -3.135516  54.744910\n",
      "4        4  326925.0  539712.5 -3.136740  54.747033\n",
      "\n",
      "INFO - Total number of mesh nodes (centroids) for the catchment: 2477\n",
      "\n",
      "INFO - Saved mesh nodes CSV to: data/02_processed/eden/eden_catchment_mesh_nodes.csv\n",
      "INFO - Saved mesh nodes GPKG to: data/02_processed/eden/eden_catchment_mesh_nodes.gpkg\n",
      "INFO - Saved mesh nodes shp to: data/02_processed/eden/eden_catchment_mesh_nodes.shp\n",
      "\n",
      "INFO - Pipeline step 'Build Mesh' complete.\n"
     ]
    }
   ],
   "source": [
    "# Define spatial boundary shape - file from https://nrfa.ceh.ac.uk/data/station/spatial_download/76007\n",
    "shape_filepath = config['paths']['gis_eden_catchment_boundary']\n",
    "grid_resolution = config['preprocessing']['graph_construction']['grid_resolution']\n",
    "\n",
    "output_file_paths = {\n",
    "    'mesh_nodes_csv_output': config['paths']['mesh_nodes_csv_output'],\n",
    "    'mesh_nodes_gpkg_output': config['paths']['mesh_nodes_gpkg_output'],\n",
    "    'mesh_nodes_shp_output': config['paths']['mesh_nodes_shp_output']\n",
    "}\n",
    "\n",
    "mesh_nodes_table, mesh_nodes_gdf, catchment_polygon = build_mesh(\n",
    "    shape_filepath=shape_filepath,\n",
    "    grid_resolution=grid_resolution,\n",
    "    output_paths=output_file_paths\n",
    ")\n",
    "\n",
    "logger.info(\"Pipeline step 'Build Mesh' complete.\")"
   ]
  }
 ],
 "metadata": {
  "kernelspec": {
   "display_name": "Python 3",
   "language": "python",
   "name": "python3"
  },
  "language_info": {
   "codemirror_mode": {
    "name": "ipython",
    "version": 3
   },
   "file_extension": ".py",
   "mimetype": "text/x-python",
   "name": "python",
   "nbconvert_exporter": "python",
   "pygments_lexer": "ipython3",
   "version": "3.11.4"
  }
 },
 "nbformat": 4,
 "nbformat_minor": 5
}
