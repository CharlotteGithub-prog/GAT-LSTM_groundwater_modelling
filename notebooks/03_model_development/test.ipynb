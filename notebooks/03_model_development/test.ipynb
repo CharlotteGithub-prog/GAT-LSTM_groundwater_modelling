{
 "cells": [
  {
   "cell_type": "code",
   "execution_count": null,
   "id": "0",
   "metadata": {},
   "outputs": [],
   "source": [
    "import torch\n",
    "\n",
    "# Define test path\n",
    "model_path = 'data/04_model/eden/model/best_model.pt' # Adjust this path as needed\n",
    "\n",
    "# Load the state dictionary\n",
    "try:\n",
    "    state_dict = torch.load(model_path)\n",
    "    print(\"Model state dictionary loaded successfully!\")\n",
    "except Exception as e:\n",
    "    print(f\"Error loading model: {e}\")\n",
    "    exit() # Exit if loading fails\n",
    "\n",
    "# --- Inspect the contents ---\n",
    "\n",
    "# Print all keys (layer names) in the state dictionary\n",
    "print(\"\\nKeys in the state dictionary:\")\n",
    "for key in state_dict.keys():\n",
    "    print(key)\n",
    "\n",
    "# Inspect the shape and device of a few params\n",
    "print(\"\\nExample parameters from the state dictionary (first few keys):\\n\")\n",
    "for i, (key, value) in enumerate(state_dict.items()):\n",
    "    if i >= 5: # Limit to first 5\n",
    "        break\n",
    "    print(f\"  Key: {key}\")\n",
    "    print(f\"  Shape: {value.shape}\")\n",
    "    print(f\"  Device: {value.device}\")\n",
    "    print(f\"      Value (first 5 elements): {value.flatten()[:5].tolist()}\\n\")\n",
    "\n",
    "if 'gat_layers.0.lin_src.weight' in state_dict:\n",
    "    print(f\"\\nShape of first GAT layer weights: {state_dict['gat_layers.0.lin_src.weight'].shape}\")"
   ]
  }
 ],
 "metadata": {
  "kernelspec": {
   "display_name": ".venv",
   "language": "python",
   "name": "python3"
  },
  "language_info": {
   "codemirror_mode": {
    "name": "ipython",
    "version": 3
   },
   "file_extension": ".py",
   "mimetype": "text/x-python",
   "name": "python",
   "nbconvert_exporter": "python",
   "pygments_lexer": "ipython3",
   "version": "3.11.4"
  }
 },
 "nbformat": 4,
 "nbformat_minor": 5
}
