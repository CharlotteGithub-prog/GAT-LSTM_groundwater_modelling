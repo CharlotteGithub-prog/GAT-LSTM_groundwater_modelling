{
 "cells": [
  {
   "cell_type": "code",
   "execution_count": null,
   "id": "0",
   "metadata": {},
   "outputs": [],
   "source": [
    "# Load library imports\n",
    "import sys\n",
    "import torch\n",
    "import random\n",
    "import logging\n",
    "import numpy as np\n",
    "import seaborn as sns\n",
    "import geopandas as gpd\n",
    "from scipy.stats import skew\n",
    "import matplotlib.pyplot as plt\n",
    "from shapely.geometry import Point\n",
    "\n",
    "\n",
    "# Load project Imports\n",
    "from src.utils.config_loader import load_project_config, deep_format, expanduser_tree\n",
    "from src.graph_building.graph_construction import build_mesh, \\\n",
    "    define_catchment_polygon\n",
    "from src.visualisation.mapped_visualisations import plot_interactive_mesh, \\\n",
    "    plot_interactive_mesh_colour_coded, plot_directional_mesh, \\\n",
    "        plot_geology_layers_interactive\n",
    "from src.data_ingestion.static_data_ingestion import load_land_cover_data, \\\n",
    "    load_process_elevation_data, derive_slope_data, get_geo_feats, save_final_static_data, \\\n",
    "        load_and_process_geology_layers, ingest_and_process_productivity, \\\n",
    "            derive_distance_to_river, plot_nearest_river_for_node, load_process_soil_hydrology\n",
    "from src.graph_building.data_merging import reorder_static_columns"
   ]
  },
  {
   "cell_type": "code",
   "execution_count": null,
   "id": "1",
   "metadata": {},
   "outputs": [],
   "source": [
    "# Set up logger config\n",
    "logging.basicConfig(\n",
    "    level=logging.INFO,\n",
    "   format='%(levelname)s - %(message)s',\n",
    "#    format='%(asctime)s - %(levelname)s - %(name)s - %(message)s',\n",
    "    handlers=[logging.StreamHandler(sys.stdout)]\n",
    ")\n",
    "\n",
    "# Set up logger for file and load config file for paths and params\n",
    "logger = logging.getLogger(__name__)\n",
    "config = load_project_config(config_path=\"config/project_config.yaml\")\n",
    "notebook = True\n",
    "\n",
    "# Set up root directory paths in config\n",
    "raw_data_root = config[\"global\"][\"paths\"][\"raw_data_root\"]\n",
    "results_root = config[\"global\"][\"paths\"][\"results_root\"]\n",
    "\n",
    "# Reformat config roots\n",
    "config = deep_format(\n",
    "    config,\n",
    "    raw_data_root=raw_data_root,\n",
    "    results_root=results_root\n",
    ")\n",
    "config = expanduser_tree(config)"
   ]
  },
  {
   "cell_type": "code",
   "execution_count": null,
   "id": "2",
   "metadata": {},
   "outputs": [],
   "source": [
    "# Set up seeding to define global states\n",
    "random_seed = config[\"global\"][\"pipeline_settings\"][\"random_seed\"]\n",
    "random.seed(random_seed)\n",
    "np.random.seed(random_seed)\n",
    "torch.manual_seed(random_seed)\n",
    "torch.cuda.manual_seed_all(random_seed)\n",
    "torch.backends.cudnn.deterministic = True\n",
    "torch.backends.cudnn.benchmark = False\n",
    "\n",
    "# Define notebook demo catchment\n",
    "catchments_to_process = config[\"global\"][\"pipeline_settings\"][\"catchments_to_process\"]\n",
    "catchment = catchments_to_process[0]\n",
    "run_defra_API_calls = config[\"global\"][\"pipeline_settings\"][\"run_defra_api\"]\n",
    "\n",
    "logger.info(f\"Show Notebook Outputs: {notebook}\")\n",
    "logger.info(f\"Notebook Demo Catchment: {catchment.capitalize()}\")"
   ]
  },
  {
   "cell_type": "markdown",
   "id": "3",
   "metadata": {},
   "source": [
    "Note: CAMELS-GB is a rich data resource at the correct resolution but the time series data ends in 2015 so is insufficient for this model. Some of the static features in the dataset are still applicable:\n",
    "\n",
    "- Land cover (e.g., % Urban, % Arable, etc.)\n",
    "- Elevation and slope (from DEMs in the CAMELS dataset)\n",
    "- Soil type / BFIHOST\n",
    "- Hydrogeological classifications (e.g., aquifer classes)\n",
    "- Geographic coordinates (for snapping)"
   ]
  },
  {
   "cell_type": "markdown",
   "id": "4",
   "metadata": {},
   "source": [
    "### Build mesh ###\n",
    "\n",
    "To align ingested data with"
   ]
  },
  {
   "cell_type": "code",
   "execution_count": null,
   "id": "5",
   "metadata": {},
   "outputs": [],
   "source": [
    "# Select Catchment area from country wide gdf\n",
    "define_catchment_polygon(\n",
    "    england_catchment_gdf_path=config[catchment]['paths']['gis_catchment_boundary'],\n",
    "    target_mncat=config[catchment]['target_mncat'],\n",
    "    catchment=catchment,\n",
    "    polygon_output_path=config[catchment]['paths']['gis_catchment_dir']\n",
    ")"
   ]
  },
  {
   "cell_type": "code",
   "execution_count": null,
   "id": "6",
   "metadata": {},
   "outputs": [],
   "source": [
    "# NB: mesh_nodes_gdf are the centroid coords, mesh_cells_gdf_polygons are polygons for e.g. averaging area\n",
    "mesh_nodes_table, mesh_nodes_gdf, mesh_cells_gdf_polygons, catchment_polygon = build_mesh(\n",
    "    shape_filepath=config[catchment]['paths']['gis_catchment_dir'],\n",
    "    output_path=config[catchment]['paths']['mesh_nodes_output'],\n",
    "    catchment=catchment,\n",
    "    grid_resolution=config[catchment]['preprocessing']['graph_construction']['grid_resolution']\n",
    ")"
   ]
  },
  {
   "cell_type": "markdown",
   "id": "7",
   "metadata": {},
   "source": [
    "### Land Cover Data Ingestion and Preprocessing ###"
   ]
  },
  {
   "cell_type": "code",
   "execution_count": null,
   "id": "8",
   "metadata": {},
   "outputs": [],
   "source": [
    "# UKCEH LCM2023\n",
    "agg_land_cover_df = load_land_cover_data(\n",
    "    tif_path=config[catchment]['paths']['raw_land_cover_path'],\n",
    "    csv_path=config[catchment]['paths']['land_cover_csv_path'],\n",
    "    catchment=catchment,\n",
    "    shape_filepath=config[catchment]['paths']['gis_catchment_dir']\n",
    ")\n",
    "\n",
    "display(agg_land_cover_df)"
   ]
  },
  {
   "cell_type": "markdown",
   "id": "9",
   "metadata": {},
   "source": [
    "**UKCEH Aggregate Class (AC) -> Mapped Classes**  \n",
    "    1. Broadleaf woodland -> 1. Woodland  \n",
    "    2. Coniferous woodland -> 1. Woodland  \n",
    "    3. Arable -> 2. Arable  \n",
    "    4. Improved grassland -> 3. Improved grassland  \n",
    "    5. Semi-natural grassland -> 4. Semi-natural grassland  \n",
    "    6. Mountain, heath and bog -> 5. Mountain, heath and bog  \n",
    "    7. Saltwater -> 6. Water & Coastal  \n",
    "    8. Freshwater -> 6. Water & Coastal  \n",
    "    9. Coastal -> 6. Water & Coastal  \n",
    "    10. Built-up areas and gardens -> 7. Urban & Suburban  "
   ]
  },
  {
   "cell_type": "code",
   "execution_count": null,
   "id": "10",
   "metadata": {},
   "outputs": [],
   "source": [
    "logger.info(f\"Preparing land cover data for visual check...\")\n",
    "\n",
    "# Convert land_cover_df to a GeoDataFrame and create a geometry column using the 'lon' and 'lat' coordinates\n",
    "geometry_lc_for_plot = [Point(xy) for xy in zip(agg_land_cover_df['lon'], agg_land_cover_df['lat'])]\n",
    "land_cover_gdf_for_plot = gpd.GeoDataFrame(agg_land_cover_df.copy(), geometry=geometry_lc_for_plot, crs=\"EPSG:4326\")\n",
    "    \n",
    "land_cover_labels = {1: \"Woodland\", 2: \"Arable\", 3: \"Improved grassland\",\n",
    "                     4: \"Semi-Natural Grassland\", 5: \"Mountain, heath and bog\",\n",
    "                     6: \"Water & Coastal\", 7: \"Urban and Suburban\"}\n",
    "\n",
    "land_cover_colors = {1: \"#665142\", 2: \"#a2a182\", 3: \"#9CBD8B\", 4: \"#647D57\",\n",
    "                     5: \"#b7b1aa\", 6: \"#4d85ba\", 7: \"#8e412e\"}\n",
    "\n",
    "# Plot bounding box of data to check spatial geometry (notebook only)\n",
    "land_cover_map = plot_interactive_mesh_colour_coded(\n",
    "    mesh_nodes_gdf=land_cover_gdf_for_plot,\n",
    "    catchment_polygon=catchment_polygon,\n",
    "    map_blue=config['global']['visualisations']['maps']['map_blue'],\n",
    "    esri=config['global']['visualisations']['maps']['esri'],\n",
    "    esri_attr=config['global']['visualisations']['maps']['esri_attr'],\n",
    "    static_output_path=f\"{config[catchment]['visualisations']['maps']['static_mesh_map_output']}_land_cover\",\n",
    "    interactive_output_path=f\"{config[catchment]['visualisations']['maps']['interactive_mesh_map_output']}_land_cover\",\n",
    "    category_colors=land_cover_colors,\n",
    "    category_labels=land_cover_labels,\n",
    "    grid_resolution=config[catchment]['preprocessing']['graph_construction']['grid_resolution'],\n",
    "    interactive=config['global']['visualisations']['maps']['display_interactive_map']\n",
    ")\n",
    "\n",
    "# Display map in notebook\n",
    "land_cover_map"
   ]
  },
  {
   "cell_type": "markdown",
   "id": "11",
   "metadata": {},
   "source": [
    "Merge into nodes mesh"
   ]
  },
  {
   "cell_type": "code",
   "execution_count": null,
   "id": "12",
   "metadata": {},
   "outputs": [],
   "source": [
    "merged_gdf_nodes_landuse = mesh_nodes_gdf.merge(\n",
    "    agg_land_cover_df[['easting', 'northing', 'land_cover_code']],\n",
    "    on=['easting', 'northing'],\n",
    "    how='left'  # left join to keep all centroids, even NaN\n",
    ")"
   ]
  },
  {
   "cell_type": "code",
   "execution_count": null,
   "id": "13",
   "metadata": {},
   "outputs": [],
   "source": [
    "display(merged_gdf_nodes_landuse)"
   ]
  },
  {
   "cell_type": "code",
   "execution_count": null,
   "id": "14",
   "metadata": {},
   "outputs": [],
   "source": [
    "merged_gdf_nodes_landuse['land_cover_code'].value_counts()"
   ]
  },
  {
   "cell_type": "markdown",
   "id": "15",
   "metadata": {},
   "source": [
    "### Elevation Data Ingestion and Preprocessing ###"
   ]
  },
  {
   "cell_type": "code",
   "execution_count": null,
   "id": "16",
   "metadata": {},
   "outputs": [],
   "source": [
    "# DIGIMAPS (via OS Terrain 5 / Terrain 50)\n",
    "elevation_gdf_polygon, clipped_dtm = load_process_elevation_data(\n",
    "    dir_path=config[catchment]['paths']['elevation_dir_path'],\n",
    "    csv_path=config[catchment]['paths']['elevation_tif_path'],\n",
    "    catchment_gdf=catchment_polygon,\n",
    "    mesh_cells_gdf_polygons=mesh_cells_gdf_polygons,\n",
    "    catchment=catchment,\n",
    "    elev_max=config[catchment]['preprocessing']['catchment_max_elevation'],\n",
    "    elev_min=config[catchment]['preprocessing']['catchment_min_elevation'],\n",
    "    output_geojson_dir=config[catchment]['paths']['output_polygon_dir'],\n",
    "    elevation_geojson_path=config[catchment]['paths']['elevation_geojson_path'],\n",
    "    grid_resolution=config[catchment]['preprocessing']['graph_construction']['grid_resolution']\n",
    ")"
   ]
  },
  {
   "cell_type": "code",
   "execution_count": null,
   "id": "17",
   "metadata": {},
   "outputs": [],
   "source": [
    "elevation_gdf_polygon"
   ]
  },
  {
   "cell_type": "code",
   "execution_count": null,
   "id": "18",
   "metadata": {},
   "outputs": [],
   "source": [
    "print(f\"Skewness: {skew(mesh_cells_gdf_polygons['mean_elevation']):.3f}\")\n",
    "\n",
    "sns.histplot(mesh_cells_gdf_polygons['mean_elevation'], kde=True)\n",
    "plt.title(\"Elevation Distribution\")\n",
    "plt.xlabel(\"Mean Elevation (mAOD)\")\n",
    "plt.show()\n"
   ]
  },
  {
   "cell_type": "markdown",
   "id": "19",
   "metadata": {},
   "source": [
    "Moderate skew but not concerning enough at this point to require transformation especially as it wil be scaled. Will return to after first model iteration."
   ]
  },
  {
   "cell_type": "markdown",
   "id": "20",
   "metadata": {},
   "source": [
    "Merge into mesh"
   ]
  },
  {
   "cell_type": "code",
   "execution_count": null,
   "id": "21",
   "metadata": {},
   "outputs": [],
   "source": [
    "merged_gdf_nodes_elevation = merged_gdf_nodes_landuse.merge(\n",
    "    elevation_gdf_polygon[['node_id', 'mean_elevation', 'polygon_geometry']],\n",
    "    on='node_id',\n",
    "    how='left'  # left join to keep all centroids, even NaN\n",
    ")"
   ]
  },
  {
   "cell_type": "code",
   "execution_count": null,
   "id": "22",
   "metadata": {},
   "outputs": [],
   "source": [
    "display(merged_gdf_nodes_elevation)"
   ]
  },
  {
   "cell_type": "markdown",
   "id": "23",
   "metadata": {},
   "source": [
    "### Geological Maps Data Ingestion ###"
   ]
  },
  {
   "cell_type": "code",
   "execution_count": null,
   "id": "24",
   "metadata": {},
   "outputs": [],
   "source": [
    "# DIGIMAPS (50K BGS data via Geology Digimap)\n",
    "\n",
    "# Load and explore geology data\n",
    "mesh_geology_df = load_and_process_geology_layers(\n",
    "    base_dir=config[catchment][\"paths\"][\"geology_dir\"],\n",
    "    mesh_crs=mesh_cells_gdf_polygons.crs,\n",
    "    columns_of_interest={\"bedrock\": [\"RCS_ORIGIN\"], \"superficial\": [\"RCS_D\"]},\n",
    "    mesh_cells_gdf_polygons=mesh_cells_gdf_polygons,\n",
    "    perm_dir=config[catchment][\"paths\"][\"permeability_dir\"],\n",
    "    geo_output_dir=config[catchment][\"paths\"][\"geology_df\"],\n",
    "    catchment=catchment\n",
    ")\n",
    "\n",
    "mesh_geology_df"
   ]
  },
  {
   "cell_type": "code",
   "execution_count": null,
   "id": "25",
   "metadata": {},
   "outputs": [],
   "source": [
    "feature_category_colors, feature_category_labels, layer_labels = get_geo_feats()\n",
    "geology_map = plot_geology_layers_interactive(\n",
    "    mesh_geology_df=mesh_geology_df,\n",
    "    catchment_polygon=catchment_polygon,\n",
    "    esri=config['global']['visualisations']['maps']['esri'],\n",
    "    esri_attr=config['global']['visualisations']['maps']['esri_attr'],\n",
    "    output_path=config[catchment][\"visualisations\"][\"maps\"][\"interactive_mesh_map_output\"],\n",
    "    feature_columns=['geo_superficial_type','geo_bedrock_type'],\n",
    "    category_colors=feature_category_colors,\n",
    "    category_labels=feature_category_labels,\n",
    "    map_blue=config['global']['visualisations']['maps']['map_blue'],\n",
    "    layer_labels=layer_labels\n",
    ")\n",
    "\n",
    "geology_map"
   ]
  },
  {
   "cell_type": "markdown",
   "id": "26",
   "metadata": {},
   "source": [
    "### Merge Geology Data In"
   ]
  },
  {
   "cell_type": "code",
   "execution_count": null,
   "id": "27",
   "metadata": {},
   "outputs": [],
   "source": [
    "merged_gdf_nodes_geology = merged_gdf_nodes_elevation.merge(\n",
    "    mesh_geology_df[['geo_bedrock_type', 'geo_superficial_type', 'bedrock_flow_type',\n",
    "                        'bedrock_perm_avg', 'superficial_flow_type', 'superficial_perm_avg',\n",
    "                        'node_id']],\n",
    "    on='node_id',\n",
    "    how='left'  # left join to keep all centroids, even if NaN\n",
    ")\n",
    "\n",
    "logger.info(f\"Geology data snapped to mesh nodes (centroids).\\n\")"
   ]
  },
  {
   "cell_type": "markdown",
   "id": "28",
   "metadata": {},
   "source": [
    "### Derive slope data from DEM ###"
   ]
  },
  {
   "cell_type": "code",
   "execution_count": null,
   "id": "29",
   "metadata": {},
   "outputs": [],
   "source": [
    "# Derived from higher resolution DEM data in previous step\n",
    "slope_gdf, directional_edge_weights = derive_slope_data(\n",
    "    high_res_raster=clipped_dtm,\n",
    "    mesh_cells_gdf_polygons=mesh_cells_gdf_polygons,\n",
    "    catchment=catchment,\n",
    "    direction_output_path=config[catchment]['paths']['direction_edge_weights_path'],\n",
    "    slope_output_path=config[catchment]['paths']['slope_path']\n",
    ")"
   ]
  },
  {
   "cell_type": "code",
   "execution_count": null,
   "id": "30",
   "metadata": {},
   "outputs": [],
   "source": [
    "print(f\"Slope (Degrees): {skew(slope_gdf['mean_slope_degrees']):.3f}\")\n",
    "\n",
    "sns.histplot(slope_gdf['mean_slope_degrees'], kde=True)\n",
    "plt.title(\"Slope Distribution\")\n",
    "plt.xlabel(\"Mean Slope (Degrees)\")\n",
    "plt.show()\n"
   ]
  },
  {
   "cell_type": "code",
   "execution_count": null,
   "id": "31",
   "metadata": {},
   "outputs": [],
   "source": [
    "print(f\"Slope Aspect (Sine): {skew(slope_gdf['mean_aspect_sin']):.3f}\")\n",
    "\n",
    "sns.histplot(slope_gdf['mean_aspect_sin'], kde=True)\n",
    "plt.title(\"Slope Aspect Sine Distribution\")\n",
    "plt.xlabel(\"Mean Slope Aspect (Sine)\")\n",
    "plt.show()"
   ]
  },
  {
   "cell_type": "code",
   "execution_count": null,
   "id": "32",
   "metadata": {},
   "outputs": [],
   "source": [
    "print(f\"Slope Aspect (Cosine): {skew(slope_gdf['mean_aspect_cos']):.3f}\")\n",
    "\n",
    "sns.histplot(slope_gdf['mean_aspect_cos'], kde=True)\n",
    "plt.title(\"Slope Aspect Cosine Distribution\")\n",
    "plt.xlabel(\"Mean Slope Aspect (Cosine)\")\n",
    "plt.show()"
   ]
  },
  {
   "cell_type": "code",
   "execution_count": null,
   "id": "33",
   "metadata": {},
   "outputs": [],
   "source": [
    "display(slope_gdf)"
   ]
  },
  {
   "cell_type": "markdown",
   "id": "34",
   "metadata": {},
   "source": [
    "### Soil Type Data Ingestion ###"
   ]
  },
  {
   "cell_type": "code",
   "execution_count": null,
   "id": "35",
   "metadata": {},
   "outputs": [],
   "source": [
    "# CEH's Grid-to-Grid soil maps / HOST soil classes"
   ]
  },
  {
   "cell_type": "markdown",
   "id": "36",
   "metadata": {},
   "source": [
    "### Aquifer Productivity Data Ingestion ###"
   ]
  },
  {
   "cell_type": "code",
   "execution_count": null,
   "id": "37",
   "metadata": {},
   "outputs": [],
   "source": [
    "# Aquifer Productivity [BGS 625k Hydrogeological Data]\n",
    "\n",
    "productivity_gdf = ingest_and_process_productivity(\n",
    "    productivity_dir=config[catchment][\"paths\"][\"productivity_dir\"],\n",
    "    csv_path=config[catchment]['paths']['productivity_csv_path'],\n",
    "    mesh_cells_gdf_polygons=mesh_cells_gdf_polygons,\n",
    "    catchment=catchment   \n",
    ")\n",
    "        \n",
    "logger.info(f\"Pipeline step 'Load and preprocess aquifer productvity data' complete for {catchment} catchment.\\n\")"
   ]
  },
  {
   "cell_type": "markdown",
   "id": "38",
   "metadata": {},
   "source": [
    "### Depth to Groundwater Data [BGS] ###"
   ]
  },
  {
   "cell_type": "code",
   "execution_count": null,
   "id": "39",
   "metadata": {},
   "outputs": [],
   "source": [
    "# import rasterio\n",
    "# import matplotlib.pyplot as plt\n",
    "\n",
    "# # Path to the folder with .adf files (Raster format)\n",
    "# raster_path = \"data/01_raw/eden/static/groundwater_levels/gw_level/\"\n",
    "\n",
    "# # Open the raster (it should detect the .adf files automatically)\n",
    "# with rasterio.open(raster_path) as src:\n",
    "#     print(\"CRS:\", src.crs)\n",
    "#     print(\"Bounds:\", src.bounds)\n",
    "#     print(\"Resolution:\", src.res)\n",
    "#     print(\"Data Type:\", src.dtypes)\n",
    "#     gwl_raster = src.read(1)  # Read first band\n",
    "#     gwl_profile = src.profile\n",
    "\n",
    "# print(gwl_raster.shape)\n",
    "# print(gwl_profile)\n",
    "\n",
    "# # Quick visualisation\n",
    "# plt.imshow(gwl_raster, cmap='viridis')\n",
    "# plt.colorbar(label=\"Groundwater level (?)\")\n",
    "# plt.title(\"Groundwater Level Raster\")\n",
    "# plt.show()\n"
   ]
  },
  {
   "cell_type": "code",
   "execution_count": null,
   "id": "40",
   "metadata": {},
   "outputs": [],
   "source": [
    "# import rasterio\n",
    "# from shapely.geometry import box\n",
    "\n",
    "# with rasterio.open(raster_path) as src:\n",
    "#     bounds = src.bounds\n",
    "#     crs = src.crs\n",
    "\n",
    "# # Print Raster Bounds\n",
    "# print(bounds)"
   ]
  },
  {
   "cell_type": "code",
   "execution_count": null,
   "id": "41",
   "metadata": {},
   "outputs": [],
   "source": [
    "# import geopandas as gpd\n",
    "# from shapely.geometry import box\n",
    "# import numpy as np\n",
    "\n",
    "# def create_grid(bounds, grid_size=1000):\n",
    "#     xmin, ymin, xmax, ymax = bounds\n",
    "#     rows = int(np.ceil((ymax - ymin) / grid_size))\n",
    "#     cols = int(np.ceil((xmax - xmin) / grid_size))\n",
    "    \n",
    "#     polygons = []\n",
    "#     node_ids = []\n",
    "#     for i in range(rows):\n",
    "#         for j in range(cols):\n",
    "#             x0 = xmin + j * grid_size\n",
    "#             y0 = ymin + i * grid_size\n",
    "#             x1 = x0 + grid_size\n",
    "#             y1 = y0 + grid_size\n",
    "#             polygons.append(box(x0, y0, x1, y1))\n",
    "#             node_ids.append(i * cols + j)\n",
    "\n",
    "#     grid = gpd.GeoDataFrame({'node_id': node_ids, 'geometry': polygons}, crs=crs)\n",
    "#     return grid\n",
    "\n",
    "# # Use raster bounds to generate grid\n",
    "# grid_gdf = create_grid(bounds)\n"
   ]
  },
  {
   "cell_type": "code",
   "execution_count": null,
   "id": "42",
   "metadata": {},
   "outputs": [],
   "source": [
    "# from rasterstats import zonal_stats\n",
    "\n",
    "# stats = zonal_stats(grid_gdf, raster_path, stats=['mean'], geojson_out=True)\n",
    "# grid_with_gwl = gpd.GeoDataFrame.from_features(stats)\n",
    "\n",
    "# print(grid_with_gwl[['node_id', 'mean']].dropna().head())\n"
   ]
  },
  {
   "cell_type": "markdown",
   "id": "43",
   "metadata": {},
   "source": [
    "### Distance from River (Derived) ###"
   ]
  },
  {
   "cell_type": "code",
   "execution_count": null,
   "id": "44",
   "metadata": {},
   "outputs": [],
   "source": [
    "import os\n",
    "import geopandas as gpd\n",
    "import matplotlib.pyplot as plt\n",
    "\n",
    "# --- Plot Bounding Box to Check ---\n",
    "\n",
    "rivers_dir = config[catchment][\"paths\"][\"rivers_dir\"]\n",
    "watercourse_path = os.path.join(rivers_dir, 'WatercourseLink.shp')\n",
    "minx, miny, maxx, maxy = catchment_polygon.total_bounds\n",
    "gdf = gpd.read_file(watercourse_path, bbox=(minx, miny, maxx, maxy))\n",
    "gdf = gdf[gdf['fictitious'] == 'false']\n",
    "\n",
    "# Create the plot\n",
    "fig, ax = plt.subplots(1, 1, figsize=(10, 10))\n",
    "\n",
    "# Plot the GeoDataFrame\n",
    "gdf.plot(ax=ax)\n",
    "\n",
    "# Set a title\n",
    "ax.set_title(\"Map of Shapefile\")\n",
    "\n",
    "# Add labels for the axes (optional but good practice)\n",
    "ax.set_xlabel(\"Easting (m)\")\n",
    "ax.set_ylabel(\"Northing (m)\")\n",
    "\n",
    "# Display the map\n",
    "plt.show()"
   ]
  },
  {
   "cell_type": "code",
   "execution_count": null,
   "id": "45",
   "metadata": {},
   "outputs": [],
   "source": [
    "# Distance from River (Derived) [OS Open Rivers]\n",
    "\n",
    "dist_to_river_gdf, rivers_real = derive_distance_to_river(\n",
    "    rivers_dir=config[catchment][\"paths\"][\"rivers_dir\"],\n",
    "    csv_path=config[catchment]['paths']['rivers_csv_path'],\n",
    "    catchment=catchment,\n",
    "    mesh_cells_gdf_polygons=mesh_cells_gdf_polygons,\n",
    "    catchment_polygon=catchment_polygon,\n",
    "    mesh_nodes_gdf=mesh_nodes_gdf\n",
    ")\n",
    "\n",
    "logger.info(f\"Pipeline step 'Derive distance from river' complete for {catchment} catchment.\\n\")"
   ]
  },
  {
   "cell_type": "code",
   "execution_count": null,
   "id": "46",
   "metadata": {},
   "outputs": [],
   "source": [
    "dist_to_river_gdf"
   ]
  },
  {
   "cell_type": "code",
   "execution_count": null,
   "id": "47",
   "metadata": {},
   "outputs": [],
   "source": [
    "# --- SINGLE NODE TEST PLOT! ---\n",
    "node_to_plot = mesh_nodes_gdf.iloc[[1350]]\n",
    "plot_nearest_river_for_node(node_to_plot, rivers_real)"
   ]
  },
  {
   "cell_type": "markdown",
   "id": "48",
   "metadata": {},
   "source": [
    "### Superficial Thickness Data Ingestion ###\n",
    "  \n",
    "Insufficient Coverage. Skipping.  "
   ]
  },
  {
   "cell_type": "code",
   "execution_count": null,
   "id": "49",
   "metadata": {},
   "outputs": [],
   "source": [
    "# import os\n",
    "# import rasterio\n",
    "# import pandas as pd\n",
    "\n",
    "# def load_and_preprocess_sup_thickness(sup_thickness_dir: str, csv_path: str, catchment: str,\n",
    "#                                       mesh_cells_gdf_polygons: gpd.GeoDataFrame, \n",
    "#                                       catchment_polygon: gpd.GeoDataFrame,\n",
    "#                                       mesh_nodes_gdf: gpd.GeoDataFrame):\n",
    "#     \"\"\"\n",
    "#     Ingest and preprocess superficial thickness data for each centroid in a catchment mesh.\n",
    "#     \"\"\"\n",
    "#     logger.info(f\"Loading superficial thickness data for {catchment} catchment...\\n\")\n",
    "    \n",
    "#     # Read in data\n",
    "#     file_path = os.path.join(sup_thickness_dir, \"w001001.adf\")\n",
    "#     with rasterio.open(file_path) as src:\n",
    "        \n",
    "#         # Read in first band of main data\n",
    "#         thickness_data = src.read(1)\n",
    "        \n",
    "#         # Read in metadata\n",
    "#         profile = src.profile\n",
    "#         crs = src.crs\n",
    "#         transform = src.transform\n",
    "    \n",
    "#         logger.info(f\"Raster shape: {thickness_data.shape}\")\n",
    "#         logger.info(f\"CRS: {crs}\")\n",
    "#         logger.info(f\"Transform:\\n{transform}\\n\")\n",
    "        \n",
    "#         # Reproject nodes to crs\n",
    "#         logger.info(f\"Reprojecting mesh nodes from {mesh_nodes_gdf.crs} to match raster CRS {crs}...\")\n",
    "#         mesh_nodes_reprojected = mesh_nodes_gdf.to_crs(crs)\n",
    "#         logger.info(f\"Mesh nodes reprojected to {mesh_nodes_reprojected.crs}\\n\")\n",
    "        \n",
    "#         # Get the coordinates of each reprojected node\n",
    "#         coords = [(x, y) for x, y in zip(mesh_nodes_reprojected.geometry.x, mesh_nodes_reprojected.geometry.y)]\n",
    "        \n",
    "#         # Sample the raster at each coordinate\n",
    "#         thickness_values = [x for x in src.sample(coords)]\n",
    "\n",
    "#         # The result from src.sample is a list of arrays, flatten it\n",
    "#         thickness_values = [val[0] for val in thickness_values]\n",
    "    \n",
    "#     # --- NEW LOGIC: Create a new DataFrame with the extracted values ---\n",
    "#     sup_thickness_df = pd.DataFrame({\n",
    "#         'node_id': mesh_nodes_gdf['node_id'],\n",
    "#         'superficial_thickness': thickness_values\n",
    "#     })\n",
    "    \n",
    "#     # Handle nodata values (e.g., -3.4028235e+38) by replacing them with NaN\n",
    "#     nodata_value = -3.4028235e+38\n",
    "#     sup_thickness_df['superficial_thickness'] = sup_thickness_df['superficial_thickness'].replace(nodata_value, np.nan)\n",
    "    \n",
    "#     logger.info(f\"Extracted superficial thickness for {len(sup_thickness_df)} nodes.\")\n",
    "#     logger.info(f\"Minimum thickness: {sup_thickness_df['superficial_thickness'].min():.2f} m\")\n",
    "#     logger.info(f\"Maximum thickness: {sup_thickness_df['superficial_thickness'].max():.2f} m\\n\")\n",
    "\n",
    "#     return sup_thickness_df\n",
    "\n",
    "# # Superficial Thickness [BGS]\n",
    "\n",
    "# superficial_thickness_df = load_and_preprocess_sup_thickness(\n",
    "#     sup_thickness_dir=config[catchment]['paths']['sup_thickness_dir'],\n",
    "#     csv_path=config[catchment]['paths']['sup_thickness_csv_path'],\n",
    "#     catchment=catchment,\n",
    "#     mesh_cells_gdf_polygons=mesh_cells_gdf_polygons,\n",
    "#     catchment_polygon=catchment_polygon,\n",
    "#     mesh_nodes_gdf=mesh_nodes_gdf\n",
    "# )\n",
    "\n",
    "# logger.info(f\"Pipeline step 'Load Superficial Thickness Data' complete for {catchment} catchment.\\n\")\n",
    "\n",
    "# superficial_thickness_df\n",
    "\n",
    "# import geopandas as gpd\n",
    "# import matplotlib.pyplot as plt\n",
    "# import numpy as np\n",
    "# from rasterio.plot import show\n",
    "\n",
    "# def plot_superficial_thickness_catchment(sup_thickness_dir: str, rivers_gdf: gpd.GeoDataFrame,\n",
    "#                                         mesh_nodes_gdf: gpd.GeoDataFrame, catchment: str):\n",
    "#     \"\"\"\n",
    "#     Plots the superficial thickness raster data, zoomed to the catchment area.\n",
    "#     \"\"\"\n",
    "#     # Calculate the combined bounding box of the catchment data\n",
    "#     # This ensures both the river network and nodes are visible\n",
    "#     minx_rivers, miny_rivers, maxx_rivers, maxy_rivers = rivers_gdf.total_bounds\n",
    "#     minx_nodes, miny_nodes, maxx_nodes, maxy_nodes = mesh_nodes_gdf.total_bounds\n",
    "    \n",
    "#     # Get the overall bounds for the plot and add a small padding\n",
    "#     minx = min(minx_rivers, minx_nodes)\n",
    "#     miny = min(miny_rivers, miny_nodes)\n",
    "#     maxx = max(maxx_rivers, maxx_nodes)\n",
    "#     maxy = max(maxy_rivers, maxy_nodes)\n",
    "    \n",
    "#     padding_x = (maxx - minx) * 0.1 # 10% padding\n",
    "#     padding_y = (maxy - miny) * 0.1 # 10% padding\n",
    "\n",
    "#     # Open the raster file\n",
    "#     # file_path = os.path.join(sup_thickness_dir, \"w001001.adf\")\n",
    "#     file_path = \"data/01_raw/eden/static/superficial_thickness/basic/bstm_v5/bstm_gb/w001001.adf\"\n",
    "#     with rasterio.open(file_path) as src:\n",
    "        \n",
    "#         # Read the first band of the raster data\n",
    "#         thickness_data = src.read(1)\n",
    "        \n",
    "#         # Get metadata for plotting\n",
    "#         crs = src.crs\n",
    "#         transform = src.transform\n",
    "#         nodata_value = src.nodata\n",
    "        \n",
    "#         # Make the nodata values transparent\n",
    "#         masked_data = np.ma.masked_equal(thickness_data, nodata_value)\n",
    "\n",
    "#         fig, ax = plt.subplots(figsize=(12, 12))\n",
    "        \n",
    "#         # Plot the raster using rasterio's show() function\n",
    "#         show(\n",
    "#             masked_data,\n",
    "#             transform=transform,\n",
    "#             ax=ax,\n",
    "#             cmap='terrain',\n",
    "#             title=f\"Superficial Thickness for {catchment} Catchment\"\n",
    "#         )\n",
    "        \n",
    "#         # Plot the river network and mesh nodes on top\n",
    "#         rivers_gdf_proj = rivers_gdf.to_crs(crs)\n",
    "#         mesh_nodes_gdf_proj = mesh_nodes_gdf.to_crs(crs)\n",
    "        \n",
    "#         rivers_gdf_proj.plot(ax=ax, color='blue', linewidth=0.5, label='River Network')\n",
    "#         mesh_nodes_gdf_proj.plot(ax=ax, color='yellow', markersize=5, label='Mesh Nodes')\n",
    "        \n",
    "#         # --- NEW: Set the plot bounds to match the catchment's bounds with padding ---\n",
    "#         ax.set_xlim(minx - padding_x, maxx + padding_x)\n",
    "#         ax.set_ylim(miny - padding_y, maxy + padding_y)\n",
    "\n",
    "#         # Add labels, legend, and grid\n",
    "#         ax.set_xlabel(\"Easting (m)\")\n",
    "#         ax.set_ylabel(\"Northing (m)\")\n",
    "#         ax.legend(loc='lower left')\n",
    "#         ax.grid(True)\n",
    "        \n",
    "#         plt.show()\n",
    "\n",
    "# # Run plotting\n",
    "# plot_superficial_thickness_catchment(\n",
    "#     sup_thickness_dir=config[catchment]['paths']['sup_thickness_dir'],\n",
    "#     rivers_gdf=rivers_real,\n",
    "#     mesh_nodes_gdf=mesh_nodes_gdf,\n",
    "#     catchment=catchment\n",
    "# )"
   ]
  },
  {
   "cell_type": "markdown",
   "id": "50",
   "metadata": {},
   "source": [
    "### Soil Hydrology Data Ingestion ###"
   ]
  },
  {
   "cell_type": "code",
   "execution_count": null,
   "id": "51",
   "metadata": {},
   "outputs": [],
   "source": [
    "# Call soil hydrology load and process\n",
    "\n",
    "soil_hydrology_df = load_process_soil_hydrology(\n",
    "    soil_dir=config[catchment][\"paths\"][\"soil_dir\"],\n",
    "    csv_path=config[catchment]['paths']['soil_csv_path'],\n",
    "    catchment=catchment,\n",
    "    mesh_cells_gdf_polygons=mesh_cells_gdf_polygons,\n",
    "    catchment_polygon=catchment_polygon,\n",
    "    mesh_nodes_gdf=mesh_nodes_gdf\n",
    ")\n",
    "\n",
    "logger.info(f\"Pipeline step 'Load Soil Hydrology Data' complete for {catchment} catchment.\\n\")"
   ]
  },
  {
   "cell_type": "markdown",
   "id": "52",
   "metadata": {},
   "source": [
    "Using NSRI Soilscapes Instead for clearer documentation and metadata for aggregation:"
   ]
  },
  {
   "cell_type": "code",
   "execution_count": null,
   "id": "53",
   "metadata": {},
   "outputs": [],
   "source": [
    "# Source: NSRI Soilscapes (https://mapapps2.bgs.ac.uk/ukso/home.html\n",
    "\n",
    "def _get_soilscape_mappings():\n",
    "    \"\"\"\n",
    "    Defined Soilscapes soil mappings to aggregated and better balanced classes. Using\n",
    "    See: https://nora.nerc.ac.uk/id/eprint/7369/1/IH_126.pdf for more details on classes.\n",
    "    \"\"\"\n",
    "    # A mapping from detailed Soilscapes names to high-level drainage categories\n",
    "    soilscapes_to_drainage_map = {\n",
    "        'Blanket bog peat soils': 'Very wet/Peat soils',\n",
    "        'Fen peat soils': 'Very wet/Peat soils',\n",
    "        'Freely draining acid loamy soils over rock': 'freely_draining_soils',\n",
    "        'Freely draining floodplain soils': 'freely_draining_soils',\n",
    "        'Freely draining lime-rich loamy soils': 'freely_draining_soils',\n",
    "        'Freely draining sandy Breckland soils': 'freely_draining_soils',\n",
    "        'Freely draining slightly acid but base-rich soils': 'freely_draining_soils',\n",
    "        'Freely draining slightly acid loamy soils': 'freely_draining_soils',\n",
    "        'Freely draining slightly acid sandy soils': 'freely_draining_soils',\n",
    "        'Freely draining very acid sandy and loamy soils': 'freely_draining_soils',\n",
    "        'Lime-rich loamy and clayey soils with impeded drainage': 'Impeded drainage soils',\n",
    "        'Loamy and clayey floodplain soils with naturally high groundwater': 'Seasonally wet soils',\n",
    "        'Loamy and clayey soils of coastal flats with naturally high groundwater': 'Seasonally wet soils',\n",
    "        'Loamy and sandy soils with naturally high groundwater and a peaty surface': 'Very wet/Peat soils',\n",
    "        'Loamy soils with naturally high groundwater': 'Seasonally wet soils',\n",
    "        'Naturally wet very acid sandy and loamy soils': 'Seasonally wet soils',\n",
    "        'Raised bog peat soils': 'Very wet/Peat soils',\n",
    "        'Restored soils mostly from quarry and opencast spoil': 'freely_draining_soils',\n",
    "        'Saltmarsh soils': 'Seasonally wet soils',\n",
    "        'Sand dune soils': 'freely_draining_soils',\n",
    "        'Shallow lime-rich soils over chalk or limestone': 'freely_draining_soils',\n",
    "        'Shallow very acid peaty soils over rock': 'Very wet/Peat soils',\n",
    "        'Slightly acid loamy and clayey soils with impeded drainage': 'Impeded drainage soils',\n",
    "        'Slowly permeable seasonally wet acid loamy and clayey soils': 'Seasonally wet soils',\n",
    "        'Slowly permeable seasonally wet slightly acid but base-rich loamy and clayey soils': 'Seasonally wet soils',\n",
    "        'Slowly permeable wet very acid upland soils with a peaty surface': 'Very wet/Peat soils',\n",
    "        'Very acid loamy upland soils with a wet peaty surface': 'Very wet/Peat soils',\n",
    "        'Unsurveyed/Urban': 'Other',\n",
    "        'Water body': 'Other'\n",
    "    }\n",
    "\n",
    "    return soilscapes_to_drainage_map\n",
    "\n",
    "# Apply mapping\n",
    "# soil_data['drainage_category'] = soil_data['soilscape_name'].map(soilscapes_to_drainage)"
   ]
  },
  {
   "cell_type": "markdown",
   "id": "54",
   "metadata": {},
   "source": [
    "### Aquifer Type Data Ingestion ###"
   ]
  },
  {
   "cell_type": "code",
   "execution_count": null,
   "id": "55",
   "metadata": {},
   "outputs": [],
   "source": [
    "# DEFRA / British Geological Survey (BGS)\n"
   ]
  },
  {
   "cell_type": "markdown",
   "id": "56",
   "metadata": {},
   "source": [
    "### Aquifer Transmissivity Data Ingestion ###"
   ]
  },
  {
   "cell_type": "code",
   "execution_count": null,
   "id": "57",
   "metadata": {},
   "outputs": [],
   "source": [
    "# DEFRA / British Geological Survey (BGS)"
   ]
  },
  {
   "cell_type": "markdown",
   "id": "58",
   "metadata": {},
   "source": [
    "### Merge Slope Data to end In"
   ]
  },
  {
   "cell_type": "code",
   "execution_count": null,
   "id": "59",
   "metadata": {},
   "outputs": [],
   "source": [
    "# # Snap Slope to Mesh\n",
    "\n",
    "# merged_gdf_nodes_slope = merged_gdf_nodes_geology.merge(\n",
    "#     slope_gdf[['node_id', 'mean_slope_degrees', 'mean_aspect_sin', 'mean_aspect_cos']],\n",
    "#     on='node_id',\n",
    "#     how='left'  # left join to keep all centroids, even if NaN\n",
    "# )\n",
    "\n",
    "# logger.info(f\"Slope degrees and sinusoidal aspect data snapped to mesh nodes (centroids).\\n\")\n",
    "\n",
    "# # Snap Soil Hydrology to Mesh\n",
    "\n",
    "# merged_gdf_nodes_soil = merged_gdf_nodes_slope.merge(\n",
    "#     soil_hydrology_df[['node_id', 'HOST_soil_class']],\n",
    "#     on='node_id',\n",
    "#     how='left'  # left join to keep all centroids, even if NaN\n",
    "# )\n",
    "\n",
    "# logger.info(f\"Soil Hydrology data snapped to mesh nodes (centroids).\\n\")\n",
    "\n",
    "# # Snap Aquifer Productivity to Mesh\n",
    "\n",
    "# merged_gdf_nodes_productivity = merged_gdf_nodes_soil.merge(\n",
    "#     productivity_gdf[['node_id', 'aquifer_productivity']],\n",
    "#     on='node_id',\n",
    "#     how='left'  # left join to keep all centroids, even if NaN\n",
    "# )\n",
    "\n",
    "# logger.info(f\"Aquifer Productivity data snapped to mesh nodes (centroids).\\n\")\n",
    "\n",
    "# # Snap Distance from River to Mesh\n",
    "\n",
    "# static_features = merged_gdf_nodes_productivity.merge(\n",
    "#     dist_to_river_gdf[['node_id', 'distance_to_river']],\n",
    "#     on='node_id',\n",
    "#     how='left'  # left join to keep all centroids, even if NaN\n",
    "# )\n",
    "\n",
    "# logger.info(f\"Distance from river data snapped to mesh nodes (centroids).\\n\")"
   ]
  },
  {
   "cell_type": "code",
   "execution_count": null,
   "id": "60",
   "metadata": {},
   "outputs": [],
   "source": [
    "# final_static_df = reorder_static_columns(static_features)  # TODO: Update as more features added\n",
    "# save_final_static_data(\n",
    "#     static_features=final_static_df,\n",
    "#     dir_path=config[catchment][\"paths\"][\"final_df_path\"]\n",
    "# )\n",
    "\n",
    "# logger.info(f\"Full static feature dataframe finalised and ready to merge into main model dataframe.\\n\")"
   ]
  },
  {
   "cell_type": "code",
   "execution_count": null,
   "id": "61",
   "metadata": {},
   "outputs": [],
   "source": [
    "# display(static_features)"
   ]
  },
  {
   "cell_type": "markdown",
   "id": "62",
   "metadata": {},
   "source": [
    "### Checking the directional weights are logical and plausible based on the map: ###"
   ]
  },
  {
   "cell_type": "code",
   "execution_count": null,
   "id": "63",
   "metadata": {},
   "outputs": [],
   "source": [
    "directional_map = plot_directional_mesh(\n",
    "    directional_edge_weights_gdf=directional_edge_weights,\n",
    "    catchment_polygon=catchment_polygon,\n",
    "    output_path=config[catchment]['visualisations']['maps']['interactive_directional_map_output'],\n",
    "    esri=config['global']['visualisations']['maps']['esri'],\n",
    "    esri_attr=config['global']['visualisations']['maps']['esri_attr']\n",
    ")\n",
    "\n",
    "logger.info(f\"Pipeline step 'Interactive Directional Mesh Mapping' complete for {catchment} catchment.\")\n",
    "\n",
    "# # Show map in notebook\n",
    "# directional_map"
   ]
  },
  {
   "cell_type": "code",
   "execution_count": null,
   "id": "64",
   "metadata": {},
   "outputs": [],
   "source": [
    "display(directional_edge_weights[['mean_slope_dx', 'mean_slope_dy', 'easting', 'northing']])"
   ]
  }
 ],
 "metadata": {
  "kernelspec": {
   "display_name": ".venv_ncc",
   "language": "python",
   "name": "python3"
  },
  "language_info": {
   "codemirror_mode": {
    "name": "ipython",
    "version": 3
   },
   "file_extension": ".py",
   "mimetype": "text/x-python",
   "name": "python",
   "nbconvert_exporter": "python",
   "pygments_lexer": "ipython3",
   "version": "3.8.11"
  }
 },
 "nbformat": 4,
 "nbformat_minor": 5
}
