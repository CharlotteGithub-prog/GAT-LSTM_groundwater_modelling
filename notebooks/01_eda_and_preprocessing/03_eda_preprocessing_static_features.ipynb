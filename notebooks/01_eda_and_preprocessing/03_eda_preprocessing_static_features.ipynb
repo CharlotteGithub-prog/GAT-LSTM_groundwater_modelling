{
 "cells": [
  {
   "cell_type": "code",
   "execution_count": null,
   "id": "0",
   "metadata": {},
   "outputs": [],
   "source": [
    "# Load library imports\n",
    "import sys\n",
    "import torch\n",
    "import random\n",
    "import logging\n",
    "import numpy as np\n",
    "import seaborn as sns\n",
    "import geopandas as gpd\n",
    "from scipy.stats import skew\n",
    "import matplotlib.pyplot as plt\n",
    "from shapely.geometry import Point\n",
    "\n",
    "\n",
    "# Load project Imports\n",
    "from src.utils.config_loader import load_project_config\n",
    "from src.graph_building.graph_construction import build_mesh, \\\n",
    "    define_catchment_polygon\n",
    "from src.visualisation.mapped_visualisations import plot_interactive_mesh, \\\n",
    "    plot_interactive_mesh_colour_coded, plot_directional_mesh, \\\n",
    "        plot_geology_layers_interactive\n",
    "from src.data_ingestion.static_data_ingestion import load_land_cover_data, \\\n",
    "    load_process_elevation_data, derive_slope_data, get_geo_feats, \\\n",
    "        load_and_process_geology_layers\n",
    "from src.graph_building.data_merging import reorder_static_columns"
   ]
  },
  {
   "cell_type": "code",
   "execution_count": null,
   "id": "1",
   "metadata": {},
   "outputs": [],
   "source": [
    "# Set up logger config\n",
    "logging.basicConfig(\n",
    "    level=logging.INFO,\n",
    "   format='%(levelname)s - %(message)s',\n",
    "#    format='%(asctime)s - %(levelname)s - %(name)s - %(message)s',\n",
    "    handlers=[logging.StreamHandler(sys.stdout)]\n",
    ")\n",
    "\n",
    "# Set up logger for file and load config file for paths and params\n",
    "logger = logging.getLogger(__name__)\n",
    "config = load_project_config(config_path=\"config/project_config.yaml\")\n",
    "notebook = True\n",
    "\n",
    "# Set up seeding to define global states\n",
    "random_seed = config[\"global\"][\"pipeline_settings\"][\"random_seed\"]\n",
    "random.seed(random_seed)\n",
    "np.random.seed(random_seed)\n",
    "torch.manual_seed(random_seed)\n",
    "torch.cuda.manual_seed_all(random_seed)\n",
    "torch.backends.cudnn.deterministic = True\n",
    "torch.backends.cudnn.benchmark = False\n",
    "\n",
    "# Define notebook demo catchment\n",
    "catchments_to_process = config[\"global\"][\"pipeline_settings\"][\"catchments_to_process\"]\n",
    "catchment = catchments_to_process[0]\n",
    "run_defra_API_calls = config[\"global\"][\"pipeline_settings\"][\"run_defra_api\"]\n",
    "\n",
    "logger.info(f\"Show Notebook Outputs: {notebook}\")\n",
    "logger.info(f\"Notebook Demo Catchment: {catchment.capitalize()}\")"
   ]
  },
  {
   "cell_type": "markdown",
   "id": "2",
   "metadata": {},
   "source": [
    "Note: CAMELS-GB is a rich data resource at the correct resolution but the time series data ends in 2015 so is insufficient for this model. Some of the static features in the dataset are still applicable:\n",
    "\n",
    "- Land cover (e.g., % Urban, % Arable, etc.)\n",
    "- Elevation and slope (from DEMs in the CAMELS dataset)\n",
    "- Soil type / BFIHOST\n",
    "- Hydrogeological classifications (e.g., aquifer classes)\n",
    "- Geographic coordinates (for snapping)"
   ]
  },
  {
   "cell_type": "markdown",
   "id": "3",
   "metadata": {},
   "source": [
    "### Build mesh ###\n",
    "\n",
    "To align ingested data with"
   ]
  },
  {
   "cell_type": "code",
   "execution_count": null,
   "id": "4",
   "metadata": {},
   "outputs": [],
   "source": [
    "# Select Catchment area from country wide gdf\n",
    "define_catchment_polygon(\n",
    "    england_catchment_gdf_path=config[catchment]['paths']['gis_catchment_boundary'],\n",
    "    target_mncat=config[catchment]['target_mncat'],\n",
    "    catchment=catchment,\n",
    "    polygon_output_path=config[catchment]['paths']['gis_catchment_dir']\n",
    ")"
   ]
  },
  {
   "cell_type": "code",
   "execution_count": null,
   "id": "5",
   "metadata": {},
   "outputs": [],
   "source": [
    "# NB: mesh_nodes_gdf are the centroid coords, mesh_cells_gdf_polygons are polygons for e.g. averaging area\n",
    "mesh_nodes_table, mesh_nodes_gdf, mesh_cells_gdf_polygons, catchment_polygon = build_mesh(\n",
    "    shape_filepath=config[catchment]['paths']['gis_catchment_dir'],\n",
    "    output_path=config[catchment]['paths']['mesh_nodes_output'],\n",
    "    catchment=catchment,\n",
    "    grid_resolution=config[catchment]['preprocessing']['graph_construction']['grid_resolution']\n",
    ")"
   ]
  },
  {
   "cell_type": "markdown",
   "id": "6",
   "metadata": {},
   "source": [
    "### Land Cover Data Ingestion and Preprocessing ###"
   ]
  },
  {
   "cell_type": "code",
   "execution_count": null,
   "id": "7",
   "metadata": {},
   "outputs": [],
   "source": [
    "# UKCEH LCM2023\n",
    "agg_land_cover_df = load_land_cover_data(\n",
    "    tif_path=config[catchment]['paths']['raw_land_cover_path'],\n",
    "    csv_path=config[catchment]['paths']['land_cover_csv_path'],\n",
    "    catchment=catchment,\n",
    "    shape_filepath=config[catchment]['paths']['gis_catchment_dir']\n",
    ")\n",
    "\n",
    "display(agg_land_cover_df)"
   ]
  },
  {
   "cell_type": "markdown",
   "id": "8",
   "metadata": {},
   "source": [
    "**UKCEH Aggregate Class (AC) -> Mapped Classes**  \n",
    "    1. Broadleaf woodland -> 1. Woodland  \n",
    "    2. Coniferous woodland -> 1. Woodland  \n",
    "    3. Arable -> 2. Arable  \n",
    "    4. Improved grassland -> 3. Improved grassland  \n",
    "    5. Semi-natural grassland -> 4. Semi-natural grassland  \n",
    "    6. Mountain, heath and bog -> 5. Mountain, heath and bog  \n",
    "    7. Saltwater -> 6. Water & Coastal  \n",
    "    8. Freshwater -> 6. Water & Coastal  \n",
    "    9. Coastal -> 6. Water & Coastal  \n",
    "    10. Built-up areas and gardens -> 7. Urban & Suburban  "
   ]
  },
  {
   "cell_type": "code",
   "execution_count": null,
   "id": "9",
   "metadata": {},
   "outputs": [],
   "source": [
    "logger.info(f\"Preparing land cover data for visual check...\")\n",
    "\n",
    "# Convert land_cover_df to a GeoDataFrame and create a geometry column using the 'lon' and 'lat' coordinates\n",
    "geometry_lc_for_plot = [Point(xy) for xy in zip(agg_land_cover_df['lon'], agg_land_cover_df['lat'])]\n",
    "land_cover_gdf_for_plot = gpd.GeoDataFrame(agg_land_cover_df.copy(), geometry=geometry_lc_for_plot, crs=\"EPSG:4326\")\n",
    "    \n",
    "land_cover_labels = {1: \"Woodland\", 2: \"Arable\", 3: \"Improved grassland\",\n",
    "                     4: \"Semi-Natural Grassland\", 5: \"Mountain, heath and bog\",\n",
    "                     6: \"Water & Coastal\", 7: \"Urban and Suburban\"}\n",
    "\n",
    "land_cover_colors = {1: \"#665142\", 2: \"#a2a182\", 3: \"#9CBD8B\", 4: \"#647D57\",\n",
    "                     5: \"#b7b1aa\", 6: \"#4d85ba\", 7: \"#8e412e\"}\n",
    "\n",
    "# Plot bounding box of data to check spatial geometry (notebook only)\n",
    "land_cover_map = plot_interactive_mesh_colour_coded(\n",
    "    mesh_nodes_gdf=land_cover_gdf_for_plot,\n",
    "    catchment_polygon=catchment_polygon,\n",
    "    map_blue=config['global']['visualisations']['maps']['map_blue'],\n",
    "    esri=config['global']['visualisations']['maps']['esri'],\n",
    "    esri_attr=config['global']['visualisations']['maps']['esri_attr'],\n",
    "    static_output_path=f\"{config[catchment]['visualisations']['maps']['static_mesh_map_output']}_land_cover\",\n",
    "    interactive_output_path=f\"{config[catchment]['visualisations']['maps']['interactive_mesh_map_output']}_land_cover\",\n",
    "    category_colors=land_cover_colors,\n",
    "    category_labels=land_cover_labels,\n",
    "    grid_resolution=config[catchment]['preprocessing']['graph_construction']['grid_resolution'],\n",
    "    interactive=config['global']['visualisations']['maps']['display_interactive_map']\n",
    ")\n",
    "\n",
    "# Display map in notebook\n",
    "land_cover_map"
   ]
  },
  {
   "cell_type": "markdown",
   "id": "10",
   "metadata": {},
   "source": [
    "Merge into nodes mesh"
   ]
  },
  {
   "cell_type": "code",
   "execution_count": null,
   "id": "11",
   "metadata": {},
   "outputs": [],
   "source": [
    "merged_gdf_nodes_landuse = mesh_nodes_gdf.merge(\n",
    "    agg_land_cover_df[['easting', 'northing', 'land_cover_code']],\n",
    "    on=['easting', 'northing'],\n",
    "    how='left'  # left join to keep all centroids, even NaN\n",
    ")"
   ]
  },
  {
   "cell_type": "code",
   "execution_count": null,
   "id": "12",
   "metadata": {},
   "outputs": [],
   "source": [
    "display(merged_gdf_nodes_landuse)"
   ]
  },
  {
   "cell_type": "code",
   "execution_count": null,
   "id": "13",
   "metadata": {},
   "outputs": [],
   "source": [
    "merged_gdf_nodes_landuse['land_cover_code'].value_counts()"
   ]
  },
  {
   "cell_type": "markdown",
   "id": "14",
   "metadata": {},
   "source": [
    "### Elevation Data Ingestion and Preprocessing ###"
   ]
  },
  {
   "cell_type": "code",
   "execution_count": null,
   "id": "15",
   "metadata": {},
   "outputs": [],
   "source": [
    "# DIGIMAPS (via OS Terrain 5 / Terrain 50)\n",
    "elevation_gdf_polygon, clipped_dtm = load_process_elevation_data(\n",
    "    dir_path=config[catchment]['paths']['elevation_dir_path'],\n",
    "    csv_path=config[catchment]['paths']['elevation_tif_path'],\n",
    "    catchment_gdf=catchment_polygon,\n",
    "    mesh_cells_gdf_polygons=mesh_cells_gdf_polygons,\n",
    "    catchment=catchment,\n",
    "    elev_max=config[catchment]['preprocessing']['catchment_max_elevation'],\n",
    "    elev_min=config[catchment]['preprocessing']['catchment_min_elevation'],\n",
    "    output_geojson_dir=config[catchment]['paths']['output_polygon_dir'],\n",
    "    elevation_geojson_path=config[catchment]['paths']['elevation_geojson_path'],\n",
    "    grid_resolution=config[catchment]['preprocessing']['graph_construction']['grid_resolution']\n",
    ")"
   ]
  },
  {
   "cell_type": "code",
   "execution_count": null,
   "id": "16",
   "metadata": {},
   "outputs": [],
   "source": [
    "elevation_gdf_polygon"
   ]
  },
  {
   "cell_type": "code",
   "execution_count": null,
   "id": "17",
   "metadata": {},
   "outputs": [],
   "source": [
    "print(f\"Skewness: {skew(mesh_cells_gdf_polygons['mean_elevation']):.3f}\")\n",
    "\n",
    "sns.histplot(mesh_cells_gdf_polygons['mean_elevation'], kde=True)\n",
    "plt.title(\"Elevation Distribution\")\n",
    "plt.xlabel(\"Mean Elevation (mAOD)\")\n",
    "plt.show()\n"
   ]
  },
  {
   "cell_type": "markdown",
   "id": "18",
   "metadata": {},
   "source": [
    "Moderate skew but not concerning enough at this point to require transformation especially as it wil be scaled. Will return to after first model iteration."
   ]
  },
  {
   "cell_type": "markdown",
   "id": "19",
   "metadata": {},
   "source": [
    "Merge into mesh"
   ]
  },
  {
   "cell_type": "code",
   "execution_count": null,
   "id": "20",
   "metadata": {},
   "outputs": [],
   "source": [
    "merged_gdf_nodes_elevation = merged_gdf_nodes_landuse.merge(\n",
    "    elevation_gdf_polygon[['node_id', 'mean_elevation', 'polygon_geometry']],\n",
    "    on='node_id',\n",
    "    how='left'  # left join to keep all centroids, even NaN\n",
    ")"
   ]
  },
  {
   "cell_type": "code",
   "execution_count": null,
   "id": "21",
   "metadata": {},
   "outputs": [],
   "source": [
    "display(merged_gdf_nodes_elevation)"
   ]
  },
  {
   "cell_type": "markdown",
   "id": "22",
   "metadata": {},
   "source": [
    "### Derive slope data from DEM ###"
   ]
  },
  {
   "cell_type": "code",
   "execution_count": null,
   "id": "23",
   "metadata": {},
   "outputs": [],
   "source": [
    "# Derived from higher resolution DEM data in previous step\n",
    "slope_gdf, directional_edge_weights = derive_slope_data(\n",
    "    high_res_raster=clipped_dtm,\n",
    "    mesh_cells_gdf_polygons=mesh_cells_gdf_polygons,\n",
    "    catchment=catchment,\n",
    "    direction_output_path=config[catchment]['paths']['direction_edge_weights_path'],\n",
    "    slope_output_path=config[catchment]['paths']['slope_path']\n",
    ")"
   ]
  },
  {
   "cell_type": "code",
   "execution_count": null,
   "id": "24",
   "metadata": {},
   "outputs": [],
   "source": [
    "print(f\"Slope (Degrees): {skew(slope_gdf['mean_slope_degrees']):.3f}\")\n",
    "\n",
    "sns.histplot(slope_gdf['mean_slope_degrees'], kde=True)\n",
    "plt.title(\"Slope Distribution\")\n",
    "plt.xlabel(\"Mean Slope (Degrees)\")\n",
    "plt.show()\n"
   ]
  },
  {
   "cell_type": "code",
   "execution_count": null,
   "id": "25",
   "metadata": {},
   "outputs": [],
   "source": [
    "print(f\"Slope Aspect (Sine): {skew(slope_gdf['mean_aspect_sin']):.3f}\")\n",
    "\n",
    "sns.histplot(slope_gdf['mean_aspect_sin'], kde=True)\n",
    "plt.title(\"Slope Aspect Sine Distribution\")\n",
    "plt.xlabel(\"Mean Slope Aspect (Sine)\")\n",
    "plt.show()"
   ]
  },
  {
   "cell_type": "code",
   "execution_count": null,
   "id": "26",
   "metadata": {},
   "outputs": [],
   "source": [
    "print(f\"Slope Aspect (Cosine): {skew(slope_gdf['mean_aspect_cos']):.3f}\")\n",
    "\n",
    "sns.histplot(slope_gdf['mean_aspect_cos'], kde=True)\n",
    "plt.title(\"Slope Aspect Cosine Distribution\")\n",
    "plt.xlabel(\"Mean Slope Aspect (Cosine)\")\n",
    "plt.show()"
   ]
  },
  {
   "cell_type": "code",
   "execution_count": null,
   "id": "27",
   "metadata": {},
   "outputs": [],
   "source": [
    "display(slope_gdf)"
   ]
  },
  {
   "cell_type": "code",
   "execution_count": null,
   "id": "28",
   "metadata": {},
   "outputs": [],
   "source": [
    "merged_gdf_nodes_slope = merged_gdf_nodes_elevation.merge(\n",
    "    slope_gdf[['node_id', 'mean_slope_degrees', 'mean_aspect_sin', 'mean_aspect_cos']],\n",
    "    on='node_id',\n",
    "    how='left'  # left join to keep all centroids, even NaN\n",
    ")\n",
    "\n",
    "merged_gdf_nodes_slope = reorder_static_columns(merged_gdf_nodes_slope)"
   ]
  },
  {
   "cell_type": "code",
   "execution_count": null,
   "id": "29",
   "metadata": {},
   "outputs": [],
   "source": [
    "display(merged_gdf_nodes_slope)"
   ]
  },
  {
   "cell_type": "markdown",
   "id": "30",
   "metadata": {},
   "source": [
    "### Checking the directional weights are logical and plausible based on the map: ###"
   ]
  },
  {
   "cell_type": "code",
   "execution_count": null,
   "id": "31",
   "metadata": {},
   "outputs": [],
   "source": [
    "directional_map = plot_directional_mesh(\n",
    "    directional_edge_weights_gdf=directional_edge_weights,\n",
    "    catchment_polygon=catchment_polygon,\n",
    "    output_path=config[catchment]['visualisations']['maps']['interactive_directional_map_output'],\n",
    "    esri=config['global']['visualisations']['maps']['esri'],\n",
    "    esri_attr=config['global']['visualisations']['maps']['esri_attr']\n",
    ")\n",
    "\n",
    "logger.info(f\"Pipeline step 'Interactive Directional Mesh Mapping' complete for {catchment} catchment.\")\n",
    "\n",
    "# # Show map in notebook\n",
    "# directional_map"
   ]
  },
  {
   "cell_type": "code",
   "execution_count": null,
   "id": "32",
   "metadata": {},
   "outputs": [],
   "source": [
    "display(directional_edge_weights[['mean_slope_dx', 'mean_slope_dy', 'easting', 'northing']])"
   ]
  },
  {
   "cell_type": "markdown",
   "id": "33",
   "metadata": {},
   "source": [
    "### Soil Type Data Ingestion ###"
   ]
  },
  {
   "cell_type": "code",
   "execution_count": null,
   "id": "34",
   "metadata": {},
   "outputs": [],
   "source": [
    "# CEH's Grid-to-Grid soil maps / HOST soil classes"
   ]
  },
  {
   "cell_type": "markdown",
   "id": "35",
   "metadata": {},
   "source": [
    "### Aquifer Type Data Ingestion ###"
   ]
  },
  {
   "cell_type": "code",
   "execution_count": null,
   "id": "36",
   "metadata": {},
   "outputs": [],
   "source": [
    "# DEFRA / British Geological Survey (BGS)\n"
   ]
  },
  {
   "cell_type": "markdown",
   "id": "37",
   "metadata": {},
   "source": [
    "### Aquifer Transmissivity Data Ingestion ###"
   ]
  },
  {
   "cell_type": "code",
   "execution_count": null,
   "id": "38",
   "metadata": {},
   "outputs": [],
   "source": [
    "# DEFRA / British Geological Survey (BGS)"
   ]
  },
  {
   "cell_type": "markdown",
   "id": "39",
   "metadata": {},
   "source": [
    "### Geological Maps Data Ingestion ###"
   ]
  },
  {
   "cell_type": "code",
   "execution_count": null,
   "id": "40",
   "metadata": {},
   "outputs": [],
   "source": [
    "# DIGIMAPS (BGS data via Geology Digimap)\n",
    "\n",
    "# Load and explore geology data\n",
    "mesh_geology_df = load_and_process_geology_layers(\n",
    "    base_dir=config[catchment][\"paths\"][\"geology_dir\"],\n",
    "    mesh_crs=mesh_cells_gdf_polygons.crs,\n",
    "    columns_of_interest={\"bedrock\": [\"RCS_ORIGIN\"], \"superficial\": [\"RCS_D\"]},\n",
    "    mesh_cells_gdf_polygons=mesh_cells_gdf_polygons,\n",
    "    catchment=catchment\n",
    ")\n",
    "\n",
    "mesh_geology_df"
   ]
  },
  {
   "cell_type": "code",
   "execution_count": null,
   "id": "41",
   "metadata": {},
   "outputs": [],
   "source": [
    "feature_category_colors, feature_category_labels, layer_labels = get_geo_feats()\n",
    "geology_map = plot_geology_layers_interactive(\n",
    "    mesh_geology_df=mesh_geology_df,\n",
    "    catchment_polygon=catchment_polygon,\n",
    "    esri=config['global']['visualisations']['maps']['esri'],\n",
    "    esri_attr=config['global']['visualisations']['maps']['esri_attr'],\n",
    "    output_path=config[catchment][\"visualisations\"][\"maps\"][\"interactive_mesh_map_output\"],\n",
    "    feature_columns=['geo_superficial_type','geo_bedrock_type'],\n",
    "    category_colors=feature_category_colors,\n",
    "    category_labels=feature_category_labels,\n",
    "    map_blue=config['global']['visualisations']['maps']['map_blue'],\n",
    "    layer_labels=layer_labels\n",
    ")\n",
    "\n",
    "geology_map"
   ]
  },
  {
   "cell_type": "markdown",
   "id": "42",
   "metadata": {},
   "source": [
    "### Distance from River (Derived) ###"
   ]
  },
  {
   "cell_type": "code",
   "execution_count": null,
   "id": "43",
   "metadata": {},
   "outputs": [],
   "source": [
    "# Derived from DEFRA / DIGIMAP"
   ]
  }
 ],
 "metadata": {
  "kernelspec": {
   "display_name": ".venv",
   "language": "python",
   "name": "python3"
  },
  "language_info": {
   "codemirror_mode": {
    "name": "ipython",
    "version": 3
   },
   "file_extension": ".py",
   "mimetype": "text/x-python",
   "name": "python",
   "nbconvert_exporter": "python",
   "pygments_lexer": "ipython3",
   "version": "3.11.4"
  }
 },
 "nbformat": 4,
 "nbformat_minor": 5
}
