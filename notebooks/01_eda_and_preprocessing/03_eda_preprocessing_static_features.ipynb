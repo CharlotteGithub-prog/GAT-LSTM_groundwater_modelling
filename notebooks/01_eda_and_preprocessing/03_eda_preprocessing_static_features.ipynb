{
 "cells": [
  {
   "cell_type": "code",
   "execution_count": null,
   "id": "146261f0",
   "metadata": {},
   "outputs": [],
   "source": [
    "# Load library imports\n",
    "import os\n",
    "import ast\n",
    "import folium\n",
    "import logging\n",
    "import requests\n",
    "import numpy as np\n",
    "import pandas as pd\n",
    "import geopandas as gpd\n",
    "import matplotlib.pyplot as plt\n",
    "import matplotlib.dates as mdates\n",
    "\n",
    "from pyproj import Transformer\n",
    "from shapely.geometry import box\n",
    "from datetime import datetime, timedelta\n",
    "\n",
    "# Load project Imports\n",
    "from src.utils.config_loader import load_project_config"
   ]
  },
  {
   "cell_type": "code",
   "execution_count": null,
   "id": "b4a7b5e0",
   "metadata": {},
   "outputs": [],
   "source": [
    "# Set up logging config\n",
    "logging.basicConfig(\n",
    "    level=logging.INFO,\n",
    "   format='%(levelname)s - %(message)s',\n",
    "#    format='%(asctime)s - %(levelname)s - %(name)s - %(message)s',\n",
    "    handlers=[logging.StreamHandler(sys.stdout)]\n",
    ")\n",
    "\n",
    "# Set up logger for file and load config file for paths and params\n",
    "logger = logging.getLogger(__name__)\n",
    "config = load_project_config(config_path=\"config/eden_project_config.yaml\")"
   ]
  }
 ],
 "metadata": {
  "language_info": {
   "name": "python"
  }
 },
 "nbformat": 4,
 "nbformat_minor": 5
}
