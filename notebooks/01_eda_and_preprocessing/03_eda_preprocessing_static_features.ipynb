{
 "cells": [
  {
   "cell_type": "code",
   "execution_count": null,
   "id": "0",
   "metadata": {},
   "outputs": [],
   "source": [
    "# Load library imports\n",
    "import sys\n",
    "import torch\n",
    "import random\n",
    "import logging\n",
    "import numpy as np\n",
    "import pandas as pd\n",
    "import geopandas as gpd\n",
    "from shapely.geometry import box\n",
    "from shapely.geometry import Point\n",
    "\n",
    "# Load project Imports\n",
    "from src.utils.config_loader import load_project_config\n",
    "from src.visualisation.mapped_visualisations import plot_interactive_mesh\n",
    "from src.data_ingestion.landcover_data_ingestion import load_land_cover_data"
   ]
  },
  {
   "cell_type": "code",
   "execution_count": null,
   "id": "1",
   "metadata": {},
   "outputs": [],
   "source": [
    "# Set up logger config\n",
    "logging.basicConfig(\n",
    "    level=logging.INFO,\n",
    "   format='%(levelname)s - %(message)s',\n",
    "#    format='%(asctime)s - %(levelname)s - %(name)s - %(message)s',\n",
    "    handlers=[logging.StreamHandler(sys.stdout)]\n",
    ")\n",
    "\n",
    "# Set up logger for file and load config file for paths and params\n",
    "logger = logging.getLogger(__name__)\n",
    "config = load_project_config(config_path=\"config/project_config.yaml\")\n",
    "notebook = True\n",
    "\n",
    "# Set up seeding to define global states\n",
    "random_seed = config[\"global\"][\"pipeline_settings\"][\"random_seed\"]\n",
    "random.seed(random_seed)\n",
    "np.random.seed(random_seed)\n",
    "torch.manual_seed(random_seed)\n",
    "torch.cuda.manual_seed_all(random_seed)\n",
    "torch.backends.cudnn.deterministic = True\n",
    "torch.backends.cudnn.benchmark = False\n",
    "\n",
    "# Define notebook demo catchment\n",
    "catchments_to_process = config[\"global\"][\"pipeline_settings\"][\"catchments_to_process\"]\n",
    "catchment = catchments_to_process[0]\n",
    "run_defra_API_calls = config[\"global\"][\"pipeline_settings\"][\"run_defra_api\"]  # True to run API calls\n",
    "\n",
    "logger.info(f\"Show Notebook Outputs: {notebook}\")\n",
    "logger.info(f\"Notebook Demo Catchment: {catchment.capitalize()}\")"
   ]
  },
  {
   "cell_type": "markdown",
   "id": "2",
   "metadata": {},
   "source": [
    "Note: CAMELS-GB is a rich data resource at the correct resolution but the time series data ends in 2015 so is insufficient for this model. Some of the static features in the dataset are still applicable:\n",
    "\n",
    "- Land cover (e.g., % Urban, % Arable, etc.)\n",
    "- Elevation and slope (from DEMs in the CAMELS dataset)\n",
    "- Soil type / BFIHOST\n",
    "- Hydrogeological classifications (e.g., aquifer classes)\n",
    "- Geographic coordinates (for snapping)"
   ]
  },
  {
   "cell_type": "markdown",
   "id": "3",
   "metadata": {},
   "source": [
    "### Land Cover Data Ingestion ###"
   ]
  },
  {
   "cell_type": "code",
   "execution_count": null,
   "id": "4",
   "metadata": {},
   "outputs": [],
   "source": [
    "# UKCEH LCM2023\n",
    "land_cover_df, catchment_gdf = load_land_cover_data(\n",
    "    tif_path='data/01_raw/eden/static/land_cover/gb2023lcm1km_dominant_aggregate.tif',\n",
    "    csv_path='data/02_processed/eden/static/land_cover/land_cover.csv',\n",
    "    catchment=catchment,\n",
    "    shape_filepath=config[catchment]['paths']['gis_catchment_boundary']\n",
    ")"
   ]
  },
  {
   "cell_type": "code",
   "execution_count": null,
   "id": "5",
   "metadata": {},
   "outputs": [],
   "source": [
    "display(land_cover_df)"
   ]
  },
  {
   "cell_type": "code",
   "execution_count": null,
   "id": "6",
   "metadata": {},
   "outputs": [],
   "source": [
    "categories = land_cover_df['land_cover_code'].value_counts()\n",
    "print(categories)"
   ]
  },
  {
   "cell_type": "code",
   "execution_count": null,
   "id": "7",
   "metadata": {},
   "outputs": [],
   "source": [
    "logger.info(f\"Preparing land cover data for visual check...\")\n",
    "\n",
    "# Convert land_cover_df to a GeoDataFrame and create a geometry column using the 'lon' and 'lat' coordinates\n",
    "geometry_lc_for_plot = [Point(xy) for xy in zip(land_cover_df['lon'], land_cover_df['lat'])]\n",
    "land_cover_gdf_for_plot = gpd.GeoDataFrame(land_cover_df.copy(), geometry=geometry_lc_for_plot, crs=\"EPSG:4326\")\n",
    "\n",
    "# Plot bounding box of data to check spatial geometry (notebook only)\n",
    "land_cover_map = plot_interactive_mesh(\n",
    "    mesh_nodes_gdf=land_cover_gdf_for_plot, # This will plot your land cover points\n",
    "    catchment_polygon=catchment_gdf, # This will plot your catchment boundary\n",
    "    map_blue=config['global']['visualisations']['maps']['map_blue'],\n",
    "    esri=config['global']['visualisations']['maps']['esri'],\n",
    "    esri_attr=config['global']['visualisations']['maps']['esri_attr'],\n",
    "    static_output_path=f\"{config[catchment]['visualisations']['maps']['static_mesh_map_output']}_land_cover\",\n",
    "    interactive_output_path=f\"{config[catchment]['visualisations']['maps']['interactive_mesh_map_output']}_land_cover\",\n",
    "    grid_resolution=config[catchment]['preprocessing']['graph_construction']['grid_resolution'],\n",
    "    interactive=config['global']['visualisations']['maps']['display_interactive_map']\n",
    ")\n",
    "\n",
    "# Display map in notebook\n",
    "land_cover_map"
   ]
  },
  {
   "cell_type": "markdown",
   "id": "8",
   "metadata": {},
   "source": [
    "### Elevation Data Ingestion ###"
   ]
  },
  {
   "cell_type": "code",
   "execution_count": null,
   "id": "9",
   "metadata": {},
   "outputs": [],
   "source": [
    "# DIGIMAPS (via OS Terrain 5 / Terrain 50)"
   ]
  },
  {
   "cell_type": "markdown",
   "id": "10",
   "metadata": {},
   "source": [
    "### Slope Data Ingestion ###"
   ]
  },
  {
   "cell_type": "code",
   "execution_count": null,
   "id": "11",
   "metadata": {},
   "outputs": [],
   "source": [
    "# DEMS / CAMELS-GB"
   ]
  },
  {
   "cell_type": "markdown",
   "id": "12",
   "metadata": {},
   "source": [
    "### Soil Type Data Ingestion ###"
   ]
  },
  {
   "cell_type": "code",
   "execution_count": null,
   "id": "13",
   "metadata": {},
   "outputs": [],
   "source": [
    "# CEH's Grid-to-Grid soil maps / HOST soil classes"
   ]
  },
  {
   "cell_type": "markdown",
   "id": "14",
   "metadata": {},
   "source": [
    "### Aquifer Type Data Ingestion ###"
   ]
  },
  {
   "cell_type": "code",
   "execution_count": null,
   "id": "15",
   "metadata": {},
   "outputs": [],
   "source": [
    "# DEFRA / British Geological Survey (BGS)"
   ]
  },
  {
   "cell_type": "markdown",
   "id": "16",
   "metadata": {},
   "source": [
    "### Aquifer Transmissivity Data Ingestion ###"
   ]
  },
  {
   "cell_type": "code",
   "execution_count": null,
   "id": "17",
   "metadata": {},
   "outputs": [],
   "source": [
    "# DEFRA / British Geological Survey (BGS)"
   ]
  },
  {
   "cell_type": "markdown",
   "id": "18",
   "metadata": {},
   "source": [
    "### Geological Maps Data Ingestion ###"
   ]
  },
  {
   "cell_type": "code",
   "execution_count": null,
   "id": "19",
   "metadata": {},
   "outputs": [],
   "source": [
    "# DIGIMAPS (BGS data via Geology Digimap)"
   ]
  },
  {
   "cell_type": "markdown",
   "id": "20",
   "metadata": {},
   "source": [
    "### Distance from River (Derived) ###"
   ]
  },
  {
   "cell_type": "code",
   "execution_count": null,
   "id": "21",
   "metadata": {},
   "outputs": [],
   "source": [
    "# Derived from DEFRA / DIGIMAP"
   ]
  }
 ],
 "metadata": {
  "kernelspec": {
   "display_name": ".venv",
   "language": "python",
   "name": "python3"
  },
  "language_info": {
   "codemirror_mode": {
    "name": "ipython",
    "version": 3
   },
   "file_extension": ".py",
   "mimetype": "text/x-python",
   "name": "python",
   "nbconvert_exporter": "python",
   "pygments_lexer": "ipython3",
   "version": "3.11.4"
  }
 },
 "nbformat": 4,
 "nbformat_minor": 5
}
