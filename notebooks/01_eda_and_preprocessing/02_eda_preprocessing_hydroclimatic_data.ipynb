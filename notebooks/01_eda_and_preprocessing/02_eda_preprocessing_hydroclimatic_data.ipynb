{
 "cells": [
  {
   "cell_type": "code",
   "execution_count": 1,
   "id": "526d2eb5",
   "metadata": {},
   "outputs": [],
   "source": [
    "# Load library imports\n",
    "import os\n",
    "import sys\n",
    "import torch\n",
    "import random\n",
    "import logging\n",
    "import numpy as np\n",
    "import xarray as xr\n",
    "import pandas as pd\n",
    "import geopandas as gpd\n",
    "import matplotlib.pyplot as plt\n",
    "import matplotlib.dates as mdates\n",
    "\n",
    "from pyproj import Transformer\n",
    "from shapely.geometry import box\n",
    "from datetime import datetime, timedelta\n",
    "\n",
    "# Load project Imports\n",
    "from src.utils.config_loader import load_project_config\n",
    "from src.graph_building.graph_construction import build_mesh, \\\n",
    "    define_catchment_polygon\n",
    "from src.data_ingestion.spatial_transformations import find_catchment_boundary\n",
    "from src.data_ingestion.timeseries_data_ingestion import find_haduk_file_names, \\\n",
    "    load_era5_land_data"
   ]
  },
  {
   "cell_type": "code",
   "execution_count": 2,
   "id": "97436df8",
   "metadata": {},
   "outputs": [
    {
     "name": "stdout",
     "output_type": "stream",
     "text": [
      "INFO - Loading configuration from: /Users/charlotte/Desktop/Dissertation_Code/config/project_config.yaml\n",
      "INFO - Show Notebook Outputs: True\n",
      "INFO - Notebook Demo Catchment: Eden\n"
     ]
    }
   ],
   "source": [
    "# Set up logger config\n",
    "logging.basicConfig(\n",
    "    level=logging.INFO,\n",
    "   format='%(levelname)s - %(message)s',\n",
    "#    format='%(asctime)s - %(levelname)s - %(name)s - %(message)s',\n",
    "    handlers=[logging.StreamHandler(sys.stdout)]\n",
    ")\n",
    "\n",
    "# Set up logger for file and load config file for paths and params\n",
    "logger = logging.getLogger(__name__)\n",
    "config = load_project_config(config_path=\"config/project_config.yaml\")\n",
    "notebook = True\n",
    "\n",
    "# Set up seeding to define global states\n",
    "random_seed = config[\"global\"][\"pipeline_settings\"][\"random_seed\"]\n",
    "random.seed(random_seed)\n",
    "np.random.seed(random_seed)\n",
    "torch.manual_seed(random_seed)\n",
    "torch.cuda.manual_seed_all(random_seed)\n",
    "torch.backends.cudnn.deterministic = True\n",
    "torch.backends.cudnn.benchmark = False\n",
    "\n",
    "# Define notebook demo catchment\n",
    "catchments_to_process = config[\"global\"][\"pipeline_settings\"][\"catchments_to_process\"]\n",
    "catchment = catchments_to_process[0]\n",
    "run_defra_API_calls = config[\"global\"][\"pipeline_settings\"][\"run_defra_api\"]  # True to run API calls\n",
    "\n",
    "logger.info(f\"Show Notebook Outputs: {notebook}\")\n",
    "logger.info(f\"Notebook Demo Catchment: {catchment.capitalize()}\")"
   ]
  },
  {
   "cell_type": "markdown",
   "id": "8800456e",
   "metadata": {},
   "source": [
    "### Build mesh ###\n",
    "\n",
    "To align ingested data with"
   ]
  },
  {
   "cell_type": "code",
   "execution_count": 3,
   "id": "866ef558",
   "metadata": {},
   "outputs": [
    {
     "name": "stdout",
     "output_type": "stream",
     "text": [
      "INFO - Eden and Esk boundary polygon(s) extracted from England data.\n",
      "data/01_raw/eden/gis/eden_catchment_boundary/eden_combined_boundary.geojson\n",
      "INFO - Combined Eden and Esk boundary saved to: data/01_raw/eden/gis/eden_catchment_boundary/eden_combined_boundary.geojson\n"
     ]
    }
   ],
   "source": [
    "# Select Catchment area from country wide gdf\n",
    "define_catchment_polygon(\n",
    "    england_catchment_gdf_path=config[catchment]['paths']['gis_catchment_boundary'],\n",
    "    target_mncat=config[catchment]['target_mncat'],\n",
    "    catchment=catchment,\n",
    "    polygon_output_path=config[catchment]['paths']['gis_catchment_dir']\n",
    ")"
   ]
  },
  {
   "cell_type": "code",
   "execution_count": 4,
   "id": "70bac730",
   "metadata": {},
   "outputs": [
    {
     "name": "stdout",
     "output_type": "stream",
     "text": [
      "INFO - BUILD_MESH: Starting mesh construction with input: data/01_raw/eden/gis/eden_catchment_boundary/eden_combined_boundary.geojson and resolution: 1000m\n",
      "\n",
      "INFO - Finding eden catchment spatial boundaries...\n",
      "\n",
      "INFO - Loading  boundary from: data/01_raw/eden/gis/eden_catchment_boundary/eden_combined_boundary.geojson\n",
      "INFO - Single polygon found in the catchment boundary.\n",
      "INFO - Catchment bounding box: min_x=325093.81960000005, min_y=495490.0, max_x=389010.0, max_y=590440.0\n",
      "\n",
      "INFO - Aligned minx: 325000.0, miny: 495000.0, maxx: 390000.0, maxy: 591000.0\n",
      "INFO - Number of x-coordinates (bottom-left): 66\n",
      "INFO - Number of y-coordinates (bottom-left): 97\n",
      "\n",
      "INFO - Generated 6402 grid cells (centroids and polygons) within bounding box (before filtering).\n",
      "INFO - Filtered down to catchment boundary containing 2750 nodes\n",
      "\n",
      "INFO - First few mesh nodes (centroids with coordinates):\n",
      "\n",
      "     node_id   easting  northing       lon        lat\n",
      "64         0  325500.0  559500.0 -3.163979  54.924606\n",
      "130        1  326500.0  528500.0 -3.140511  54.646229\n",
      "131        2  326500.0  529500.0 -3.140763  54.655214\n",
      "139        3  326500.0  537500.0 -3.142781  54.727092\n",
      "160        4  326500.0  558500.0 -3.148123  54.915770\n",
      "\n",
      "INFO - Total number of mesh nodes (centroids) for the catchment: 2750\n",
      "\n",
      "INFO - Saved mesh nodes CSV to: data/02_processed/eden/gis_and_mesh/catchment_mesh_nodes_1000.csv\n",
      "INFO - Saved mesh nodes GPKG to: data/02_processed/eden/gis_and_mesh/catchment_mesh_nodes_1000.gpkg\n",
      "INFO - Saved mesh nodes shp to: data/02_processed/eden/gis_and_mesh/catchment_mesh_nodes_1000.shp\n",
      "\n"
     ]
    }
   ],
   "source": [
    "# NB: mesh_nodes_gdf are the centroid coords, mesh_cells_gdf_polygons are polygons for e.g. averaging area\n",
    "mesh_nodes_table, mesh_nodes_gdf, mesh_cells_gdf_polygons, catchment_polygon = build_mesh(\n",
    "    shape_filepath=config[catchment]['paths']['gis_catchment_dir'],\n",
    "    output_path=config[catchment]['paths']['mesh_nodes_output'],\n",
    "    catchment=catchment,\n",
    "    grid_resolution=config[catchment]['preprocessing']['graph_construction']['grid_resolution']\n",
    ")"
   ]
  },
  {
   "cell_type": "markdown",
   "id": "5ae7791e",
   "metadata": {},
   "source": [
    "### Rainfall Ingestion and Preprocessing ###"
   ]
  },
  {
   "cell_type": "code",
   "execution_count": 5,
   "id": "3c6980b0",
   "metadata": {},
   "outputs": [],
   "source": [
    "haduk_urls = find_haduk_file_names(\n",
    "    start_date=config[\"global\"][\"data_ingestion\"][\"model_start_date\"],\n",
    "    end_date=config[\"global\"][\"data_ingestion\"][\"model_end_date\"],\n",
    "    base_url = config[\"global\"][\"paths\"][\"HAD_UK_rainfall_url\"]\n",
    ")"
   ]
  },
  {
   "cell_type": "markdown",
   "id": "faf3a4a4",
   "metadata": {},
   "source": [
    "Continue with the following once https://www.ceda.ac.uk/status/ allows."
   ]
  },
  {
   "cell_type": "code",
   "execution_count": 6,
   "id": "9abd6726",
   "metadata": {},
   "outputs": [
    {
     "name": "stdout",
     "output_type": "stream",
     "text": [
      "Failed to open dataset. This may be due to CEDA login issues. Check https://www.ceda.ac.uk/status/\n",
      "[Errno -72] NetCDF: Malformed or inaccessible DAP2 DDS or DAP4 DMR response: 'https://dap.ceda.ac.uk/thredds/dodsC/badc/ukmo-hadobs/data/insitu/MOHC/HadOBS/HadUK-Grid/v1.3.0.ceda/1km/rainfall/day/v20240514/rainfall_hadukgrid_uk_1km_day_20140101-20140131.nc'\n"
     ]
    },
    {
     "name": "stderr",
     "output_type": "stream",
     "text": [
      "syntax error, unexpected WORD_WORD, expecting SCAN_ATTR or SCAN_DATASET or SCAN_ERROR\n",
      "context: <!DOCTYPE^ html><html lang=\"en\"> <head> <meta charset=\"utf-8\"> <title>Login</title> <meta name=\"viewport\" content=\"width=device-width, initial-scale=1\"> <meta http-equiv=\"X-UA-Compatible\" content=\"IE=edge\" />     <!-- Bootstrap Core CSS --> <link rel=\"stylesheet\" href=\"https://artefacts.ceda.ac.uk/themes/orgtheme_ceda_serv/0.2/4/flatly/bootstrap.css\" media=\"screen\"> <!-- Custom CSS --> <link rel=\"stylesheet\" href=\"https://artefacts.ceda.ac.uk/themes/orgtheme_ceda_serv/0.2/_assets/css/custom.min.css\"> <link rel=\"stylesheet\" href=\"https://artefacts.ceda.ac.uk/themes/orgtheme_ceda_serv/0.2/_assets/css/org-custom.css\">   <link href=\"/static/fwtheme_django/css/fw-custom.css\" rel=\"stylesheet\"> <!-- Custom Fonts --> <link rel=\"stylesheet\" href=\"https://use.fontawesome.com/releases/v5.0.10/css/all.css\" integrity=\"sha384-+d0P83n9kaQMCwj8F4RJB66tzIwOKmrdb46+porD/OvrJ+37WqIM7UoBtwHO6Nlg\" crossorigin=\"anonymous\">  <link href=\"/static/dj_security/css/dj_security_custom.css\" rel=\"stylesheet\">   <script src=\"/static/cookielaw/js/cookielaw.js\"></script>   </head> <body id=\"body\">    <div class=\"alert alert-info text-center\" id=\"CookielawBanner\"> This website uses cookies. By continuing to use this website you are agreeing to our use of cookies.&nbsp; <div class=\"btn-group\"> <button type=\"button\" class=\"btn btn-secondary\" onclick=\"javascript:Cookielaw.createCookielawCookie();\">OK</a> <button type=\"button\" class=\"btn btn-secondary\" onclick=\"javascript:window.open('http://www.ceda.ac.uk/privacy-and-cookies/')\">Find out more</button> </div> </div>     <div class=\"navbar navbar-expand-lg fixed-top navbar-dark bg-primary\"> <div class=\"container\">  <a href=\"http://archive.ceda.ac.uk/\" class=\"navbar-brand\"> <img src=\"https://artefacts.ceda.ac.uk/themes/orgtheme_ceda_serv/0.2/_assets/img/ceda_archive_logo_transp_white_3_h80.png\" alt=\"CEDA logo\"> </a>  <button class=\"navbar-toggler\" type=\"button\" data-toggle=\"collapse\" data-target=\"#navbarResponsive\" aria-controls=\"navbarResponsive\" aria-expanded=\"false\" aria-label=\"Toggle navigation\"> <span class=\"navbar-toggler-icon\"></span> </button>       </div> </div>       <div class=\"container\">   <div class=\"page-header\" id=\"banner\"> <div class=\"row\"> <div class=\"col-lg-8 col-md-7 col-sm-6\"> <div class=\"\"> <h1>Login</h1></div> </div>  <div class=\"col-lg-4 col-md-5 col-sm-6\"> <div class=\"sponsor\">   </div> </div>  </div> </div>   <div class=\"row\"> <div class=\"col-md-12\"> <div class=\"d-md-flex\"> <div class=\"col-lg-12 col-md-12 col-sm-12 col-xs-6 text-center\"> <div class=\"row\"> <div id=\"login\" class=\"col-lg-7 col-md-7 col-sm-12 col-xs-6 mt-4\"> <div class=\"row justify-content-left\"> <div class=\"col-lg-12\">    <form class=\"form-signin\" id=\"auth_form\" name=\"auth_form\" action=\"/account/signin/\" method=\"post\"> <input type=\"hidden\" name=\"csrfmiddlewaretoken\" value=\"0QgIXhASTKSsxtzYUzaqxeUv8dBjGKZ1ngXC9SkDQA8AC5Q8iU8FWJkZpwyazC0D\">  <div class=\"form-row mb-2\"> <label for=\"id_username\" class=\"sr-only\">Username</label> <input type=\"text\" name=\"username\" id=\"id_username\" class=\"form-control\" maxlength=\"40\" placeholder=\"Username\" required autofocus> </div>  <div class=\"form-row mb-2\"> <label for=\"id_password\" class=\"sr-only\">Password</label> <input type=\"password\" name=\"password\" id=\"id_password\" class=\"form-control\" placeholder=\"Password\" required> </div>  <div class=\"form-row\"> <button class=\"btn btn-lg btn-primary btn-block\" type=\"submit\">Sign in</button> </div>  </form> </div> </div> </div> <div class=\"col-lg-5 col-md-5 col-sm-12 col-xs-6 mt-4\"> <div class=\"row justify-content-center\"> <div class=\"col-lg-10\"> <p> <a href=\"https://accounts.ceda.ac.uk/realms/ceda/account/#/personal-info\" class=\"btn btn-lg btn-primary btn-block\" >Register for an account!</a> </p> <p class=\"justify-content-around border border-light border-bottom-0 border-left-0 border-right-0 lead pt-2\"> <a href=\"https://accounts.ceda.ac.uk/realms/ceda/account/#/personal-info\">Forgot your password?</a> </p> <p class=\"justify-content-around border border-light border-bottom-0 border-left-0 border-right-0 lead pt-2\"> Problems logging on? Contact <a href=\"http://www.ceda.ac.uk/contact\">CEDA</a> support for help </p> </div> </div> </div> </div> </div></div> </div> </div>   </div>   <footer> <div class=\"container\"> <div class=\"row d-flex justify-content-around border border-light border-bottom-0 border-left-0 border-right-0 pt-5 pb-2 mt-5\"> <div class=\"col col-md-4 text-center \"> <a href=\"http://www.ncas.ac.uk\" title=\"NCAS\"><img src=\"https://artefacts.ceda.ac.uk/themes/orgtheme_ceda_serv/0.2/_assets/img/ncas_logo_transparent_blacktext.png\" title=\"NCAS logo\" alt=\"NCAS logo\" ></a> </div> <div class=\"col-md-4\"> <p class=\"text-center small\"> Copyright © 2018 <a href=\"http://www.stfc.ac.uk\">STFC</a> All Rights Reserved<br> <a href=\"http://www.ceda.ac.uk/accessibility\" target=\"_blank\">Accessibility</a> | <a href=\"http://www.ceda.ac.uk/disclaimer\" target=\"_blank\">Disclaimer</a> | <a href=\"http://www.ceda.ac.uk/privacy-and-cookies/\" target=\"_blank\">Privacy and Cookies</a><br/> <a href=\"http://www.ceda.ac.uk\" target=\"_blank\">CEDA</a> </p> </div> <div class=\"col col-md-4 text-center\"> <a href=\"http://www.nceo.ac.uk\" title=\"STFC\"><img src=\"https://artefacts.ceda.ac.uk/themes/orgtheme_ceda_serv/0.2/_assets/img/nceologo200.png\" title=\"NCEO logo\" alt=\"NCEO logo\"></a> </div> </div> </div> </footer>  <script src=\"https://artefacts.ceda.ac.uk/themes/orgtheme/0.2/_vendor/jquery/dist/jquery.min.js\"></script> <script src=\"https://artefacts.ceda.ac.uk/themes/orgtheme/0.2/_vendor/popper.js/dist/umd/popper.min.js\"></script> <script src=\"https://artefacts.ceda.ac.uk/themes/orgtheme/0.2/_vendor/bootstrap/dist/js/bootstrap.min.js\"></script> <script src=\"https://artefacts.ceda.ac.uk/themes/orgtheme/0.2/_assets/js/custom.js\"></script>   </body></html>\n"
     ]
    }
   ],
   "source": [
    "os.environ[\"NETRC\"] = os.path.abspath(\"ceda_credentials.netrc\")\n",
    "url = haduk_urls[0]\n",
    "\n",
    "try:\n",
    "    ds = xr.open_dataset(url, engine=\"netcdf4\")\n",
    "    print(ds)\n",
    "except OSError as e:\n",
    "    print(\"Failed to open dataset. This may be due to CEDA login issues. Check https://www.ceda.ac.uk/status/\")\n",
    "    print(e)"
   ]
  },
  {
   "cell_type": "markdown",
   "id": "f813b0aa",
   "metadata": {},
   "source": [
    "### Temperature Ingestion and Preprocessing ###\n",
    "\n",
    "Continue with the following once https://www.ceda.ac.uk/status/ allows."
   ]
  },
  {
   "cell_type": "markdown",
   "id": "b6ed0e60",
   "metadata": {},
   "source": [
    "### AET Ingestion and Preprocessing ###"
   ]
  },
  {
   "cell_type": "code",
   "execution_count": null,
   "id": "39e5079d",
   "metadata": {},
   "outputs": [
    {
     "name": "stderr",
     "output_type": "stream",
     "text": [
      "2025-07-11 18:46:15,561 INFO [2024-09-26T00:00:00] Watch our [Forum](https://forum.ecmwf.int/) for Announcements, news and other discussed topics.\n"
     ]
    },
    {
     "name": "stdout",
     "output_type": "stream",
     "text": [
      "INFO - [2024-09-26T00:00:00] Watch our [Forum](https://forum.ecmwf.int/) for Announcements, news and other discussed topics.\n",
      "INFO - Finding eden catchment spatial boundaries...\n",
      "\n",
      "INFO - Loading  boundary from: data/01_raw/eden/gis/eden_catchment_boundary/eden_combined_boundary.geojson\n",
      "INFO - Single polygon found in the catchment boundary.\n",
      "INFO - Catchment bounding box: min_x=325093.81960000005, min_y=495490.0, max_x=389010.0, max_y=590440.0\n",
      "\n",
      "INFO - Converting 'easting'/'northing' to 'lon'/'lat'...\n",
      "INFO - Catchment BBox (lat/lon): (np.float64(55.20808470523775), np.float64(54.34942479634069), np.float64(-2.1742353207346743), np.float64(-3.153909164951907))\n",
      "INFO - Catchment polygon CRS: EPSG:27700\n",
      "INFO - Catchment polygon area (approx.): 8231.092448085472 km^2\n",
      "INFO - API PROGRESS: Starting call 1 of 132\n",
      "INFO - Retrieving total_evaporation data from ERA5-Land data for 2014 -> month 1...\n",
      "\n"
     ]
    },
    {
     "name": "stderr",
     "output_type": "stream",
     "text": [
      "2025-07-11 18:46:15,945 INFO Request ID is a7eadc58-7972-492e-9b7e-39e93c932bc6\n"
     ]
    },
    {
     "name": "stdout",
     "output_type": "stream",
     "text": [
      "INFO - Request ID is a7eadc58-7972-492e-9b7e-39e93c932bc6\n"
     ]
    },
    {
     "name": "stderr",
     "output_type": "stream",
     "text": [
      "2025-07-11 18:46:16,089 INFO status has been updated to accepted\n"
     ]
    },
    {
     "name": "stdout",
     "output_type": "stream",
     "text": [
      "INFO - status has been updated to accepted\n"
     ]
    },
    {
     "name": "stderr",
     "output_type": "stream",
     "text": [
      "2025-07-11 18:46:21,311 INFO status has been updated to running\n"
     ]
    },
    {
     "name": "stdout",
     "output_type": "stream",
     "text": [
      "INFO - status has been updated to running\n"
     ]
    },
    {
     "name": "stderr",
     "output_type": "stream",
     "text": [
      "2025-07-11 18:46:24,801 INFO status has been updated to failed\n"
     ]
    },
    {
     "name": "stdout",
     "output_type": "stream",
     "text": [
      "INFO - status has been updated to failed\n",
      "ERROR - Error retrieving or processing total_evaporation data for 01/2014: 400 Client Error: Bad Request for url: https://cds.climate.copernicus.eu/api/retrieve/v1/jobs/a7eadc58-7972-492e-9b7e-39e93c932bc6/results\n",
      "The job has failed.\n",
      "The job failed with: MultiAdaptorNoDataError\n",
      "\n",
      "INFO - API PROGRESS: Starting call 2 of 132\n",
      "INFO - Retrieving total_evaporation data from ERA5-Land data for 2014 -> month 2...\n",
      "\n"
     ]
    },
    {
     "name": "stderr",
     "output_type": "stream",
     "text": [
      "2025-07-11 18:46:25,367 INFO Request ID is 17a70d61-1513-4774-abc6-7a2c42e04775\n"
     ]
    },
    {
     "name": "stdout",
     "output_type": "stream",
     "text": [
      "INFO - Request ID is 17a70d61-1513-4774-abc6-7a2c42e04775\n"
     ]
    },
    {
     "name": "stderr",
     "output_type": "stream",
     "text": [
      "2025-07-11 18:46:25,461 INFO status has been updated to accepted\n"
     ]
    },
    {
     "name": "stdout",
     "output_type": "stream",
     "text": [
      "INFO - status has been updated to accepted\n"
     ]
    },
    {
     "name": "stderr",
     "output_type": "stream",
     "text": [
      "2025-07-11 18:46:30,454 INFO status has been updated to running\n"
     ]
    },
    {
     "name": "stdout",
     "output_type": "stream",
     "text": [
      "INFO - status has been updated to running\n"
     ]
    },
    {
     "name": "stderr",
     "output_type": "stream",
     "text": [
      "2025-07-11 18:46:34,018 INFO status has been updated to failed\n"
     ]
    },
    {
     "name": "stdout",
     "output_type": "stream",
     "text": [
      "INFO - status has been updated to failed\n",
      "ERROR - Error retrieving or processing total_evaporation data for 02/2014: 400 Client Error: Bad Request for url: https://cds.climate.copernicus.eu/api/retrieve/v1/jobs/17a70d61-1513-4774-abc6-7a2c42e04775/results\n",
      "The job has failed.\n",
      "The job failed with: MultiAdaptorNoDataError\n",
      "\n",
      "INFO - API PROGRESS: Starting call 3 of 132\n",
      "INFO - Retrieving total_evaporation data from ERA5-Land data for 2014 -> month 3...\n",
      "\n"
     ]
    },
    {
     "name": "stderr",
     "output_type": "stream",
     "text": [
      "2025-07-11 18:46:34,379 INFO Request ID is db000059-c8e4-44ec-b65c-933098879fc9\n"
     ]
    },
    {
     "name": "stdout",
     "output_type": "stream",
     "text": [
      "INFO - Request ID is db000059-c8e4-44ec-b65c-933098879fc9\n"
     ]
    },
    {
     "name": "stderr",
     "output_type": "stream",
     "text": [
      "2025-07-11 18:46:34,460 INFO status has been updated to accepted\n"
     ]
    },
    {
     "name": "stdout",
     "output_type": "stream",
     "text": [
      "INFO - status has been updated to accepted\n"
     ]
    }
   ],
   "source": [
    "aet_data = load_era5_land_data(\n",
    "    catchment=catchment,\n",
    "    shape_filepath=config[catchment]['paths']['gis_catchment_dir'],\n",
    "    required_crs=27700,\n",
    "    cdsapi_path=config[\"global\"][\"paths\"][\"CDSAPI_path\"],\n",
    "    start_date=config[\"global\"][\"data_ingestion\"][\"model_start_date\"],\n",
    "    end_date=config[\"global\"][\"data_ingestion\"][\"model_end_date\"],\n",
    "    run_era5_land_api=config[\"global\"][\"pipeline_settings\"][\"run_era5_land_api\"],\n",
    "    raw_output_dir=config[catchment][\"paths\"][\"aet_raw_output_dir\"],\n",
    "    processed_output_dir=config[catchment][\"paths\"][\"aet_processed_output_dir\"],\n",
    "    csv_path=config[catchment][\"paths\"][\"aet_csv_path\"],\n",
    "    fig_path=config[catchment][\"paths\"][\"aet_fig_path\"],\n",
    "    era5_feat='e',\n",
    "    era5_long='total_evaporation',\n",
    "    feat_name='aet',\n",
    "    aggregation_type='sum'\n",
    ")"
   ]
  },
  {
   "cell_type": "markdown",
   "id": "a2f29f86",
   "metadata": {},
   "source": [
    "### 2m Surface Temperature Ingestion and Preprocessing ###"
   ]
  },
  {
   "cell_type": "code",
   "execution_count": null,
   "id": "18cf6d35",
   "metadata": {},
   "outputs": [],
   "source": [
    "temp_data = load_era5_land_data(\n",
    "    catchment=catchment,\n",
    "    shape_filepath=config[catchment]['paths']['gis_catchment_dir'],\n",
    "    required_crs=27700,\n",
    "    cdsapi_path=config[\"global\"][\"paths\"][\"CDSAPI_path\"],\n",
    "    start_date=config[\"global\"][\"data_ingestion\"][\"model_start_date\"],\n",
    "    end_date=config[\"global\"][\"data_ingestion\"][\"model_end_date\"],\n",
    "    run_era5_land_api=config[\"global\"][\"pipeline_settings\"][\"run_era5_land_api\"],\n",
    "    raw_output_dir=config[catchment][\"paths\"][\"2t_raw_output_dir\"],\n",
    "    processed_output_dir=config[catchment][\"paths\"][\"2t_processed_output_dir\"],\n",
    "    csv_path=config[catchment][\"paths\"][\"2t_csv_path\"],\n",
    "    fig_path=config[catchment][\"paths\"][\"2t_fig_path\"],\n",
    "    era5_feat='2t',\n",
    "    era5_long='2m_temperature',\n",
    "    feat_name='2m_temp',\n",
    "    aggregation_type='mean'\n",
    ")"
   ]
  },
  {
   "cell_type": "markdown",
   "id": "23631a3c",
   "metadata": {},
   "source": [
    "### Air Pressure Ingestion and Preprocessing ###"
   ]
  },
  {
   "cell_type": "code",
   "execution_count": null,
   "id": "63a948df",
   "metadata": {},
   "outputs": [],
   "source": [
    "pressure_data = load_era5_land_data(\n",
    "    catchment=catchment,\n",
    "    shape_filepath=config[catchment]['paths']['gis_catchment_dir'],\n",
    "    required_crs=27700,\n",
    "    cdsapi_path=config[\"global\"][\"paths\"][\"CDSAPI_path\"],\n",
    "    start_date=config[\"global\"][\"data_ingestion\"][\"model_start_date\"],\n",
    "    end_date=config[\"global\"][\"data_ingestion\"][\"model_end_date\"],\n",
    "    run_era5_land_api=config[\"global\"][\"pipeline_settings\"][\"run_era5_land_api\"],\n",
    "    raw_output_dir=config[catchment][\"paths\"][\"sp_raw_output_dir\"],\n",
    "    processed_output_dir=config[catchment][\"paths\"][\"sp_processed_output_dir\"],\n",
    "    csv_path=config[catchment][\"paths\"][\"sp_csv_path\"],\n",
    "    fig_path=config[catchment][\"paths\"][\"sp_fig_path\"],\n",
    "    era5_feat='sp',\n",
    "    era5_long='surface_pressure',\n",
    "    feat_name='surface_pressure',\n",
    "    aggregation_type='mean'\n",
    ")"
   ]
  }
 ],
 "metadata": {
  "kernelspec": {
   "display_name": ".venv",
   "language": "python",
   "name": "python3"
  },
  "language_info": {
   "codemirror_mode": {
    "name": "ipython",
    "version": 3
   },
   "file_extension": ".py",
   "mimetype": "text/x-python",
   "name": "python",
   "nbconvert_exporter": "python",
   "pygments_lexer": "ipython3",
   "version": "3.11.4"
  }
 },
 "nbformat": 4,
 "nbformat_minor": 5
}
