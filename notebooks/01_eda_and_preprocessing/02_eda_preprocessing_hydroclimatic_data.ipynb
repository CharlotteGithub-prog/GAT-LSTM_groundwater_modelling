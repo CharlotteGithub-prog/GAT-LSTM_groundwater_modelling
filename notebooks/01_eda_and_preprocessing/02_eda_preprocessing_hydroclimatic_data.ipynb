{
 "cells": [
  {
   "cell_type": "code",
   "execution_count": 1,
   "id": "526d2eb5",
   "metadata": {},
   "outputs": [],
   "source": [
    "# Load library imports\n",
    "import os\n",
    "import sys\n",
    "import torch\n",
    "import random\n",
    "import logging\n",
    "import numpy as np\n",
    "import xarray as xr\n",
    "import pandas as pd\n",
    "import geopandas as gpd\n",
    "import matplotlib.pyplot as plt\n",
    "import matplotlib.dates as mdates\n",
    "\n",
    "from pyproj import Transformer\n",
    "from shapely.geometry import box\n",
    "from datetime import datetime, timedelta\n",
    "\n",
    "# Load project Imports\n",
    "from src.utils.config_loader import load_project_config\n",
    "from src.graph_building.graph_construction import build_mesh, \\\n",
    "    define_catchment_polygon\n",
    "from src.data_ingestion.spatial_transformations import find_catchment_boundary\n",
    "from src.data_ingestion.timeseries_data_ingestion import find_haduk_file_names, \\\n",
    "    load_era5_land_data"
   ]
  },
  {
   "cell_type": "code",
   "execution_count": 2,
   "id": "97436df8",
   "metadata": {},
   "outputs": [
    {
     "name": "stdout",
     "output_type": "stream",
     "text": [
      "INFO - Loading configuration from: /Users/charlotte/Desktop/Dissertation_Code/config/project_config.yaml\n",
      "INFO - Show Notebook Outputs: True\n",
      "INFO - Notebook Demo Catchment: Eden\n"
     ]
    }
   ],
   "source": [
    "# Set up logger config\n",
    "logging.basicConfig(\n",
    "    level=logging.INFO,\n",
    "   format='%(levelname)s - %(message)s',\n",
    "#    format='%(asctime)s - %(levelname)s - %(name)s - %(message)s',\n",
    "    handlers=[logging.StreamHandler(sys.stdout)]\n",
    ")\n",
    "\n",
    "# Set up logger for file and load config file for paths and params\n",
    "logger = logging.getLogger(__name__)\n",
    "config = load_project_config(config_path=\"config/project_config.yaml\")\n",
    "notebook = True\n",
    "\n",
    "# Set up seeding to define global states\n",
    "random_seed = config[\"global\"][\"pipeline_settings\"][\"random_seed\"]\n",
    "random.seed(random_seed)\n",
    "np.random.seed(random_seed)\n",
    "torch.manual_seed(random_seed)\n",
    "torch.cuda.manual_seed_all(random_seed)\n",
    "torch.backends.cudnn.deterministic = True\n",
    "torch.backends.cudnn.benchmark = False\n",
    "\n",
    "# Define notebook demo catchment\n",
    "catchments_to_process = config[\"global\"][\"pipeline_settings\"][\"catchments_to_process\"]\n",
    "catchment = catchments_to_process[0]\n",
    "run_defra_API_calls = config[\"global\"][\"pipeline_settings\"][\"run_defra_api\"]  # True to run API calls\n",
    "\n",
    "logger.info(f\"Show Notebook Outputs: {notebook}\")\n",
    "logger.info(f\"Notebook Demo Catchment: {catchment.capitalize()}\")"
   ]
  },
  {
   "cell_type": "markdown",
   "id": "8800456e",
   "metadata": {},
   "source": [
    "### Build mesh ###\n",
    "\n",
    "To align ingested data with"
   ]
  },
  {
   "cell_type": "code",
   "execution_count": null,
   "id": "866ef558",
   "metadata": {},
   "outputs": [],
   "source": [
    "# Select Catchment area from country wide gdf\n",
    "define_catchment_polygon(\n",
    "    england_catchment_gdf_path=config[catchment]['paths']['gis_catchment_boundary'],\n",
    "    target_mncat=config[catchment]['target_mncat'],\n",
    "    catchment=catchment,\n",
    "    polygon_output_path=config[catchment]['paths']['gis_catchment_dir']\n",
    ")"
   ]
  },
  {
   "cell_type": "code",
   "execution_count": null,
   "id": "70bac730",
   "metadata": {},
   "outputs": [],
   "source": [
    "# NB: mesh_nodes_gdf are the centroid coords, mesh_cells_gdf_polygons are polygons for e.g. averaging area\n",
    "mesh_nodes_table, mesh_nodes_gdf, mesh_cells_gdf_polygons, catchment_polygon = build_mesh(\n",
    "    shape_filepath=config[catchment]['paths']['gis_catchment_dir'],\n",
    "    output_path=config[catchment]['paths']['mesh_nodes_output'],\n",
    "    catchment=catchment,\n",
    "    grid_resolution=config[catchment]['preprocessing']['graph_construction']['grid_resolution']\n",
    ")"
   ]
  },
  {
   "cell_type": "markdown",
   "id": "5ae7791e",
   "metadata": {},
   "source": [
    "### Rainfall Ingestion and Preprocessing ###"
   ]
  },
  {
   "cell_type": "code",
   "execution_count": null,
   "id": "3c6980b0",
   "metadata": {},
   "outputs": [],
   "source": [
    "haduk_urls = find_haduk_file_names(\n",
    "    start_date=config[\"global\"][\"data_ingestion\"][\"model_start_date\"],\n",
    "    end_date=config[\"global\"][\"data_ingestion\"][\"model_end_date\"],\n",
    "    base_url = config[\"global\"][\"paths\"][\"HAD_UK_rainfall_url\"]\n",
    ")"
   ]
  },
  {
   "cell_type": "markdown",
   "id": "faf3a4a4",
   "metadata": {},
   "source": [
    "Continue with the following once https://www.ceda.ac.uk/status/ allows."
   ]
  },
  {
   "cell_type": "code",
   "execution_count": null,
   "id": "9abd6726",
   "metadata": {},
   "outputs": [],
   "source": [
    "os.environ[\"NETRC\"] = os.path.abspath(\"ceda_credentials.netrc\")\n",
    "url = haduk_urls[0]\n",
    "\n",
    "try:\n",
    "    ds = xr.open_dataset(url, engine=\"netcdf4\")\n",
    "    print(ds)\n",
    "except OSError as e:\n",
    "    print(\"Failed to open dataset. This may be due to CEDA login issues. Check https://www.ceda.ac.uk/status/\")\n",
    "    print(e)"
   ]
  },
  {
   "cell_type": "markdown",
   "id": "f813b0aa",
   "metadata": {},
   "source": [
    "### Temperature Ingestion and Preprocessing ###\n",
    "\n",
    "Continue with the following once https://www.ceda.ac.uk/status/ allows."
   ]
  },
  {
   "cell_type": "markdown",
   "id": "23631a3c",
   "metadata": {},
   "source": [
    "### Air Pressure Ingestion and Preprocessing ###"
   ]
  },
  {
   "cell_type": "code",
   "execution_count": null,
   "id": "63a948df",
   "metadata": {},
   "outputs": [],
   "source": [
    "pressure_data = load_era5_land_data(\n",
    "    catchment=catchment,\n",
    "    shape_filepath=config[catchment]['paths']['gis_catchment_dir'],\n",
    "    required_crs=27700,\n",
    "    cdsapi_path=config[\"global\"][\"paths\"][\"CDSAPI_path\"],\n",
    "    start_date=config[\"global\"][\"data_ingestion\"][\"model_start_date\"],\n",
    "    end_date=config[\"global\"][\"data_ingestion\"][\"model_end_date\"],\n",
    "    run_era5_land_api=config[\"global\"][\"pipeline_settings\"][\"run_era5_land_api\"],\n",
    "    raw_output_dir=config[catchment][\"paths\"][\"sp_raw_output_dir\"],\n",
    "    processed_output_dir=config[catchment][\"paths\"][\"sp_processed_output_dir\"],\n",
    "    csv_path=config[catchment][\"paths\"][\"sp_csv_path\"],\n",
    "    fig_path=config[catchment][\"paths\"][\"sp_fig_path\"],\n",
    "    era5_feat='sp',\n",
    "    era5_long='surface_pressure',\n",
    "    feat_name='surface_pressure',\n",
    "    aggregation_type='mean'\n",
    ")"
   ]
  },
  {
   "cell_type": "markdown",
   "id": "b6ed0e60",
   "metadata": {},
   "source": [
    "### AET Ingestion and Preprocessing ###"
   ]
  },
  {
   "cell_type": "code",
   "execution_count": null,
   "id": "39e5079d",
   "metadata": {},
   "outputs": [],
   "source": [
    "aet_data = load_era5_land_data(\n",
    "    catchment=catchment,\n",
    "    shape_filepath=config[catchment]['paths']['gis_catchment_dir'],\n",
    "    required_crs=27700,\n",
    "    cdsapi_path=config[\"global\"][\"paths\"][\"CDSAPI_path\"],\n",
    "    start_date=config[\"global\"][\"data_ingestion\"][\"model_start_date\"],\n",
    "    end_date=config[\"global\"][\"data_ingestion\"][\"model_end_date\"],\n",
    "    run_era5_land_api=config[\"global\"][\"pipeline_settings\"][\"run_era5_land_api\"],\n",
    "    raw_output_dir=config[catchment][\"paths\"][\"aet_raw_output_dir\"],\n",
    "    processed_output_dir=config[catchment][\"paths\"][\"aet_processed_output_dir\"],\n",
    "    csv_path=config[catchment][\"paths\"][\"aet_csv_path\"],\n",
    "    fig_path=config[catchment][\"paths\"][\"aet_fig_path\"],\n",
    "    era5_feat='e',\n",
    "    era5_long='total_evaporation',\n",
    "    feat_name='aet',\n",
    "    aggregation_type='sum'\n",
    ")"
   ]
  },
  {
   "cell_type": "markdown",
   "id": "a2f29f86",
   "metadata": {},
   "source": [
    "### 2m Surface Temperature Ingestion and Preprocessing ###"
   ]
  },
  {
   "cell_type": "code",
   "execution_count": null,
   "id": "18cf6d35",
   "metadata": {},
   "outputs": [],
   "source": [
    "temp_data = load_era5_land_data(\n",
    "    catchment=catchment,\n",
    "    shape_filepath=config[catchment]['paths']['gis_catchment_dir'],\n",
    "    required_crs=27700,\n",
    "    cdsapi_path=config[\"global\"][\"paths\"][\"CDSAPI_path\"],\n",
    "    start_date=config[\"global\"][\"data_ingestion\"][\"model_start_date\"],\n",
    "    end_date=config[\"global\"][\"data_ingestion\"][\"model_end_date\"],\n",
    "    run_era5_land_api=config[\"global\"][\"pipeline_settings\"][\"run_era5_land_api\"],\n",
    "    raw_output_dir=config[catchment][\"paths\"][\"2t_raw_output_dir\"],\n",
    "    processed_output_dir=config[catchment][\"paths\"][\"2t_processed_output_dir\"],\n",
    "    csv_path=config[catchment][\"paths\"][\"2t_csv_path\"],\n",
    "    fig_path=config[catchment][\"paths\"][\"2t_fig_path\"],\n",
    "    era5_feat='2t',\n",
    "    era5_long='2m_temperature',\n",
    "    feat_name='2m_temp',\n",
    "    aggregation_type='mean'\n",
    ")"
   ]
  },
  {
   "cell_type": "code",
   "execution_count": null,
   "id": "b18bf8f6",
   "metadata": {},
   "outputs": [],
   "source": [
    "grib_path = 'data/01_raw/eden/hydroclimatic/surface_pressure/surface_pressure_2017_01_era5land.grib'\n",
    "ds = xr.open_dataset(grib_path, engine='cfgrib')\n",
    "\n",
    "print(ds['sp'].min().item(), ds['sp'].max().item(), ds['sp'].mean().item())  # print(ds.variables) to see full metadata"
   ]
  },
  {
   "cell_type": "code",
   "execution_count": null,
   "id": "2731b5b9",
   "metadata": {},
   "outputs": [],
   "source": [
    "# import os\n",
    "# import re\n",
    "\n",
    "# def rename_aet_files_to_total_evaporation(directory):\n",
    "#     \"\"\"\n",
    "#     Renames GRIB and index files from 'aet_YYYY_MM_era5land.*' \n",
    "#     to 'total_evaporation_YYYY_MM_era5land.*' in the given directory.\n",
    "#     \"\"\"\n",
    "#     renamed_files = 0\n",
    "\n",
    "#     for filename in os.listdir(directory):\n",
    "#         if filename.startswith(\"aet_\") and \"era5land\" in filename:\n",
    "#             new_filename = re.sub(r'^aet_', 'total_evaporation_', filename)\n",
    "#             src = os.path.join(directory, filename)\n",
    "#             dst = os.path.join(directory, new_filename)\n",
    "#             os.rename(src, dst)\n",
    "#             renamed_files += 1\n",
    "#             print(f\"Renamed: {filename} -> {new_filename}\")\n",
    "\n",
    "#     print(f\"\\nDone. Renamed {renamed_files} files in '{directory}'.\")\n",
    "\n",
    "# # Example usage:\n",
    "# rename_aet_files_to_total_evaporation(\"data/01_raw/eden/hydroclimatic/aet/\")\n"
   ]
  }
 ],
 "metadata": {
  "kernelspec": {
   "display_name": ".venv",
   "language": "python",
   "name": "python3"
  },
  "language_info": {
   "codemirror_mode": {
    "name": "ipython",
    "version": 3
   },
   "file_extension": ".py",
   "mimetype": "text/x-python",
   "name": "python",
   "nbconvert_exporter": "python",
   "pygments_lexer": "ipython3",
   "version": "3.11.4"
  }
 },
 "nbformat": 4,
 "nbformat_minor": 5
}
