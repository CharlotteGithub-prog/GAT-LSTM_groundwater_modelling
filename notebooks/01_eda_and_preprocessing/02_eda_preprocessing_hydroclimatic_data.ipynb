{
 "cells": [
  {
   "cell_type": "code",
   "execution_count": null,
   "id": "0",
   "metadata": {},
   "outputs": [],
   "source": [
    "# Load library imports\n",
    "import os\n",
    "import sys\n",
    "import torch\n",
    "import random\n",
    "import logging\n",
    "import numpy as np\n",
    "from ruamel.yaml import YAML\n",
    "\n",
    "# Load project Imports\n",
    "from src.utils.config_loader import load_project_config\n",
    "from src.graph_building.graph_construction import build_mesh, \\\n",
    "    define_catchment_polygon\n",
    "from src.data_ingestion.timeseries_data_ingestion import find_haduk_file_names, \\\n",
    "    load_era5_land_data, load_rainfall_data, download_and_save_flow_data\n",
    "from src.preprocessing.hydroclimatic_feature_engineering import derive_rainfall_features"
   ]
  },
  {
   "cell_type": "code",
   "execution_count": null,
   "id": "1",
   "metadata": {},
   "outputs": [],
   "source": [
    "# Set up logger config\n",
    "logging.basicConfig(\n",
    "    level=logging.INFO,\n",
    "   format='%(levelname)s - %(message)s',\n",
    "#    format='%(asctime)s - %(levelname)s - %(name)s - %(message)s',\n",
    "    handlers=[logging.StreamHandler(sys.stdout)]\n",
    ")\n",
    "\n",
    "# Set up logger for file and load config file for paths and params\n",
    "logger = logging.getLogger(__name__)\n",
    "config = load_project_config(config_path=\"config/project_config.yaml\")\n",
    "notebook = True\n",
    "\n",
    "#Set up root directory paths in config\n",
    "raw_data_root = config[\"global\"][\"paths\"][\"raw_data_root\"]\n",
    "# Update all values in global paths\n",
    "for key, val in config[\"global\"][\"paths\"].items():\n",
    "    if isinstance(val, str):\n",
    "        config[\"global\"][\"paths\"][key] = val.format(raw_data_root=raw_data_root)\n",
    "# Update all catchment paths\n",
    "catchments_to_process = config[\"global\"][\"pipeline_settings\"][\"catchments_to_process\"]\n",
    "for catchment in catchments_to_process:\n",
    "    for key, val in config[catchment][\"paths\"].items():\n",
    "        if isinstance(val, str):\n",
    "            config[catchment][\"paths\"][key] = val.format(raw_data_root=raw_data_root)\n",
    " \n",
    "# Set up seeding to define global states\n",
    "random_seed = config[\"global\"][\"pipeline_settings\"][\"random_seed\"]\n",
    "random.seed(random_seed)\n",
    "np.random.seed(random_seed)\n",
    "torch.manual_seed(random_seed)\n",
    "torch.cuda.manual_seed_all(random_seed)\n",
    "torch.backends.cudnn.deterministic = True\n",
    "torch.backends.cudnn.benchmark = False\n",
    "\n",
    "# Define notebook demo catchment\n",
    "catchments_to_process = config[\"global\"][\"pipeline_settings\"][\"catchments_to_process\"]\n",
    "catchment = catchments_to_process[0]\n",
    "run_defra_API_calls = config[\"global\"][\"pipeline_settings\"][\"run_defra_api\"]  # True to run API calls\n",
    "\n",
    "logger.info(f\"Show Notebook Outputs: {notebook}\")\n",
    "logger.info(f\"Notebook Demo Catchment: {catchment.capitalize()}\")"
   ]
  },
  {
   "cell_type": "markdown",
   "id": "2",
   "metadata": {},
   "source": [
    "### Build mesh ###\n",
    "\n",
    "To align ingested data with"
   ]
  },
  {
   "cell_type": "code",
   "execution_count": null,
   "id": "3",
   "metadata": {},
   "outputs": [],
   "source": [
    "# Select Catchment area from country wide gdf\n",
    "define_catchment_polygon(\n",
    "    england_catchment_gdf_path=config[catchment]['paths']['gis_catchment_boundary'],\n",
    "    target_mncat=config[catchment]['target_mncat'],\n",
    "    catchment=catchment,\n",
    "    polygon_output_path=config[catchment]['paths']['gis_catchment_dir']\n",
    ")"
   ]
  },
  {
   "cell_type": "code",
   "execution_count": null,
   "id": "4",
   "metadata": {},
   "outputs": [],
   "source": [
    "# NB: mesh_nodes_gdf are the centroid coords, mesh_cells_gdf_polygons are polygons for e.g. averaging area\n",
    "mesh_nodes_table, mesh_nodes_gdf, mesh_cells_gdf_polygons, catchment_polygon = build_mesh(\n",
    "    shape_filepath=config[catchment]['paths']['gis_catchment_dir'],\n",
    "    output_path=config[catchment]['paths']['mesh_nodes_output'],\n",
    "    catchment=catchment,\n",
    "    grid_resolution=config[catchment]['preprocessing']['graph_construction']['grid_resolution']\n",
    ")"
   ]
  },
  {
   "cell_type": "markdown",
   "id": "5",
   "metadata": {},
   "source": [
    "### Rainfall Ingestion and Preprocessing ###"
   ]
  },
  {
   "cell_type": "markdown",
   "id": "6",
   "metadata": {},
   "source": [
    "Continue with the following once https://www.ceda.ac.uk/status/ allows."
   ]
  },
  {
   "cell_type": "code",
   "execution_count": null,
   "id": "7",
   "metadata": {},
   "outputs": [],
   "source": [
    "# haduk_urls = find_haduk_file_names(\n",
    "#     start_date=config[\"global\"][\"data_ingestion\"][\"model_start_date\"],\n",
    "#     end_date=config[\"global\"][\"data_ingestion\"][\"model_end_date\"],\n",
    "#     base_url = config[\"global\"][\"paths\"][\"HAD_UK_rainfall_url\"]\n",
    "# )\n",
    "\n",
    "# os.environ[\"NETRC\"] = os.path.abspath(\"ceda_credentials.netrc\")\n",
    "# url = haduk_urls[0]\n",
    "\n",
    "# try:\n",
    "#     ds = xr.open_dataset(url, engine=\"netcdf4\")\n",
    "#     print(ds)\n",
    "# except OSError as e:\n",
    "#     print(\"Failed to open dataset. This may be due to CEDA login issues. Check https://www.ceda.ac.uk/status/\")\n",
    "#     print(e)"
   ]
  },
  {
   "cell_type": "markdown",
   "id": "8",
   "metadata": {},
   "source": [
    "### Local Rainfall Data Ingestion and Processing (using downloads not API) ###"
   ]
  },
  {
   "cell_type": "code",
   "execution_count": null,
   "id": "9",
   "metadata": {},
   "outputs": [],
   "source": [
    "# No explicit return, csv saved to csv_path for future access\n",
    "load_rainfall_data(\n",
    "    rainfall_dir=config[catchment][\"paths\"][\"rainfall_filename_dir\"],\n",
    "    shape_filepath=config[catchment][\"paths\"][\"gis_catchment_dir\"],\n",
    "    processed_output_dir=config[catchment][\"paths\"][\"rainfall_processed_output_dir\"],\n",
    "    fig_path=config[catchment][\"paths\"][\"rainfall_fig_path\"],\n",
    "    required_crs=27700,\n",
    "    catchment=catchment\n",
    ")"
   ]
  },
  {
   "cell_type": "code",
   "execution_count": null,
   "id": "10",
   "metadata": {},
   "outputs": [],
   "source": [
    "rainfall_df = derive_rainfall_features(\n",
    "    csv_dir=config[catchment][\"paths\"][\"rainfall_processed_output_dir\"],\n",
    "    processed_output_dir=config[catchment][\"paths\"][\"rainfall_processed_output_dir\"],\n",
    "    start_date=config[\"global\"][\"data_ingestion\"][\"model_start_date\"],\n",
    "    end_date=config[\"global\"][\"data_ingestion\"][\"model_end_date\"],\n",
    "    config_path=\"config/project_config.yaml\",\n",
    "    catchment=catchment\n",
    ")"
   ]
  },
  {
   "cell_type": "code",
   "execution_count": null,
   "id": "11",
   "metadata": {},
   "outputs": [],
   "source": [
    "rainfall_df"
   ]
  },
  {
   "cell_type": "code",
   "execution_count": null,
   "id": "12",
   "metadata": {},
   "outputs": [],
   "source": [
    "# No explicit return, csv saved to csv_path for future access\n",
    "load_era5_land_data(\n",
    "    catchment=catchment,\n",
    "    shape_filepath=config[catchment]['paths']['gis_catchment_dir'],\n",
    "    required_crs=27700,\n",
    "    cdsapi_path=config[\"global\"][\"paths\"][\"CDSAPI_path\"],\n",
    "    start_date=config[\"global\"][\"data_ingestion\"][\"model_start_date\"],\n",
    "    end_date=config[\"global\"][\"data_ingestion\"][\"model_end_date\"],\n",
    "    run_era5_land_api=config[\"global\"][\"pipeline_settings\"][\"run_era5_land_api\"],\n",
    "    raw_output_dir=config[catchment][\"paths\"][\"aet_raw_output_dir\"],\n",
    "    processed_output_dir=config[catchment][\"paths\"][\"aet_processed_output_dir\"],\n",
    "    csv_path=config[catchment][\"paths\"][\"aet_csv_path\"],\n",
    "    fig_path=config[catchment][\"paths\"][\"aet_fig_path\"],\n",
    "    era5_feat='e',\n",
    "    era5_long='total_evaporation',\n",
    "    feat_name='aet',\n",
    "    aggregation_type='sum'\n",
    ")"
   ]
  },
  {
   "cell_type": "markdown",
   "id": "13",
   "metadata": {},
   "source": [
    "### Temperature Ingestion and Preprocessing ###\n",
    "\n",
    "Continue with the following once https://www.ceda.ac.uk/status/ allows."
   ]
  },
  {
   "cell_type": "markdown",
   "id": "14",
   "metadata": {},
   "source": [
    "### Surface Pressure Ingestion and Preprocessing ###"
   ]
  },
  {
   "cell_type": "code",
   "execution_count": null,
   "id": "15",
   "metadata": {},
   "outputs": [],
   "source": [
    "# No explicit return, csv saved to csv_path for future access\n",
    "load_era5_land_data(\n",
    "    catchment=catchment,\n",
    "    shape_filepath=config[catchment]['paths']['gis_catchment_dir'],\n",
    "    required_crs=27700,\n",
    "    cdsapi_path=config[\"global\"][\"paths\"][\"CDSAPI_path\"],\n",
    "    start_date=config[\"global\"][\"data_ingestion\"][\"model_start_date\"],\n",
    "    end_date=config[\"global\"][\"data_ingestion\"][\"model_end_date\"],\n",
    "    run_era5_land_api=config[\"global\"][\"pipeline_settings\"][\"run_era5_land_api\"],\n",
    "    raw_output_dir=config[catchment][\"paths\"][\"sp_raw_output_dir\"],\n",
    "    processed_output_dir=config[catchment][\"paths\"][\"sp_processed_output_dir\"],\n",
    "    csv_path=config[catchment][\"paths\"][\"sp_csv_path\"],\n",
    "    fig_path=config[catchment][\"paths\"][\"sp_fig_path\"],\n",
    "    era5_feat='sp',\n",
    "    era5_long='surface_pressure',\n",
    "    feat_name='surface_pressure',\n",
    "    aggregation_type='mean'\n",
    ")"
   ]
  },
  {
   "cell_type": "markdown",
   "id": "16",
   "metadata": {},
   "source": [
    "### AET Ingestion and Preprocessing ###"
   ]
  },
  {
   "cell_type": "code",
   "execution_count": null,
   "id": "17",
   "metadata": {},
   "outputs": [],
   "source": [
    "# No explicit return, csv saved to csv_path for future access\n",
    "load_era5_land_data(\n",
    "    catchment=catchment,\n",
    "    shape_filepath=config[catchment]['paths']['gis_catchment_dir'],\n",
    "    required_crs=27700,\n",
    "    cdsapi_path=config[\"global\"][\"paths\"][\"CDSAPI_path\"],\n",
    "    start_date=config[\"global\"][\"data_ingestion\"][\"model_start_date\"],\n",
    "    end_date=config[\"global\"][\"data_ingestion\"][\"model_end_date\"],\n",
    "    run_era5_land_api=config[\"global\"][\"pipeline_settings\"][\"run_era5_land_api\"],\n",
    "    raw_output_dir=config[catchment][\"paths\"][\"aet_raw_output_dir\"],\n",
    "    processed_output_dir=config[catchment][\"paths\"][\"aet_processed_output_dir\"],\n",
    "    csv_path=config[catchment][\"paths\"][\"aet_csv_path\"],\n",
    "    fig_path=config[catchment][\"paths\"][\"aet_fig_path\"],\n",
    "    era5_feat='e',\n",
    "    era5_long='total_evaporation',\n",
    "    feat_name='aet',\n",
    "    aggregation_type='sum'\n",
    ")"
   ]
  },
  {
   "cell_type": "markdown",
   "id": "18",
   "metadata": {},
   "source": [
    "### 2m Surface Temperature Ingestion and Preprocessing ###"
   ]
  },
  {
   "cell_type": "code",
   "execution_count": null,
   "id": "19",
   "metadata": {},
   "outputs": [],
   "source": [
    "# No explicit return, csv saved to csv_path for future access\n",
    "load_era5_land_data(\n",
    "    catchment=catchment,\n",
    "    shape_filepath=config[catchment]['paths']['gis_catchment_dir'],\n",
    "    required_crs=27700,\n",
    "    cdsapi_path=config[\"global\"][\"paths\"][\"CDSAPI_path\"],\n",
    "    start_date=config[\"global\"][\"data_ingestion\"][\"model_start_date\"],\n",
    "    end_date=config[\"global\"][\"data_ingestion\"][\"model_end_date\"],\n",
    "    run_era5_land_api=config[\"global\"][\"pipeline_settings\"][\"run_era5_land_api\"],\n",
    "    raw_output_dir=config[catchment][\"paths\"][\"2t_raw_output_dir\"],\n",
    "    processed_output_dir=config[catchment][\"paths\"][\"2t_processed_output_dir\"],\n",
    "    csv_path=config[catchment][\"paths\"][\"2t_csv_path\"],\n",
    "    fig_path=config[catchment][\"paths\"][\"2t_fig_path\"],\n",
    "    era5_feat='2t',\n",
    "    era5_long='2m_temperature',\n",
    "    feat_name='2m_temp',\n",
    "    aggregation_type='mean'\n",
    ")"
   ]
  },
  {
   "cell_type": "markdown",
   "id": "20",
   "metadata": {},
   "source": [
    "### Streamflow Data ###"
   ]
  },
  {
   "cell_type": "code",
   "execution_count": null,
   "id": "21",
   "metadata": {},
   "outputs": [],
   "source": [
    "# DEFRA Hydrology API daily total streamflow at station closest to catchment ouflow (lumped hydrological modelling, m^3/s)\n",
    "\n",
    "stream_flow_df = download_and_save_flow_data(\n",
    "    station_csv=config[catchment][\"paths\"][\"stream_flow_station\"],\n",
    "    start_date=config[\"global\"][\"data_ingestion\"][\"model_start_date\"],\n",
    "    end_date=config[\"global\"][\"data_ingestion\"][\"model_end_date\"],\n",
    "    output_dir=config[catchment][\"paths\"][\"stream_flow_csv\"],\n",
    "    catchment=catchment\n",
    ")\n",
    "\n",
    "stream_flow_df"
   ]
  }
 ],
 "metadata": {
  "kernelspec": {
   "display_name": ".venv",
   "language": "python",
   "name": "python3"
  },
  "language_info": {
   "codemirror_mode": {
    "name": "ipython",
    "version": 3
   },
   "file_extension": ".py",
   "mimetype": "text/x-python",
   "name": "python",
   "nbconvert_exporter": "python",
   "pygments_lexer": "ipython3",
   "version": "3.11.4"
  }
 },
 "nbformat": 4,
 "nbformat_minor": 5
}
