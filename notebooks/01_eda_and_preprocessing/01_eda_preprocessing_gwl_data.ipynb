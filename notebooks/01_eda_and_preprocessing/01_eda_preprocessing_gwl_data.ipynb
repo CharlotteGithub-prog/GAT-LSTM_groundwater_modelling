{
 "cells": [
  {
   "cell_type": "code",
   "execution_count": null,
   "id": "0",
   "metadata": {},
   "outputs": [],
   "source": [
    "\n",
    "# Load library imports\n",
    "import sys\n",
    "import torch\n",
    "import random\n",
    "import joblib\n",
    "import logging\n",
    "import importlib\n",
    "import numpy as np\n",
    "import pandas as pd\n",
    "\n",
    "# Load project Imports\n",
    "from src.utils.config_loader import load_project_config\n",
    "from src.data_ingestion.gwl_data_ingestion import process_station_coordinates, \\\n",
    "    fetch_and_process_station_data, download_and_save_station_readings\n",
    "from src.preprocessing.gwl_preprocessing import load_timeseries_to_dict, outlier_detection, \\\n",
    "    resample_timestep_average, remove_spurious_data, interpolate_short_gaps, handle_short_gaps\n",
    "from src.preprocessing.gap_imputation import handle_large_gaps\n",
    "from src.preprocessing.gwl_feature_engineering import build_lags, build_seasonality_features, \\\n",
    "    trim_and_save\n",
    "from src.graph_building.graph_construction import define_catchment_polygon, build_mesh"
   ]
  },
  {
   "cell_type": "code",
   "execution_count": null,
   "id": "1",
   "metadata": {},
   "outputs": [],
   "source": [
    "# Set up logger config\n",
    "logging.basicConfig(\n",
    "    level=logging.INFO,\n",
    "   format='%(levelname)s - %(message)s',\n",
    "#    format='%(asctime)s - %(levelname)s - %(name)s - %(message)s',\n",
    "    handlers=[logging.StreamHandler(sys.stdout)]\n",
    ")\n",
    "\n",
    "# Set up logger for file and load config file for paths and params\n",
    "logger = logging.getLogger(__name__)\n",
    "config = load_project_config(config_path=\"config/project_config.yaml\")\n",
    "notebook = True\n",
    "\n",
    "#Set up root directory paths in config\n",
    "raw_data_root = config[\"global\"][\"paths\"][\"raw_data_root\"]\n",
    "# Update all values in global paths\n",
    "for key, val in config[\"global\"][\"paths\"].items():\n",
    "    if isinstance(val, str):\n",
    "        config[\"global\"][\"paths\"][key] = val.format(raw_data_root=raw_data_root)\n",
    "# Update all catchment paths\n",
    "catchments_to_process = config[\"global\"][\"pipeline_settings\"][\"catchments_to_process\"]\n",
    "for catchment in catchments_to_process:\n",
    "    for key, val in config[catchment][\"paths\"].items():\n",
    "        if isinstance(val, str):\n",
    "            config[catchment][\"paths\"][key] = val.format(raw_data_root=raw_data_root)\n",
    "\n",
    "# Set up seeding to define global states\n",
    "random_seed = config[\"global\"][\"pipeline_settings\"][\"random_seed\"]\n",
    "random.seed(random_seed)\n",
    "np.random.seed(random_seed)\n",
    "torch.manual_seed(random_seed)\n",
    "torch.cuda.manual_seed_all(random_seed)\n",
    "torch.backends.cudnn.deterministic = True\n",
    "torch.backends.cudnn.benchmark = False\n",
    "\n",
    "# Define notebook demo catchment\n",
    "catchments_to_process = config[\"global\"][\"pipeline_settings\"][\"catchments_to_process\"]\n",
    "catchment = catchments_to_process[0]\n",
    "run_defra_API_calls = config[\"global\"][\"pipeline_settings\"][\"run_defra_api\"]  # True to run API calls\n",
    "\n",
    "logger.info(f\"Show Notebook Outputs: {notebook}\")\n",
    "logger.info(f\"Notebook Demo Catchment: {catchment.capitalize()}\")"
   ]
  },
  {
   "cell_type": "markdown",
   "id": "2",
   "metadata": {},
   "source": [
    "### DATA INGESTION ###"
   ]
  },
  {
   "cell_type": "markdown",
   "id": "3",
   "metadata": {},
   "source": [
    "Load gwl station list with grid references and convert grid references to easting, northing, longitude and latitude form for plotting and data alignment."
   ]
  },
  {
   "cell_type": "code",
   "execution_count": null,
   "id": "4",
   "metadata": {},
   "outputs": [],
   "source": [
    "# --- Process Catchment Stations List ----\n",
    "stations_with_coords_df = process_station_coordinates(\n",
    "    os_grid_squares=config[\"global\"][\"paths\"][\"gis_os_grid_squares\"],\n",
    "    station_list_input=config[catchment][\"paths\"][\"gwl_station_list\"],\n",
    "    station_list_output=config[catchment][\"paths\"][\"gwl_station_list_with_coords\"],\n",
    "    catchment=catchment\n",
    ")\n",
    "\n",
    "logger.info(f\"Pipeline step 'Process Station Coordinates for {catchment}' complete.\\n\")"
   ]
  },
  {
   "cell_type": "markdown",
   "id": "5",
   "metadata": {},
   "source": [
    "**API Documentation notes:**\n",
    "\n",
    "1. The API calls that return readings data have a soft limit of 100,000 rows per-call which can be overridden by setting a _limit parameter. There is a hard limit of 2,000,000 rows, which cannot be overridden.\n",
    "2. The primary identifier for most stations uses a GUID style identifier called an SUID. These are used in the URL for the station and given as the value of the notation property in the station metadata.  \n",
    "    a. Wiski identifier (wiskiID) is also available for my subset of stations and data type  \n",
    "3. All monitoring stations can be filtered by name, location and other parameters. See https://environment.data.gov.uk/hydrology/doc/reference#stations-summary for full metadata details"
   ]
  },
  {
   "cell_type": "code",
   "execution_count": null,
   "id": "6",
   "metadata": {},
   "outputs": [],
   "source": [
    "if run_defra_API_calls:\n",
    "    # Retrieve gwl monitoring station metadata and measures from DEFRA API\n",
    "    stations_with_metadata_measures = fetch_and_process_station_data(\n",
    "        stations_df=stations_with_coords_df,\n",
    "        base_url=config[\"global\"][\"paths\"][\"defra_station_base_url\"],\n",
    "        output_path=config[catchment][\"paths\"][\"gwl_station_metadata_measures\"]\n",
    "    )\n",
    "\n",
    "    logger.info(f\"Pipeline step 'Pull Hydrological Station Metadata for {catchment}' complete.\\n\")\n",
    "\n",
    "    stations_with_metadata_measures.head()"
   ]
  },
  {
   "cell_type": "code",
   "execution_count": null,
   "id": "7",
   "metadata": {},
   "outputs": [],
   "source": [
    "if run_defra_API_calls:\n",
    "    download_and_save_station_readings(\n",
    "        stations_df=stations_with_metadata_measures,\n",
    "        start_date=config[\"global\"][\"data_ingestion\"][\"api_start_date\"],\n",
    "        end_date=config[\"global\"][\"data_ingestion\"][\"api_end_date\"],\n",
    "        gwl_data_output_dir=config[catchment][\"paths\"][\"gwl_data_output_dir\"]\n",
    "    )\n",
    "\n",
    "    logger.info(f\"All timeseries groundwater level data saved for {catchment} catchment.\")\n",
    "    \n",
    "else:\n",
    "    \n",
    "    loaded_csv_path = config[catchment][\"paths\"][\"gwl_station_metadata_measures\"]\n",
    "    stations_with_metadata_measures = pd.read_csv(loaded_csv_path)"
   ]
  },
  {
   "cell_type": "markdown",
   "id": "8",
   "metadata": {},
   "source": [
    "### PREPROCESSING ###\n",
    "\n",
    "Remove stations with insufficient data and clean ts data from outliers and incorrect measurements. Interpolate between small data gaps using rational spline."
   ]
  },
  {
   "cell_type": "markdown",
   "id": "9",
   "metadata": {},
   "source": [
    "1. Load station df's into dict, dropping catchments with insufficient data"
   ]
  },
  {
   "cell_type": "code",
   "execution_count": null,
   "id": "10",
   "metadata": {},
   "outputs": [],
   "source": [
    "# Load timeseries CSVs from API into reference dict\n",
    "gwl_time_series_dict = load_timeseries_to_dict(\n",
    "    stations_df=stations_with_metadata_measures,\n",
    "    col_order=config[\"global\"][\"data_ingestion\"][\"col_order\"],\n",
    "    data_dir=config[catchment][\"paths\"][\"gwl_data_output_dir\"],\n",
    "    inclusion_threshold=config[catchment][\"preprocessing\"][\"inclusion_threshold\"],\n",
    "    station_list_output=config[catchment][\"paths\"][\"gwl_station_list_output\"],\n",
    "    catchment=catchment\n",
    ")\n",
    "\n",
    "logger.info(f\"All timeseries data converted to dict for {catchment} catchment.\\n\")"
   ]
  },
  {
   "cell_type": "markdown",
   "id": "11",
   "metadata": {},
   "source": [
    "2. Remove outlying and incorrect data points"
   ]
  },
  {
   "cell_type": "code",
   "execution_count": null,
   "id": "12",
   "metadata": {},
   "outputs": [],
   "source": [
    "for station_name, df in gwl_time_series_dict.items():\n",
    "    gwl_time_series_dict[station_name] = remove_spurious_data(\n",
    "        target_df=df,\n",
    "        station_name=station_name,\n",
    "        path=config[catchment][\"visualisations\"][\"ts_plots\"][\"time_series_gwl_output\"],\n",
    "        pred_frequency=config[\"global\"][\"pipeline_settings\"][\"prediction_resolution\"],\n",
    "        notebook=notebook\n",
    "    )"
   ]
  },
  {
   "cell_type": "code",
   "execution_count": null,
   "id": "13",
   "metadata": {},
   "outputs": [],
   "source": [
    "run_outlier_processing = config[\"global\"][\"pipeline_settings\"][\"run_outlier_detection\"]\n",
    "\n",
    "if run_outlier_processing:\n",
    "    # run outlier detection and processing\n",
    "    processed_gwl_time_series_dict = outlier_detection(\n",
    "        gwl_time_series_dict=gwl_time_series_dict,\n",
    "        output_path=config[catchment][\"visualisations\"][\"ts_plots\"][\"time_series_gwl_output\"],\n",
    "        dpi=config[catchment][\"visualisations\"][\"ts_plots\"][\"dpi_save\"],\n",
    "        dict_output=config[catchment][\"paths\"][\"gwl_outlier_dict\"],\n",
    "        notebook=notebook\n",
    "    )"
   ]
  },
  {
   "cell_type": "markdown",
   "id": "14",
   "metadata": {},
   "source": [
    "3. Aggregate to timestep frequency"
   ]
  },
  {
   "cell_type": "code",
   "execution_count": null,
   "id": "15",
   "metadata": {},
   "outputs": [],
   "source": [
    "if not run_outlier_processing:\n",
    "    input_dict = config[catchment][\"paths\"][\"gwl_outlier_dict\"]\n",
    "    processed_gwl_time_series_dict = joblib.load(input_dict)\n",
    "\n",
    "timestep_data = resample_timestep_average(\n",
    "    gwl_data_dict=processed_gwl_time_series_dict,\n",
    "    start_date=config[\"global\"][\"data_ingestion\"][\"api_start_date\"],\n",
    "    end_date=config[\"global\"][\"data_ingestion\"][\"api_end_date\"],\n",
    "    path=config[catchment][\"visualisations\"][\"ts_plots\"][\"time_series_gwl_output\"],\n",
    "    pred_frequency=config[\"global\"][\"pipeline_settings\"][\"prediction_resolution\"],\n",
    "    notebook=notebook\n",
    ")"
   ]
  },
  {
   "cell_type": "markdown",
   "id": "16",
   "metadata": {},
   "source": [
    "4. Interpolate across small gaps in the ts data using rational spline or PCHIP - try both (& define threshold n/o missing time steps for interpolation eligibility) + Add binary interpolation flag column"
   ]
  },
  {
   "cell_type": "code",
   "execution_count": null,
   "id": "17",
   "metadata": {},
   "outputs": [],
   "source": [
    "timestep_data, gaps_list, station_max_gap_lengths_calculated = handle_short_gaps(\n",
    "    timestep_data=timestep_data,\n",
    "    path=config[catchment][\"visualisations\"][\"ts_plots\"][\"time_series_gwl_output\"],\n",
    "    max_steps=config[\"global\"][\"data_ingestion\"][\"max_interp_length\"],\n",
    "    start_date=config[\"global\"][\"data_ingestion\"][\"api_start_date\"],\n",
    "    end_date=config[\"global\"][\"data_ingestion\"][\"api_end_date\"],\n",
    "    pred_frequency=config[\"global\"][\"pipeline_settings\"][\"prediction_resolution\"],\n",
    "    notebook=notebook\n",
    ")"
   ]
  },
  {
   "cell_type": "markdown",
   "id": "18",
   "metadata": {},
   "source": [
    "Handle large gaps"
   ]
  },
  {
   "cell_type": "code",
   "execution_count": null,
   "id": "19",
   "metadata": {},
   "outputs": [],
   "source": [
    "synthetic_imputation_performace, cleaned_df_dict = handle_large_gaps(\n",
    "    df_dict=timestep_data,\n",
    "    gaps_list=gaps_list,\n",
    "    catchment=catchment,\n",
    "    spatial_path=config[catchment][\"paths\"][\"gwl_station_list_output\"],\n",
    "    path=config[catchment][\"visualisations\"][\"ts_plots\"][\"time_series_gwl_output\"],\n",
    "    threshold_m=config[catchment][\"preprocessing\"][\"large_catchment_threshold_m\"],\n",
    "    radius=config[\"global\"][\"preprocessing\"][\"radius\"],\n",
    "    output_path=config[catchment][\"visualisations\"][\"corr_dist_score_scatters\"],\n",
    "    threshold=config[catchment][\"preprocessing\"][\"dist_corr_score_threshold\"],\n",
    "    predefined_large_gap_lengths=config[\"global\"][\"preprocessing\"][\"gap_lengths_days\"] ,\n",
    "    max_imputation_length_threshold=config[\"global\"][\"preprocessing\"][\"max_imputation_threshold\"],\n",
    "    min_around=config[\"global\"][\"preprocessing\"][\"min_data_points_around_gap\"],\n",
    "    station_max_gap_lengths=station_max_gap_lengths_calculated,\n",
    "    pred_frequency=config[\"global\"][\"pipeline_settings\"][\"prediction_resolution\"],\n",
    "    k_decay=config[catchment][\"preprocessing\"][\"dist_corr_score_k_decay\"],\n",
    "    random_seed=config[\"global\"][\"pipeline_settings\"][\"random_seed\"]\n",
    ")"
   ]
  },
  {
   "cell_type": "markdown",
   "id": "20",
   "metadata": {},
   "source": [
    "5. Lagged: Add lagged features (by timestep across 7 days?) + potentially rolling averages (3-day/7-day?) + THEN trim"
   ]
  },
  {
   "cell_type": "code",
   "execution_count": null,
   "id": "21",
   "metadata": {},
   "outputs": [],
   "source": [
    "df_with_lags = build_lags(\n",
    "    df_dict=cleaned_df_dict,\n",
    "    catchment=catchment\n",
    ")\n",
    "\n",
    "df_with_seasons = build_seasonality_features(\n",
    "    df_dict=df_with_lags,\n",
    "    catchment=catchment,\n",
    "    pred_frequency=config[\"global\"][\"pipeline_settings\"][\"prediction_resolution\"]\n",
    ")\n",
    "\n",
    "trimmed_df_dict = trim_and_save(\n",
    "    df_dict=df_with_seasons,\n",
    "    model_start_date=config['global']['data_ingestion']['model_start_date'],\n",
    "    model_end_date=config['global']['data_ingestion']['model_end_date'],\n",
    "    trimmed_output_dir=config[catchment][\"paths\"][\"trimmed_output_dir\"],\n",
    "    ts_path=config[catchment][\"visualisations\"][\"ts_plots\"][\"time_series_gwl_output\"],\n",
    "    notebook=notebook,\n",
    "    catchment=catchment,\n",
    "    init_with_dip_value=config[catchment]['model']['architecture']['initialise_with_dipped']\n",
    ")"
   ]
  },
  {
   "cell_type": "code",
   "execution_count": null,
   "id": "22",
   "metadata": {},
   "outputs": [],
   "source": [
    "# Select Catchment area from country wide gdf\n",
    "define_catchment_polygon(\n",
    "    england_catchment_gdf_path=config[catchment]['paths']['gis_catchment_boundary'],\n",
    "    target_mncat=config[catchment]['target_mncat'],\n",
    "    catchment=catchment,\n",
    "    polygon_output_path=config[catchment]['paths']['gis_catchment_dir']\n",
    ")\n",
    "\n",
    "# Build catchment mesh\n",
    "mesh_nodes_table, mesh_nodes_gdf, mesh_cells_gdf_polygons, catchment_polygon = build_mesh(\n",
    "    shape_filepath=config[catchment]['paths']['gis_catchment_dir'],\n",
    "    output_path=config[catchment]['paths']['mesh_nodes_output'],\n",
    "    catchment=catchment,\n",
    "    grid_resolution=config[catchment]['preprocessing']['graph_construction']['grid_resolution']\n",
    ")\n",
    "\n",
    "logger.info(f\"Pipeline step 'Build Mesh' complete for {catchment} catchment.\")"
   ]
  },
  {
   "cell_type": "markdown",
   "id": "23",
   "metadata": {},
   "source": [
    "### FINAL PROCESSED STATION DATAFRAMES ###"
   ]
  },
  {
   "cell_type": "code",
   "execution_count": null,
   "id": "24",
   "metadata": {},
   "outputs": [],
   "source": [
    "for station, df in trimmed_df_dict.items():\n",
    "    print(f\"\\n{station:}\")\n",
    "    display(df)"
   ]
  },
  {
   "cell_type": "markdown",
   "id": "25",
   "metadata": {},
   "source": [
    "**Use the following code to zoom in on a specific are of a station's data:**"
   ]
  },
  {
   "cell_type": "code",
   "execution_count": null,
   "id": "26",
   "metadata": {},
   "outputs": [],
   "source": [
    "# import matplotlib.pyplot as plt\n",
    "# import matplotlib.dates as mdates\n",
    "# import pandas as pd\n",
    "\n",
    "# start_date = '2023-10-21'\n",
    "# end_date = '2023-10-25'\n",
    "# test_station = 'renwick'\n",
    "\n",
    "# # Select station data\n",
    "# df = trimmed_df_dict[test_station]\n",
    "\n",
    "# # Filter using index (since it's already datetime)\n",
    "# filtered_df = df.loc[start_date:end_date]\n",
    "\n",
    "# # Plot\n",
    "# fig, ax = plt.subplots(figsize=(15, 6))\n",
    "# ax.plot(filtered_df.index, filtered_df['value'])\n",
    "# ax.set_title(f\"{test_station} Groundwater Level: {start_date} to {end_date}\")\n",
    "# ax.set_xlabel(\"Date\")\n",
    "# ax.set_ylabel(\"Groundwater Level (mAOD)\")\n",
    "\n",
    "# import matplotlib.dates as mdates\n",
    "# ax.xaxis.set_minor_locator(mdates.WeekdayLocator(interval=1))\n",
    "# ax.yaxis.set_minor_locator(plt.MultipleLocator(0.1))\n",
    "# ax.grid(True, which='major', linestyle='-', linewidth=0.5)\n",
    "# ax.grid(True, which='minor', linestyle=':', linewidth=0.2)\n",
    "\n",
    "# fig.autofmt_xdate()\n",
    "# plt.show()\n",
    "\n",
    "# print(filtered_df.head())"
   ]
  }
 ],
 "metadata": {
  "kernelspec": {
   "display_name": ".venv",
   "language": "python",
   "name": "python3"
  },
  "language_info": {
   "codemirror_mode": {
    "name": "ipython",
    "version": 3
   },
   "file_extension": ".py",
   "mimetype": "text/x-python",
   "name": "python",
   "nbconvert_exporter": "python",
   "pygments_lexer": "ipython3",
   "version": "3.11.4"
  }
 },
 "nbformat": 4,
 "nbformat_minor": 5
}
