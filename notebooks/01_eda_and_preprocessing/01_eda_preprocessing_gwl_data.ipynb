{
 "cells": [
  {
   "cell_type": "code",
   "execution_count": null,
   "id": "81f7bdad",
   "metadata": {},
   "outputs": [],
   "source": [
    "# Load library imports\n",
    "import os\n",
    "import ast\n",
    "import folium\n",
    "import logging\n",
    "import requests\n",
    "import numpy as np\n",
    "import pandas as pd\n",
    "import geopandas as gpd\n",
    "import matplotlib.pyplot as plt\n",
    "import matplotlib.dates as mdates\n",
    "\n",
    "from pyproj import Transformer\n",
    "from shapely.geometry import box\n",
    "from datetime import datetime, timedelta\n",
    "\n",
    "# Load project Imports\n",
    "from src.utils.config_loader import load_project_config"
   ]
  },
  {
   "cell_type": "code",
   "execution_count": null,
   "id": "d0057d46",
   "metadata": {},
   "outputs": [],
   "source": [
    "# Set up logging config\n",
    "logging.basicConfig(\n",
    "    level=logging.INFO,\n",
    "   format='%(levelname)s - %(message)s',\n",
    "#    format='%(asctime)s - %(levelname)s - %(name)s - %(message)s',\n",
    "    handlers=[logging.StreamHandler(sys.stdout)]\n",
    ")\n",
    "\n",
    "# Set up logger for file and load config file for paths and params\n",
    "logger = logging.getLogger(__name__)\n",
    "config = load_project_config(config_path=\"config/eden_project_config.yaml\")"
   ]
  },
  {
   "cell_type": "markdown",
   "id": "fde1e6a9",
   "metadata": {},
   "source": [
    "Load gwl station list with grid references and convert grid references to easting, northing, longitude and latitude form for plotting and data alignment."
   ]
  },
  {
   "cell_type": "code",
   "execution_count": null,
   "id": "a0d1ad38",
   "metadata": {},
   "outputs": [],
   "source": [
    "# Use lookup file to create a dict of zipped grid letter and value lookup objects\n",
    "grid_lookup_df = pd.read_csv(\"data/os_grid_squares.csv\")\n",
    "grid_letters = dict(zip(grid_lookup_df['grid_letters'], zip(grid_lookup_df['easting_base'], grid_lookup_df['northing_base'])))\n",
    "\n",
    "# Apply to the station CSV\n",
    "stations_df = pd.read_csv(\"data/station_list.csv\")\n",
    "stations_df[['easting', 'northing', 'lat', 'lon']] = stations_df['grid_ref'].apply(grid_ref_to_coords)\n",
    "\n",
    "# Save as csv and check head and length\n",
    "stations_df.to_csv(\"data/station_list_with_coords.csv\", index=False)\n",
    "print(f\"Station location reference table:\\n\\n{stations_df.head()}\")\n",
    "print(f\"\\nTotal Stations: {len(stations_df)}\")"
   ]
  }
 ],
 "metadata": {
  "kernelspec": {
   "display_name": "Python 3",
   "language": "python",
   "name": "python3"
  },
  "language_info": {
   "name": "python",
   "version": "3.11.4"
  }
 },
 "nbformat": 4,
 "nbformat_minor": 5
}
