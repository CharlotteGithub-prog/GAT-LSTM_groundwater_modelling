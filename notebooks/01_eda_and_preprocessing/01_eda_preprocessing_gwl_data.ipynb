{
 "cells": [
  {
   "cell_type": "code",
   "execution_count": 1,
   "id": "81f7bdad",
   "metadata": {},
   "outputs": [],
   "source": [
    "# Load library imports\n",
    "import sys\n",
    "import ast\n",
    "import logging\n",
    "\n",
    "# Load project Imports\n",
    "from src.utils.config_loader import load_project_config\n",
    "from src.data_ingestion.gwl_data_ingestion import process_station_coordinates, \\\n",
    "    fetch_and_process_station_data, download_and_save_station_readings\n",
    "from src.preprocessing.gwl_preprocessing import load_timeseries_to_dict"
   ]
  },
  {
   "cell_type": "code",
   "execution_count": 2,
   "id": "d0057d46",
   "metadata": {},
   "outputs": [
    {
     "name": "stdout",
     "output_type": "stream",
     "text": [
      "INFO - Loading configuration from: /Users/charlotte/Desktop/Dissertation_Code/config/project_config.yaml\n",
      "INFO - Notebook Demo Catchment: eden\n"
     ]
    }
   ],
   "source": [
    "# Set up logging config\n",
    "logging.basicConfig(\n",
    "    level=logging.INFO,\n",
    "   format='%(levelname)s - %(message)s',\n",
    "#    format='%(asctime)s - %(levelname)s - %(name)s - %(message)s',\n",
    "    handlers=[logging.StreamHandler(sys.stdout)]\n",
    ")\n",
    "\n",
    "# Set up logger for file and load config file for paths and params\n",
    "logger = logging.getLogger(__name__)\n",
    "config = load_project_config(config_path=\"config/project_config.yaml\")\n",
    "\n",
    "# Define notebook demo catchment\n",
    "catchments_to_process = config[\"global\"][\"pipeline_settings\"][\"catchments_to_process\"]\n",
    "catchment = catchments_to_process[0]\n",
    "run_defra_API_calls = config[\"global\"][\"pipeline_settings\"][\"run_defra_api\"]  # True to run API calls\n",
    "\n",
    "logging.info(f\"Notebook Demo Catchment: {catchment}\")"
   ]
  },
  {
   "cell_type": "markdown",
   "id": "d0d049b3",
   "metadata": {},
   "source": [
    "### DATA INGESTION ###"
   ]
  },
  {
   "cell_type": "markdown",
   "id": "fde1e6a9",
   "metadata": {},
   "source": [
    "Load gwl station list with grid references and convert grid references to easting, northing, longitude and latitude form for plotting and data alignment."
   ]
  },
  {
   "cell_type": "code",
   "execution_count": 3,
   "id": "65a6111e",
   "metadata": {},
   "outputs": [
    {
     "name": "stdout",
     "output_type": "stream",
     "text": [
      "INFO - [eden] Starting coordinate processing for station list...\n",
      "\n",
      "INFO - [eden] Loaded OS grid squares lookup from: data/01_raw/global/os_grid_squares.csv\n",
      "INFO - [eden] Loaded station list from: data/01_raw/eden/gwl_stations/station_list.csv\n",
      "INFO - [eden] Converted OS grid references to coordinates for 15 stations.\n",
      "\n",
      "INFO - [eden] Saved processed station list to: data/02_processed/eden/gwl_station_data/station_list_with_coords.csv\n",
      "INFO - Station location reference table head:\n",
      "\n",
      "  station_id    grid_ref   easting  northing        lat       lon\n",
      "0     NY36_2  NY39146790  339140.0  567900.0  55.001931 -2.952971\n",
      "1     NY46_3  NY46526426  346520.0  564260.0  54.970074 -2.836931\n",
      "2    NY55_71  NY53825337  353820.0  553370.0  54.872953 -2.721158\n",
      "3    NY54_54  NY56354839  356350.0  548390.0  54.828432 -2.680981\n",
      "4    NY54_56  NY51774289  351770.0  542890.0  54.778590 -2.751349\n",
      "\n",
      "INFO - Total Stations: 15\n",
      "INFO - [eden] Coordinate processing for station list complete.\n",
      "\n",
      "INFO - Pipeline step 'Process Station Coordinates for eden' complete.\n",
      "\n"
     ]
    }
   ],
   "source": [
    "# --- Process Catchment Stations List ----\n",
    "stations_with_coords_df = process_station_coordinates(\n",
    "    os_grid_squares=config[\"global\"][\"paths\"][\"gis_os_grid_squares\"],\n",
    "    station_list_input=config[catchment][\"paths\"][\"gwl_station_list\"],\n",
    "    station_list_output=config[catchment][\"paths\"][\"gwl_station_list_with_coords\"],\n",
    "    catchment=catchment\n",
    ")\n",
    "\n",
    "logger.info(f\"Pipeline step 'Process Station Coordinates for {catchment}' complete.\\n\")\n",
    "\n",
    "# Returned: stations_df as stations_with_coords_df"
   ]
  },
  {
   "cell_type": "markdown",
   "id": "98618322",
   "metadata": {},
   "source": [
    "**API Documentation notes:**\n",
    "\n",
    "1. The API calls that return readings data have a soft limit of 100,000 rows per-call which can be overridden by setting a _limit parameter. There is a hard limit of 2,000,000 rows, which cannot be overridden.\n",
    "2. The primary identifier for most stations uses a GUID style identifier called an SUID. These are used in the URL for the station and given as the value of the notation property in the station metadata.  \n",
    "    a. Wiski identifier (wiskiID) is also available for my subset of stations and data type  \n",
    "3. All monitoring stations can be filtered by name, location and other parameters. See https://environment.data.gov.uk/hydrology/doc/reference#stations-summary for full metadata details"
   ]
  },
  {
   "cell_type": "code",
   "execution_count": 4,
   "id": "cb3a28cc",
   "metadata": {},
   "outputs": [
    {
     "name": "stdout",
     "output_type": "stream",
     "text": [
      "INFO - Fetching station metadata from DEFRA API...\n",
      "INFO - Fetching station measures data from DEFRA API...\n",
      "INFO - Extracting flattened columns from metadata and measures...\n",
      "\n",
      "INFO - Saving processed station data to: data/02_processed/eden/gwl_station_data/gwl_station_metadata_measures.csv\n",
      "INFO - Pipeline step 'Pull Hydrological Station Metadata for eden' complete.\n",
      "\n"
     ]
    },
    {
     "data": {
      "application/vnd.microsoft.datawrangler.viewer.v0+json": {
       "columns": [
        {
         "name": "index",
         "rawType": "int64",
         "type": "integer"
        },
        {
         "name": "station_id",
         "rawType": "object",
         "type": "string"
        },
        {
         "name": "grid_ref",
         "rawType": "object",
         "type": "string"
        },
        {
         "name": "easting",
         "rawType": "float64",
         "type": "float"
        },
        {
         "name": "northing",
         "rawType": "float64",
         "type": "float"
        },
        {
         "name": "lat",
         "rawType": "float64",
         "type": "float"
        },
        {
         "name": "lon",
         "rawType": "float64",
         "type": "float"
        },
        {
         "name": "metadata",
         "rawType": "object",
         "type": "unknown"
        },
        {
         "name": "measures",
         "rawType": "object",
         "type": "unknown"
        },
        {
         "name": "station_name",
         "rawType": "object",
         "type": "string"
        },
        {
         "name": "measure_uri",
         "rawType": "object",
         "type": "string"
        }
       ],
       "ref": "6b8c5b65-9237-43ab-a974-c897b48b8e62",
       "rows": [
        [
         "0",
         "NY36_2",
         "NY39146790",
         "339140.0",
         "567900.0",
         "55.00193127426572",
         "-2.9529707160784553",
         "{'@id': 'http://environment.data.gov.uk/hydrology/id/stations/6257f7cc-f392-4a98-814a-1d8f20e3fadd', 'label': 'LONGTOWN', 'notation': '6257f7cc-f392-4a98-814a-1d8f20e3fadd', 'easting': 339145, 'northing': 567905, 'lat': 55.00196, 'long': -2.952885, 'type': [{'@id': 'http://environment.data.gov.uk/flood-monitoring/def/core/Station'}, {'@id': 'http://environment.data.gov.uk/reference/def/core/SamplingLocation'}, {'@id': 'http://environment.data.gov.uk/flood-monitoring/def/core/Groundwater'}], 'stationGuid': '6257f7cc-f392-4a98-814a-1d8f20e3fadd', 'wiskiID': 'NY36_2', 'dateOpened': '1977-02-08', 'observedProperty': [{'@id': 'http://environment.data.gov.uk/reference/def/op/groundwaterLevel'}], 'status': [{'@id': 'http://environment.data.gov.uk/flood-monitoring/def/core/statusActive', 'label': 'Active'}], 'measures': [{'@id': 'http://environment.data.gov.uk/hydrology/id/measures/6257f7cc-f392-4a98-814a-1d8f20e3fadd-gw-logged-i-subdaily-mAOD-qualified', 'parameter': 'level', 'period': 900, 'valueStatistic': {'@id': 'http://environment.data.gov.uk/reference/def/core/instantaneous'}}]}",
         "[{'@id': 'http://environment.data.gov.uk/hydrology/id/measures/6257f7cc-f392-4a98-814a-1d8f20e3fadd-gw-logged-i-subdaily-mAOD-qualified', 'label': 'Sub-daily Groundwater Logged (mAOD) time series for LONGTOWN', 'parameter': 'level', 'parameterName': 'GroundwaterLevel', 'notation': '6257f7cc-f392-4a98-814a-1d8f20e3fadd-gw-logged-i-subdaily-mAOD-qualified', 'qualifier': 'Groundwater Logged', 'period': 900, 'periodName': 'sub-daily', 'valueType': 'instantaneous', 'valueStatistic': {'@id': 'http://environment.data.gov.uk/reference/def/core/instantaneous', 'label': 'instantaneous'}, 'observationType': {'@id': 'http://environment.data.gov.uk/reference/def/core/Qualified', 'label': 'Qualified'}, 'observedProperty': {'@id': 'http://environment.data.gov.uk/reference/def/op/groundwaterLevel', 'label': 'Groundwater level'}, 'station': {'@id': 'http://environment.data.gov.uk/hydrology/id/stations/6257f7cc-f392-4a98-814a-1d8f20e3fadd', 'label': 'LONGTOWN', 'wiskiID': 'NY36_2'}, 'unit': {'@id': 'http://qudt.org/1.1/vocab/unit#Meter'}, 'unitName': 'mAOD'}]",
         "LONGTOWN",
         "http://environment.data.gov.uk/hydrology/id/measures/6257f7cc-f392-4a98-814a-1d8f20e3fadd-gw-logged-i-subdaily-mAOD-qualified"
        ],
        [
         "1",
         "NY46_3",
         "NY46526426",
         "346520.0",
         "564260.0",
         "54.9700741936673",
         "-2.836931279554848",
         "{'@id': 'http://environment.data.gov.uk/hydrology/id/stations/dbdc1aca-14eb-45e8-beb5-204d5e5f9133', 'label': 'Scaleby', 'notation': 'dbdc1aca-14eb-45e8-beb5-204d5e5f9133', 'easting': 346525, 'northing': 564265, 'lat': 54.970103, 'long': -2.836846, 'type': [{'@id': 'http://environment.data.gov.uk/flood-monitoring/def/core/Station'}, {'@id': 'http://environment.data.gov.uk/reference/def/core/SamplingLocation'}, {'@id': 'http://environment.data.gov.uk/flood-monitoring/def/core/Groundwater'}], 'stationGuid': 'dbdc1aca-14eb-45e8-beb5-204d5e5f9133', 'wiskiID': 'NY46_3', 'dateOpened': '1977-04-13', 'datum': 44.7, 'boreholeDepth': 78.33, 'aquifer': 'St Bees Sandstone', 'observedProperty': [{'@id': 'http://environment.data.gov.uk/reference/def/op/groundwaterLevel'}], 'status': [{'@id': 'http://environment.data.gov.uk/flood-monitoring/def/core/statusActive', 'label': 'Active'}], 'measures': [{'@id': 'http://environment.data.gov.uk/hydrology/id/measures/dbdc1aca-14eb-45e8-beb5-204d5e5f9133-gw-logged-i-subdaily-mAOD-qualified', 'parameter': 'level', 'period': 900, 'valueStatistic': {'@id': 'http://environment.data.gov.uk/reference/def/core/instantaneous'}}]}",
         "[{'@id': 'http://environment.data.gov.uk/hydrology/id/measures/dbdc1aca-14eb-45e8-beb5-204d5e5f9133-gw-logged-i-subdaily-mAOD-qualified', 'label': 'Sub-daily Groundwater Logged (mAOD) time series for Scaleby', 'parameter': 'level', 'parameterName': 'GroundwaterLevel', 'notation': 'dbdc1aca-14eb-45e8-beb5-204d5e5f9133-gw-logged-i-subdaily-mAOD-qualified', 'qualifier': 'Groundwater Logged', 'period': 900, 'periodName': 'sub-daily', 'valueType': 'instantaneous', 'valueStatistic': {'@id': 'http://environment.data.gov.uk/reference/def/core/instantaneous', 'label': 'instantaneous'}, 'observationType': {'@id': 'http://environment.data.gov.uk/reference/def/core/Qualified', 'label': 'Qualified'}, 'observedProperty': {'@id': 'http://environment.data.gov.uk/reference/def/op/groundwaterLevel', 'label': 'Groundwater level'}, 'timeseriesID': '5bbc9961-80e5-4b8c-b394-5e20624ab4fe', 'station': {'@id': 'http://environment.data.gov.uk/hydrology/id/stations/dbdc1aca-14eb-45e8-beb5-204d5e5f9133', 'label': 'Scaleby', 'wiskiID': 'NY46_3'}, 'unit': {'@id': 'http://qudt.org/1.1/vocab/unit#Meter'}, 'unitName': 'mAOD'}]",
         "Scaleby",
         "http://environment.data.gov.uk/hydrology/id/measures/dbdc1aca-14eb-45e8-beb5-204d5e5f9133-gw-logged-i-subdaily-mAOD-qualified"
        ],
        [
         "2",
         "NY55_71",
         "NY53825337",
         "353820.0",
         "553370.0",
         "54.87295290791823",
         "-2.721157637918682",
         "{'@id': 'http://environment.data.gov.uk/hydrology/id/stations/b1fe9623-1084-4d26-8259-7fea24ee0718', 'label': 'Castle carrock', 'notation': 'b1fe9623-1084-4d26-8259-7fea24ee0718', 'easting': 353825, 'northing': 553375, 'lat': 54.872982, 'long': -2.721072, 'type': [{'@id': 'http://environment.data.gov.uk/flood-monitoring/def/core/Station'}, {'@id': 'http://environment.data.gov.uk/reference/def/core/SamplingLocation'}, {'@id': 'http://environment.data.gov.uk/flood-monitoring/def/core/Groundwater'}], 'stationGuid': 'b1fe9623-1084-4d26-8259-7fea24ee0718', 'wiskiID': 'NY55_71', 'dateOpened': '2006-10-24', 'datum': 161.22, 'boreholeDepth': 83.68, 'aquifer': 'St Bees Sandstone', 'observedProperty': [{'@id': 'http://environment.data.gov.uk/reference/def/op/groundwaterLevel'}], 'status': [{'@id': 'http://environment.data.gov.uk/flood-monitoring/def/core/statusActive', 'label': 'Active'}], 'measures': [{'@id': 'http://environment.data.gov.uk/hydrology/id/measures/b1fe9623-1084-4d26-8259-7fea24ee0718-gw-logged-i-subdaily-mAOD-qualified', 'parameter': 'level', 'period': 900, 'valueStatistic': {'@id': 'http://environment.data.gov.uk/reference/def/core/instantaneous'}}]}",
         "[{'@id': 'http://environment.data.gov.uk/hydrology/id/measures/b1fe9623-1084-4d26-8259-7fea24ee0718-gw-logged-i-subdaily-mAOD-qualified', 'label': 'Sub-daily Groundwater Logged (mAOD) time series for Castle carrock', 'parameter': 'level', 'parameterName': 'GroundwaterLevel', 'notation': 'b1fe9623-1084-4d26-8259-7fea24ee0718-gw-logged-i-subdaily-mAOD-qualified', 'qualifier': 'Groundwater Logged', 'period': 900, 'periodName': 'sub-daily', 'valueType': 'instantaneous', 'valueStatistic': {'@id': 'http://environment.data.gov.uk/reference/def/core/instantaneous', 'label': 'instantaneous'}, 'observationType': {'@id': 'http://environment.data.gov.uk/reference/def/core/Qualified', 'label': 'Qualified'}, 'observedProperty': {'@id': 'http://environment.data.gov.uk/reference/def/op/groundwaterLevel', 'label': 'Groundwater level'}, 'timeseriesID': 'd644ec6a-08c1-482c-9cf9-d8b8eba32365', 'station': {'@id': 'http://environment.data.gov.uk/hydrology/id/stations/b1fe9623-1084-4d26-8259-7fea24ee0718', 'label': 'Castle carrock', 'wiskiID': 'NY55_71'}, 'unit': {'@id': 'http://qudt.org/1.1/vocab/unit#Meter'}, 'unitName': 'mAOD'}]",
         "Castle carrock",
         "http://environment.data.gov.uk/hydrology/id/measures/b1fe9623-1084-4d26-8259-7fea24ee0718-gw-logged-i-subdaily-mAOD-qualified"
        ],
        [
         "3",
         "NY54_54",
         "NY56354839",
         "356350.0",
         "548390.0",
         "54.82843165009326",
         "-2.680981003660612",
         "{'@id': 'http://environment.data.gov.uk/hydrology/id/stations/b4740794-2dad-41cf-9ee9-96dc562d2c96', 'label': 'Croglin', 'notation': 'b4740794-2dad-41cf-9ee9-96dc562d2c96', 'easting': 356355, 'northing': 548395, 'lat': 54.828461, 'long': -2.680896, 'type': [{'@id': 'http://environment.data.gov.uk/flood-monitoring/def/core/Station'}, {'@id': 'http://environment.data.gov.uk/reference/def/core/SamplingLocation'}, {'@id': 'http://environment.data.gov.uk/flood-monitoring/def/core/Groundwater'}], 'stationGuid': 'b4740794-2dad-41cf-9ee9-96dc562d2c96', 'wiskiID': 'NY54_54', 'dateOpened': '2006-10-24', 'datum': 201.59, 'boreholeDepth': 83.57, 'aquifer': 'St Bees Sandstone', 'observedProperty': [{'@id': 'http://environment.data.gov.uk/reference/def/op/groundwaterLevel'}], 'status': [{'@id': 'http://environment.data.gov.uk/flood-monitoring/def/core/statusActive', 'label': 'Active'}], 'measures': [{'@id': 'http://environment.data.gov.uk/hydrology/id/measures/b4740794-2dad-41cf-9ee9-96dc562d2c96-gw-logged-i-subdaily-mAOD-qualified', 'parameter': 'level', 'period': 900, 'valueStatistic': {'@id': 'http://environment.data.gov.uk/reference/def/core/instantaneous'}}]}",
         "[{'@id': 'http://environment.data.gov.uk/hydrology/id/measures/b4740794-2dad-41cf-9ee9-96dc562d2c96-gw-logged-i-subdaily-mAOD-qualified', 'label': 'Sub-daily Groundwater Logged (mAOD) time series for Croglin', 'parameter': 'level', 'parameterName': 'GroundwaterLevel', 'notation': 'b4740794-2dad-41cf-9ee9-96dc562d2c96-gw-logged-i-subdaily-mAOD-qualified', 'qualifier': 'Groundwater Logged', 'period': 900, 'periodName': 'sub-daily', 'valueType': 'instantaneous', 'valueStatistic': {'@id': 'http://environment.data.gov.uk/reference/def/core/instantaneous', 'label': 'instantaneous'}, 'observationType': {'@id': 'http://environment.data.gov.uk/reference/def/core/Qualified', 'label': 'Qualified'}, 'observedProperty': {'@id': 'http://environment.data.gov.uk/reference/def/op/groundwaterLevel', 'label': 'Groundwater level'}, 'timeseriesID': '6e49e62e-492e-4363-bb34-d78f1c9dec29', 'station': {'@id': 'http://environment.data.gov.uk/hydrology/id/stations/b4740794-2dad-41cf-9ee9-96dc562d2c96', 'label': 'Croglin', 'wiskiID': 'NY54_54'}, 'unit': {'@id': 'http://qudt.org/1.1/vocab/unit#Meter'}, 'unitName': 'mAOD'}]",
         "Croglin",
         "http://environment.data.gov.uk/hydrology/id/measures/b4740794-2dad-41cf-9ee9-96dc562d2c96-gw-logged-i-subdaily-mAOD-qualified"
        ],
        [
         "4",
         "NY54_56",
         "NY51774289",
         "351770.0",
         "542890.0",
         "54.77858951529352",
         "-2.7513490372686866",
         "{'@id': 'http://environment.data.gov.uk/hydrology/id/stations/df551841-f5d0-4b4a-b7c6-4a8dd845cadc', 'label': 'Baronwood', 'notation': 'df551841-f5d0-4b4a-b7c6-4a8dd845cadc', 'easting': 351775, 'northing': 542895, 'lat': 54.778619, 'long': -2.751264, 'type': [{'@id': 'http://environment.data.gov.uk/flood-monitoring/def/core/Station'}, {'@id': 'http://environment.data.gov.uk/reference/def/core/SamplingLocation'}, {'@id': 'http://environment.data.gov.uk/flood-monitoring/def/core/Groundwater'}], 'stationGuid': 'df551841-f5d0-4b4a-b7c6-4a8dd845cadc', 'stationReference': 'NY54_56', 'wiskiID': 'NY54_56', 'dateOpened': '2006-10-24', 'datum': 130.42, 'boreholeDepth': 123.72, 'aquifer': 'Penrith Sandstone', 'observedProperty': [{'@id': 'http://environment.data.gov.uk/reference/def/op/groundwaterLevel'}], 'status': [{'@id': 'http://environment.data.gov.uk/flood-monitoring/def/core/statusActive', 'label': 'Active'}], 'measures': [{'@id': 'http://environment.data.gov.uk/hydrology/id/measures/df551841-f5d0-4b4a-b7c6-4a8dd845cadc-gw-logged-i-subdaily-mAOD-qualified', 'parameter': 'level', 'period': 900, 'valueStatistic': {'@id': 'http://environment.data.gov.uk/reference/def/core/instantaneous'}}]}",
         "[{'@id': 'http://environment.data.gov.uk/hydrology/id/measures/df551841-f5d0-4b4a-b7c6-4a8dd845cadc-gw-logged-i-subdaily-mAOD-qualified', 'label': 'Sub-daily Groundwater Logged (mAOD) time series for Baronwood', 'parameter': 'level', 'parameterName': 'GroundwaterLevel', 'notation': 'df551841-f5d0-4b4a-b7c6-4a8dd845cadc-gw-logged-i-subdaily-mAOD-qualified', 'qualifier': 'Groundwater Logged', 'period': 900, 'periodName': 'sub-daily', 'hasTelemetry': True, 'valueType': 'instantaneous', 'valueStatistic': {'@id': 'http://environment.data.gov.uk/reference/def/core/instantaneous', 'label': 'instantaneous'}, 'observationType': {'@id': 'http://environment.data.gov.uk/reference/def/core/Qualified', 'label': 'Qualified'}, 'observedProperty': {'@id': 'http://environment.data.gov.uk/reference/def/op/groundwaterLevel', 'label': 'Groundwater level'}, 'timeseriesID': '1a22611c-09c7-4a71-be84-627682b5fdcb', 'station': {'@id': 'http://environment.data.gov.uk/hydrology/id/stations/df551841-f5d0-4b4a-b7c6-4a8dd845cadc', 'label': 'Baronwood', 'wiskiID': 'NY54_56', 'stationReference': 'NY54_56'}, 'unit': {'@id': 'http://qudt.org/1.1/vocab/unit#Meter'}, 'unitName': 'mAOD'}]",
         "Baronwood",
         "http://environment.data.gov.uk/hydrology/id/measures/df551841-f5d0-4b4a-b7c6-4a8dd845cadc-gw-logged-i-subdaily-mAOD-qualified"
        ]
       ],
       "shape": {
        "columns": 10,
        "rows": 5
       }
      },
      "text/html": [
       "<div>\n",
       "<style scoped>\n",
       "    .dataframe tbody tr th:only-of-type {\n",
       "        vertical-align: middle;\n",
       "    }\n",
       "\n",
       "    .dataframe tbody tr th {\n",
       "        vertical-align: top;\n",
       "    }\n",
       "\n",
       "    .dataframe thead th {\n",
       "        text-align: right;\n",
       "    }\n",
       "</style>\n",
       "<table border=\"1\" class=\"dataframe\">\n",
       "  <thead>\n",
       "    <tr style=\"text-align: right;\">\n",
       "      <th></th>\n",
       "      <th>station_id</th>\n",
       "      <th>grid_ref</th>\n",
       "      <th>easting</th>\n",
       "      <th>northing</th>\n",
       "      <th>lat</th>\n",
       "      <th>lon</th>\n",
       "      <th>metadata</th>\n",
       "      <th>measures</th>\n",
       "      <th>station_name</th>\n",
       "      <th>measure_uri</th>\n",
       "    </tr>\n",
       "  </thead>\n",
       "  <tbody>\n",
       "    <tr>\n",
       "      <th>0</th>\n",
       "      <td>NY36_2</td>\n",
       "      <td>NY39146790</td>\n",
       "      <td>339140.0</td>\n",
       "      <td>567900.0</td>\n",
       "      <td>55.001931</td>\n",
       "      <td>-2.952971</td>\n",
       "      <td>{'@id': 'http://environment.data.gov.uk/hydrol...</td>\n",
       "      <td>[{'@id': 'http://environment.data.gov.uk/hydro...</td>\n",
       "      <td>LONGTOWN</td>\n",
       "      <td>http://environment.data.gov.uk/hydrology/id/me...</td>\n",
       "    </tr>\n",
       "    <tr>\n",
       "      <th>1</th>\n",
       "      <td>NY46_3</td>\n",
       "      <td>NY46526426</td>\n",
       "      <td>346520.0</td>\n",
       "      <td>564260.0</td>\n",
       "      <td>54.970074</td>\n",
       "      <td>-2.836931</td>\n",
       "      <td>{'@id': 'http://environment.data.gov.uk/hydrol...</td>\n",
       "      <td>[{'@id': 'http://environment.data.gov.uk/hydro...</td>\n",
       "      <td>Scaleby</td>\n",
       "      <td>http://environment.data.gov.uk/hydrology/id/me...</td>\n",
       "    </tr>\n",
       "    <tr>\n",
       "      <th>2</th>\n",
       "      <td>NY55_71</td>\n",
       "      <td>NY53825337</td>\n",
       "      <td>353820.0</td>\n",
       "      <td>553370.0</td>\n",
       "      <td>54.872953</td>\n",
       "      <td>-2.721158</td>\n",
       "      <td>{'@id': 'http://environment.data.gov.uk/hydrol...</td>\n",
       "      <td>[{'@id': 'http://environment.data.gov.uk/hydro...</td>\n",
       "      <td>Castle carrock</td>\n",
       "      <td>http://environment.data.gov.uk/hydrology/id/me...</td>\n",
       "    </tr>\n",
       "    <tr>\n",
       "      <th>3</th>\n",
       "      <td>NY54_54</td>\n",
       "      <td>NY56354839</td>\n",
       "      <td>356350.0</td>\n",
       "      <td>548390.0</td>\n",
       "      <td>54.828432</td>\n",
       "      <td>-2.680981</td>\n",
       "      <td>{'@id': 'http://environment.data.gov.uk/hydrol...</td>\n",
       "      <td>[{'@id': 'http://environment.data.gov.uk/hydro...</td>\n",
       "      <td>Croglin</td>\n",
       "      <td>http://environment.data.gov.uk/hydrology/id/me...</td>\n",
       "    </tr>\n",
       "    <tr>\n",
       "      <th>4</th>\n",
       "      <td>NY54_56</td>\n",
       "      <td>NY51774289</td>\n",
       "      <td>351770.0</td>\n",
       "      <td>542890.0</td>\n",
       "      <td>54.778590</td>\n",
       "      <td>-2.751349</td>\n",
       "      <td>{'@id': 'http://environment.data.gov.uk/hydrol...</td>\n",
       "      <td>[{'@id': 'http://environment.data.gov.uk/hydro...</td>\n",
       "      <td>Baronwood</td>\n",
       "      <td>http://environment.data.gov.uk/hydrology/id/me...</td>\n",
       "    </tr>\n",
       "  </tbody>\n",
       "</table>\n",
       "</div>"
      ],
      "text/plain": [
       "  station_id    grid_ref   easting  northing        lat       lon  \\\n",
       "0     NY36_2  NY39146790  339140.0  567900.0  55.001931 -2.952971   \n",
       "1     NY46_3  NY46526426  346520.0  564260.0  54.970074 -2.836931   \n",
       "2    NY55_71  NY53825337  353820.0  553370.0  54.872953 -2.721158   \n",
       "3    NY54_54  NY56354839  356350.0  548390.0  54.828432 -2.680981   \n",
       "4    NY54_56  NY51774289  351770.0  542890.0  54.778590 -2.751349   \n",
       "\n",
       "                                            metadata  \\\n",
       "0  {'@id': 'http://environment.data.gov.uk/hydrol...   \n",
       "1  {'@id': 'http://environment.data.gov.uk/hydrol...   \n",
       "2  {'@id': 'http://environment.data.gov.uk/hydrol...   \n",
       "3  {'@id': 'http://environment.data.gov.uk/hydrol...   \n",
       "4  {'@id': 'http://environment.data.gov.uk/hydrol...   \n",
       "\n",
       "                                            measures    station_name  \\\n",
       "0  [{'@id': 'http://environment.data.gov.uk/hydro...        LONGTOWN   \n",
       "1  [{'@id': 'http://environment.data.gov.uk/hydro...         Scaleby   \n",
       "2  [{'@id': 'http://environment.data.gov.uk/hydro...  Castle carrock   \n",
       "3  [{'@id': 'http://environment.data.gov.uk/hydro...         Croglin   \n",
       "4  [{'@id': 'http://environment.data.gov.uk/hydro...       Baronwood   \n",
       "\n",
       "                                         measure_uri  \n",
       "0  http://environment.data.gov.uk/hydrology/id/me...  \n",
       "1  http://environment.data.gov.uk/hydrology/id/me...  \n",
       "2  http://environment.data.gov.uk/hydrology/id/me...  \n",
       "3  http://environment.data.gov.uk/hydrology/id/me...  \n",
       "4  http://environment.data.gov.uk/hydrology/id/me...  "
      ]
     },
     "execution_count": 4,
     "metadata": {},
     "output_type": "execute_result"
    }
   ],
   "source": [
    "# if run_defra_API_calls:\n",
    "# Retrieve gwl monitoring station metadata and measures from DEFRA API\n",
    "stations_with_metadata_measures = fetch_and_process_station_data(\n",
    "    stations_df=stations_with_coords_df,\n",
    "    base_url=config[\"global\"][\"paths\"][\"defra_station_base_url\"],\n",
    "    output_path=config[catchment][\"paths\"][\"gwl_station_metadata_measures\"]\n",
    ")\n",
    "\n",
    "logger.info(f\"Pipeline step 'Pull Hydrological Station Metadata for {catchment}' complete.\\n\")\n",
    "\n",
    "stations_with_metadata_measures.head()"
   ]
  },
  {
   "cell_type": "code",
   "execution_count": 5,
   "id": "cf8d66b5",
   "metadata": {},
   "outputs": [],
   "source": [
    "if run_defra_API_calls:\n",
    "    download_and_save_station_readings(\n",
    "        stations_df=stations_with_metadata_measures,\n",
    "        start_date=config[\"global\"][\"data_ingestion\"][\"api_start_date\"],\n",
    "        end_date=config[\"global\"][\"data_ingestion\"][\"api_end_date\"],\n",
    "        gwl_data_output_dir=config[catchment][\"paths\"][\"gwl_data_output_dir\"]\n",
    "    )\n",
    "\n",
    "    logger.info(f\"All timeseries groundwater level data saved for {catchment} catchment.\")"
   ]
  },
  {
   "cell_type": "markdown",
   "id": "8c3f7ecc",
   "metadata": {},
   "source": [
    "### PREPROCESSING ###\n",
    "\n",
    "Remove stations with insufficient data and clean ts data from outliers and incorrect measurements. Interpolate between small data gaps using rational spline."
   ]
  },
  {
   "cell_type": "markdown",
   "id": "5d0968cf",
   "metadata": {},
   "source": [
    "1. Load station df's into dict, dropping catchments with insufficient data"
   ]
  },
  {
   "cell_type": "code",
   "execution_count": 6,
   "id": "deef6250",
   "metadata": {},
   "outputs": [
    {
     "name": "stdout",
     "output_type": "stream",
     "text": [
      "INFO - Converting API csv data to reference dict...\n",
      "\n",
      "INFO - Longtown successfully saved to dict.\n",
      "INFO - Scaleby successfully saved to dict.\n",
      "INFO - Castle_Carrock successfully saved to dict.\n",
      "INFO - Croglin successfully saved to dict.\n",
      "INFO - Baronwood successfully saved to dict.\n",
      "INFO - Renwick successfully saved to dict.\n",
      "INFO - East_Brownrigg successfully saved to dict.\n",
      "INFO - Bgs_Ev2 successfully saved to dict.\n",
      "INFO - Station Penrith_North contained insufficient data -> dropping dataframe.(40 < 5000)\n",
      "INFO - Penrith_North successfully saved to dict.\n",
      "INFO - Skirwith successfully saved to dict.\n",
      "INFO - Cliburn_Town_Bridge_1 successfully saved to dict.\n",
      "INFO - Hilton successfully saved to dict.\n",
      "INFO - Coupland successfully saved to dict.\n",
      "INFO - Great_Musgrave successfully saved to dict.\n",
      "INFO - East_Curthwaite successfully saved to dict.\n",
      "INFO - 14 stations saved to dict.\n",
      "\n",
      "INFO - All timeseries data converted to dict for eden catchment.\n",
      "\n"
     ]
    }
   ],
   "source": [
    "# Load timeseries CSVs from API into reference dict\n",
    "gwl_time_series_dict = load_timeseries_to_dict(\n",
    "    stations_df=stations_with_metadata_measures,\n",
    "    col_order=config[\"global\"][\"data_ingestion\"][\"col_order\"],\n",
    "    data_dir=config[catchment][\"paths\"][\"gwl_data_output_dir\"],\n",
    "    inclusion_threshold=config[catchment][\"preprocessing\"][\"inclusion_threshold\"]\n",
    ")\n",
    "\n",
    "logger.info(f\"All timeseries data converted to dict for {catchment} catchment.\\n\")"
   ]
  },
  {
   "cell_type": "markdown",
   "id": "dbee5321",
   "metadata": {},
   "source": [
    "2. Remove outlying and incorrect data points"
   ]
  },
  {
   "cell_type": "code",
   "execution_count": null,
   "id": "8853e3ee",
   "metadata": {},
   "outputs": [],
   "source": []
  },
  {
   "cell_type": "markdown",
   "id": "0948a6c5",
   "metadata": {},
   "source": [
    "3. Aggregate to daily time steps"
   ]
  },
  {
   "cell_type": "code",
   "execution_count": null,
   "id": "0f90e6a9",
   "metadata": {},
   "outputs": [],
   "source": []
  },
  {
   "cell_type": "markdown",
   "id": "4be08af9",
   "metadata": {},
   "source": [
    "4. Interpolate across small gaps in the ts data (define threshold n/o missing time steps for interpolation eligibility) + Add binary interpolation flag column"
   ]
  },
  {
   "cell_type": "code",
   "execution_count": null,
   "id": "24801752",
   "metadata": {},
   "outputs": [],
   "source": []
  },
  {
   "cell_type": "markdown",
   "id": "994f6579",
   "metadata": {},
   "source": [
    "5. Lagged: Add lagged features (by timestep across 7 days?) + potentially rolling averages (3-day/7-day?)"
   ]
  },
  {
   "cell_type": "code",
   "execution_count": null,
   "id": "76edee3f",
   "metadata": {},
   "outputs": [],
   "source": []
  },
  {
   "cell_type": "markdown",
   "id": "eceea5eb",
   "metadata": {},
   "source": [
    "6. Temporal Encoding: Define sinasoidal features for seasonality (both sine and cosine for performance)"
   ]
  }
 ],
 "metadata": {
  "kernelspec": {
   "display_name": "Python 3",
   "language": "python",
   "name": "python3"
  },
  "language_info": {
   "codemirror_mode": {
    "name": "ipython",
    "version": 3
   },
   "file_extension": ".py",
   "mimetype": "text/x-python",
   "name": "python",
   "nbconvert_exporter": "python",
   "pygments_lexer": "ipython3",
   "version": "3.11.4"
  }
 },
 "nbformat": 4,
 "nbformat_minor": 5
}
