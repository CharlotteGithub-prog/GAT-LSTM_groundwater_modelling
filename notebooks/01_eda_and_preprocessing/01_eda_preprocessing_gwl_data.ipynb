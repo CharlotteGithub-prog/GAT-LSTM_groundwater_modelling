{
 "cells": [
  {
   "cell_type": "code",
   "execution_count": 1,
   "id": "81f7bdad",
   "metadata": {},
   "outputs": [],
   "source": [
    "# Load library imports\n",
    "import sys\n",
    "import logging\n",
    "\n",
    "# Load project Imports\n",
    "from src.utils.config_loader import load_project_config\n",
    "from src.data_ingestion.gwl_data_ingestion import process_station_coordinates"
   ]
  },
  {
   "cell_type": "code",
   "execution_count": null,
   "id": "d0057d46",
   "metadata": {},
   "outputs": [
    {
     "name": "stdout",
     "output_type": "stream",
     "text": [
      "INFO - Loading configuration from: /Users/charlotte/Desktop/Dissertation_Code/config/project_config.yaml\n"
     ]
    }
   ],
   "source": [
    "# Set up logging config\n",
    "logging.basicConfig(\n",
    "    level=logging.INFO,\n",
    "   format='%(levelname)s - %(message)s',\n",
    "#    format='%(asctime)s - %(levelname)s - %(name)s - %(message)s',\n",
    "    handlers=[logging.StreamHandler(sys.stdout)]\n",
    ")\n",
    "\n",
    "# Set up logger for file and load config file for paths and params\n",
    "logger = logging.getLogger(__name__)\n",
    "config = load_project_config(config_path=\"config/project_config.yaml\")\n",
    "\n",
    "# Define notebook demo catchment\n",
    "catchments_to_process = config[\"global\"][\"pipeline_settings\"][\"catchments_to_process\"]\n",
    "demo_catchment = catchments_to_process[0]\n",
    "logging.info(f\"Notebook Demo Catchment: {demo_catchment}\")"
   ]
  },
  {
   "cell_type": "markdown",
   "id": "fde1e6a9",
   "metadata": {},
   "source": [
    "Load gwl station list with grid references and convert grid references to easting, northing, longitude and latitude form for plotting and data alignment."
   ]
  },
  {
   "cell_type": "code",
   "execution_count": null,
   "id": "65a6111e",
   "metadata": {},
   "outputs": [
    {
     "name": "stdout",
     "output_type": "stream",
     "text": [
      "INFO - [eden] Starting coordinate processing for station list...\n",
      "\n",
      "INFO - [eden] Loaded OS grid squares lookup from: data/01_raw/global/os_grid_squares.csv\n",
      "INFO - [eden] Loaded station list from: data/01_raw/eden/gwl_stations/station_list.csv\n",
      "INFO - [eden] Converted OS grid references to coordinates for 15 stations.\n",
      "\n",
      "INFO - [eden] Saved processed station list to: data/02_processed/eden/gwl_station_data/station_list_with_coords.csv\n",
      "INFO - Station location reference table head:\n",
      "\n",
      "  station_id    grid_ref   easting  northing        lat       lon\n",
      "0     NY36_2  NY39146790  339140.0  567900.0  55.001931 -2.952971\n",
      "1     NY46_3  NY46526426  346520.0  564260.0  54.970074 -2.836931\n",
      "2    NY55_71  NY53825337  353820.0  553370.0  54.872953 -2.721158\n",
      "3    NY54_54  NY56354839  356350.0  548390.0  54.828432 -2.680981\n",
      "4    NY54_56  NY51774289  351770.0  542890.0  54.778590 -2.751349\n",
      "\n",
      "INFO - Total Stations: 15\n",
      "INFO - [eden] Coordinate processing for station list complete.\n",
      "\n",
      "INFO - Pipeline step 'Process Station Coordinates for eden' complete.\n",
      "\n"
     ]
    }
   ],
   "source": [
    "for catchment in demo_catchment:\n",
    "\n",
    "    # --- Process Catchment Stations List ----\n",
    "    stations_with_coords_df = process_station_coordinates(\n",
    "        os_grid_squares=config[\"global\"][\"paths\"][\"gis_os_grid_squares\"],\n",
    "        station_list_input=config[catchment][\"paths\"][\"gwl_station_list\"],\n",
    "        station_list_output=config[catchment][\"paths\"][\"gwl_station_list_with_coords\"],\n",
    "        catchment_name=catchment\n",
    "    )\n",
    "\n",
    "    logger.info(f\"Pipeline step 'Process Station Coordinates for {catchment}' complete.\\n\")"
   ]
  }
 ],
 "metadata": {
  "kernelspec": {
   "display_name": "Python 3",
   "language": "python",
   "name": "python3"
  },
  "language_info": {
   "codemirror_mode": {
    "name": "ipython",
    "version": 3
   },
   "file_extension": ".py",
   "mimetype": "text/x-python",
   "name": "python",
   "nbconvert_exporter": "python",
   "pygments_lexer": "ipython3",
   "version": "3.11.4"
  }
 },
 "nbformat": 4,
 "nbformat_minor": 5
}
