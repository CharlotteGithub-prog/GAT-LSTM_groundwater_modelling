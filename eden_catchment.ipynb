{
 "cells": [
  {
   "cell_type": "markdown",
   "id": "8aaffa19",
   "metadata": {},
   "source": [
    "Imports"
   ]
  },
  {
   "cell_type": "code",
   "execution_count": 1,
   "id": "58a7c58e",
   "metadata": {},
   "outputs": [],
   "source": [
    "import pandas as pd\n",
    "import geopandas as gpd\n",
    "import numpy as np\n",
    "from shapely.geometry import box"
   ]
  },
  {
   "cell_type": "markdown",
   "id": "19fd0eee",
   "metadata": {},
   "source": [
    "Mesh building function definition"
   ]
  },
  {
   "cell_type": "code",
   "execution_count": 2,
   "id": "28564091",
   "metadata": {},
   "outputs": [],
   "source": [
    "def build_mesh(shape_filepath, grid_resolution=1000):\n",
    "    \"\"\"\n",
    "    Builds a spatial mesh of nodes (centroids of grid cells) within the input catchment boundary.\n",
    "\n",
    "    Args:\n",
    "        shape_filepath (str): Path to the catchment boundary shapefile.\n",
    "        grid_resolution (int): Resolution of the grid (default 1 km resolution, EPSG:27700 is in meters).\n",
    "\n",
    "    Returns:\n",
    "        tuple: (mesh_nodes_table_df, mesh_nodes_gdf)\n",
    "            - mesh_nodes_table_df (pd.DataFrame): Node ID and coordinates.\n",
    "            - mesh_nodes_gdf (gpd.GeoDataFrame): Node ID, coordinates, and geometry (Point).\n",
    "    \"\"\"\n",
    "    # Load spatial boundary shape file\n",
    "    catchment_polygon = gpd.read_file(shape_filepath)\n",
    "    catchment_polygon = catchment_polygon.to_crs(epsg=27700) # Convert to British National Grid\n",
    "\n",
    "    # Check polygon geometry -> if shapefile has multiple features then dissolve them\n",
    "    if len(catchment_polygon) > 1:\n",
    "        print(\"\\nMultiple polygons found in the catchment boundary. Merging into a single geometry.\")\n",
    "        catchment_geometry = catchment_polygon.unary_union\n",
    "    else:\n",
    "        print(\"\\nSingle polygon found in the catchment boundary.\")\n",
    "        catchment_geometry = catchment_polygon.geometry.iloc[0]\n",
    "\n",
    "    # Get the bounds of the catchment and set grid resolution (in km)\n",
    "    minx, miny, maxx, maxy = catchment_polygon.total_bounds\n",
    "    print(f\"Catchment bounding box: min_x={minx}, min_y={miny}, max_x={maxx}, max_y={maxy}\")\n",
    "\n",
    "    # Generate bottom left coordinates of grid cells\n",
    "    x_coordinates_bottomleft = np.arange(minx, maxx + grid_resolution, grid_resolution)\n",
    "    y_coordinates_bottomleft = np.arange(miny, maxy + grid_resolution, grid_resolution)\n",
    "\n",
    "    print(f\"\\nNumber of x-coordinates (bottom-left): {len(x_coordinates_bottomleft)}\")\n",
    "    print(f\"Number of y-coordinates (bottom-left): {len(y_coordinates_bottomleft)}\")\n",
    "\n",
    "    # Initialise grid cell list and set up regular grid of points within the bounding box\n",
    "    grid_cells = []\n",
    "    for x in x_coordinates_bottomleft:\n",
    "        for y in y_coordinates_bottomleft:\n",
    "            cell = box(x, y, x + grid_resolution, y + grid_resolution)\n",
    "            grid_cells.append(cell)\n",
    "\n",
    "    print(f\"\\nGenerated {len(grid_cells)} grid cells within bounding box (before filtering).\")\n",
    "\n",
    "    grid_gdf = gpd.GeoDataFrame(geometry=grid_cells, crs=\"EPSG:27700\")\n",
    "\n",
    "    # Keep only grid cells that intersect the catchment\n",
    "    grid_intersected = gpd.overlay(grid_gdf, gpd.GeoDataFrame(geometry=[catchment_geometry], crs=\"EPSG:27700\"), how='intersection', keep_geom_type=True)\n",
    "    mesh_nodes_gdf = grid_intersected.copy() # Make copy to avoid SettingWithCopyWarning\n",
    "    print(f\"Filtered down to catchment boundary containing {len(grid_intersected)} nodes\")\n",
    "\n",
    "    ## ---- Convert to table ----\n",
    "\n",
    "    # Calculate the centroid of each (potentially clipped) grid cell\n",
    "    mesh_nodes_gdf['geometry'] = mesh_nodes_gdf.geometry.representative_point() # previously as .centroid\n",
    "\n",
    "    # Add original Easting/Northing coordinates (as in EPSG:27700)\n",
    "    mesh_nodes_gdf['easting'] = mesh_nodes_gdf.geometry.x\n",
    "    mesh_nodes_gdf['northing'] = mesh_nodes_gdf.geometry.y\n",
    "    mesh_nodes_gdf['node_id'] = range(len(mesh_nodes_gdf)) # UNID\n",
    "\n",
    "    # Convert to WGS84 (EPSG:4326) to add lat/lon for visualisations\n",
    "    mesh_nodes_4326 = mesh_nodes_gdf.to_crs(epsg=4326)\n",
    "    mesh_nodes_gdf['lon'] = mesh_nodes_4326.geometry.x\n",
    "    mesh_nodes_gdf['lat'] = mesh_nodes_4326.geometry.y\n",
    "\n",
    "    # Select the columns needed for node table\n",
    "    mesh_nodes_table = mesh_nodes_gdf[['node_id', 'easting', 'northing', 'lon', 'lat']]\n",
    "    \n",
    "    # Save the mesh nodes table and gdf to appropriate files\n",
    "    mesh_nodes_table.to_csv(\"data/eden_catchment_mesh_nodes.csv\", index=False)\n",
    "    mesh_nodes_gdf.to_file(\"data/eden_catchment_mesh_nodes.gpkg\", layer='mesh_nodes', driver='GPKG')  # GeoPackage\n",
    "    # mesh_nodes_gdf.to_file(\"data/eden_catchment_mesh_nodes.shp\", driver='ESRI Shapefile')  # Uncomment to save as Shapefile\n",
    "\n",
    "    print(\"\\nFirst few mesh nodes (centroids with coordinates):\")\n",
    "    print(mesh_nodes_table.head())\n",
    "    print(f\"\\nTotal number of mesh nodes (centroids) for the catchment: {len(mesh_nodes_table)}\\n\")\n",
    "    \n",
    "    return mesh_nodes_table, mesh_nodes_gdf"
   ]
  },
  {
   "cell_type": "markdown",
   "id": "c913dbbb",
   "metadata": {},
   "source": [
    "Create mesh using input shape file"
   ]
  },
  {
   "cell_type": "code",
   "execution_count": 3,
   "id": "c74d1072",
   "metadata": {},
   "outputs": [
    {
     "name": "stdout",
     "output_type": "stream",
     "text": [
      "\n",
      "Single polygon found in the catchment boundary.\n",
      "Catchment bounding box: min_x=326025.0, min_y=495525.0, max_x=388875.0, max_y=581725.0\n",
      "\n",
      "Number of x-coordinates (bottom-left): 64\n",
      "Number of y-coordinates (bottom-left): 88\n",
      "\n",
      "Generated 5632 grid cells within bounding box (before filtering).\n",
      "Filtered down to catchment boundary containing 2477 nodes\n",
      "\n",
      "First few mesh nodes (centroids with coordinates):\n",
      "   node_id   easting  northing       lon        lat\n",
      "0        0  326800.0  528012.5 -3.135741  54.641893\n",
      "1        1  326525.0  528925.0 -3.140231  54.650051\n",
      "2        2  326650.0  529687.5 -3.138486  54.656920\n",
      "3        3  327000.0  539475.0 -3.135516  54.744910\n",
      "4        4  326925.0  539712.5 -3.136740  54.747033\n",
      "\n",
      "Total number of mesh nodes (centroids) for the catchment: 2477\n",
      "\n"
     ]
    }
   ],
   "source": [
    "# Define spatial boundary shape filepath from https://nrfa.ceh.ac.uk/data/station/spatial_download/76007\n",
    "shape_filepath = \"data/eden_catchment_boundary/NRFA_catchments.shp\"\n",
    "mesh_nodes_table, mesh_nodes_gdf = build_mesh(shape_filepath, grid_resolution=1000)"
   ]
  }
 ],
 "metadata": {
  "kernelspec": {
   "display_name": "Python 3",
   "language": "python",
   "name": "python3"
  },
  "language_info": {
   "codemirror_mode": {
    "name": "ipython",
    "version": 3
   },
   "file_extension": ".py",
   "mimetype": "text/x-python",
   "name": "python",
   "nbconvert_exporter": "python",
   "pygments_lexer": "ipython3",
   "version": "3.11.4"
  }
 },
 "nbformat": 4,
 "nbformat_minor": 5
}
